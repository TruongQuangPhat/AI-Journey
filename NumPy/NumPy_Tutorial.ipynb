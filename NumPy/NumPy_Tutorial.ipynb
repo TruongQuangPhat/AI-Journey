{
 "cells": [
  {
   "cell_type": "code",
   "execution_count": 2,
   "id": "a807fdc0",
   "metadata": {},
   "outputs": [],
   "source": [
    "import numpy as np"
   ]
  },
  {
   "cell_type": "markdown",
   "id": "5abd2219",
   "metadata": {},
   "source": [
    "### Creating Numpy Arrays from Python Lists"
   ]
  },
  {
   "cell_type": "code",
   "execution_count": 3,
   "id": "006fad5f",
   "metadata": {},
   "outputs": [
    {
     "data": {
      "text/plain": [
       "array([1, 2, 3, 4])"
      ]
     },
     "execution_count": 3,
     "metadata": {},
     "output_type": "execute_result"
    }
   ],
   "source": [
    "np.array([1, 2, 3, 4])"
   ]
  },
  {
   "cell_type": "code",
   "execution_count": 4,
   "id": "16d39390",
   "metadata": {},
   "outputs": [
    {
     "data": {
      "text/plain": [
       "array([3.14, 2.  , 3.  , 4.  ])"
      ]
     },
     "execution_count": 4,
     "metadata": {},
     "output_type": "execute_result"
    }
   ],
   "source": [
    "np.array([3.14, 2, 3, 4])"
   ]
  },
  {
   "cell_type": "code",
   "execution_count": 5,
   "id": "ecd71f7d",
   "metadata": {},
   "outputs": [
    {
     "data": {
      "text/plain": [
       "array([1., 2., 3., 4.])"
      ]
     },
     "execution_count": 5,
     "metadata": {},
     "output_type": "execute_result"
    }
   ],
   "source": [
    "np.array([1, 2, 3, 4], dtype=float)"
   ]
  },
  {
   "cell_type": "code",
   "execution_count": 6,
   "id": "927cc63c",
   "metadata": {},
   "outputs": [
    {
     "name": "stdout",
     "output_type": "stream",
     "text": [
      "<class 'numpy.ndarray'>\n",
      "(4,)\n",
      "4\n",
      "1\n"
     ]
    }
   ],
   "source": [
    "a1 = np.array([1, 2, 3, 4])\n",
    "print(type(a1))   \n",
    "print(a1.shape)\n",
    "print(a1.size)  \n",
    "print(a1.ndim)                                      "
   ]
  },
  {
   "cell_type": "code",
   "execution_count": 7,
   "id": "ade41705",
   "metadata": {},
   "outputs": [
    {
     "name": "stdout",
     "output_type": "stream",
     "text": [
      "<class 'numpy.ndarray'>\n",
      "(2, 3)\n",
      "6\n",
      "2\n"
     ]
    }
   ],
   "source": [
    "a2 = np.array([[1, 2, 3], [4, 5, 6]])\n",
    "print(type(a2))\n",
    "print(a2.shape)\n",
    "print(a2.size)\n",
    "print(a2.ndim)"
   ]
  },
  {
   "cell_type": "markdown",
   "id": "401fdf8b",
   "metadata": {},
   "source": [
    "### Creating Numpy Arrays from Scratch"
   ]
  },
  {
   "cell_type": "markdown",
   "id": "ff2b3170",
   "metadata": {},
   "source": [
    "#### `zeros`"
   ]
  },
  {
   "cell_type": "code",
   "execution_count": 8,
   "id": "746e6a9f",
   "metadata": {},
   "outputs": [
    {
     "data": {
      "text/plain": [
       "array([[0., 0., 0., 0.],\n",
       "       [0., 0., 0., 0.]])"
      ]
     },
     "execution_count": 8,
     "metadata": {},
     "output_type": "execute_result"
    }
   ],
   "source": [
    "np.zeros((2, 4))"
   ]
  },
  {
   "cell_type": "code",
   "execution_count": 9,
   "id": "4a9eb4b7",
   "metadata": {},
   "outputs": [
    {
     "data": {
      "text/plain": [
       "dtype('float64')"
      ]
     },
     "execution_count": 9,
     "metadata": {},
     "output_type": "execute_result"
    }
   ],
   "source": [
    "np.zeros((2, 4)).dtype"
   ]
  },
  {
   "cell_type": "code",
   "execution_count": 10,
   "id": "0fd28877",
   "metadata": {},
   "outputs": [
    {
     "data": {
      "text/plain": [
       "array([[0, 0, 0, 0],\n",
       "       [0, 0, 0, 0]])"
      ]
     },
     "execution_count": 10,
     "metadata": {},
     "output_type": "execute_result"
    }
   ],
   "source": [
    "np.zeros((2, 4), dtype=int)"
   ]
  },
  {
   "cell_type": "markdown",
   "id": "9b960662",
   "metadata": {},
   "source": [
    "#### `ones`"
   ]
  },
  {
   "cell_type": "code",
   "execution_count": 11,
   "id": "7a328f26",
   "metadata": {},
   "outputs": [
    {
     "data": {
      "text/plain": [
       "array([[1., 1., 1., 1., 1.],\n",
       "       [1., 1., 1., 1., 1.],\n",
       "       [1., 1., 1., 1., 1.]])"
      ]
     },
     "execution_count": 11,
     "metadata": {},
     "output_type": "execute_result"
    }
   ],
   "source": [
    "np.ones((3, 5))"
   ]
  },
  {
   "cell_type": "code",
   "execution_count": 12,
   "id": "485c2885",
   "metadata": {},
   "outputs": [
    {
     "data": {
      "text/plain": [
       "array([[1, 1, 1, 1, 1],\n",
       "       [1, 1, 1, 1, 1],\n",
       "       [1, 1, 1, 1, 1]])"
      ]
     },
     "execution_count": 12,
     "metadata": {},
     "output_type": "execute_result"
    }
   ],
   "source": [
    "np.ones((3, 5), dtype=int)"
   ]
  },
  {
   "cell_type": "markdown",
   "id": "86b3d1fb",
   "metadata": {},
   "source": [
    "#### `arange`"
   ]
  },
  {
   "cell_type": "code",
   "execution_count": 13,
   "id": "f827558a",
   "metadata": {},
   "outputs": [
    {
     "data": {
      "text/plain": [
       "array([ 0,  2,  4,  6,  8, 10, 12, 14, 16, 18])"
      ]
     },
     "execution_count": 13,
     "metadata": {},
     "output_type": "execute_result"
    }
   ],
   "source": [
    "np.arange(0, 20, 2)"
   ]
  },
  {
   "cell_type": "markdown",
   "id": "7df2a059",
   "metadata": {},
   "source": [
    "#### `full`"
   ]
  },
  {
   "cell_type": "code",
   "execution_count": 14,
   "id": "b7e173d8",
   "metadata": {},
   "outputs": [
    {
     "data": {
      "text/plain": [
       "array([[6.9, 6.9, 6.9, 6.9, 6.9],\n",
       "       [6.9, 6.9, 6.9, 6.9, 6.9],\n",
       "       [6.9, 6.9, 6.9, 6.9, 6.9]])"
      ]
     },
     "execution_count": 14,
     "metadata": {},
     "output_type": "execute_result"
    }
   ],
   "source": [
    "np.full((3, 5), 6.9)"
   ]
  },
  {
   "cell_type": "markdown",
   "id": "d223c622",
   "metadata": {},
   "source": [
    "#### `linspace`"
   ]
  },
  {
   "cell_type": "code",
   "execution_count": 15,
   "id": "da2e13be",
   "metadata": {},
   "outputs": [
    {
     "data": {
      "text/plain": [
       "array([0.  , 0.25, 0.5 , 0.75, 1.  ])"
      ]
     },
     "execution_count": 15,
     "metadata": {},
     "output_type": "execute_result"
    }
   ],
   "source": [
    "np.linspace(0, 1, 5)"
   ]
  },
  {
   "cell_type": "markdown",
   "id": "6dab496d",
   "metadata": {},
   "source": [
    "#### `rand`"
   ]
  },
  {
   "cell_type": "code",
   "execution_count": 16,
   "id": "5cd57bae",
   "metadata": {},
   "outputs": [],
   "source": [
    "# seed for reproducibility\n",
    "np.random.seed(0)"
   ]
  },
  {
   "cell_type": "code",
   "execution_count": 17,
   "id": "bebb5700",
   "metadata": {},
   "outputs": [
    {
     "data": {
      "text/plain": [
       "array([[0.5488135 , 0.71518937, 0.60276338, 0.54488318],\n",
       "       [0.4236548 , 0.64589411, 0.43758721, 0.891773  ],\n",
       "       [0.96366276, 0.38344152, 0.79172504, 0.52889492],\n",
       "       [0.56804456, 0.92559664, 0.07103606, 0.0871293 ]])"
      ]
     },
     "execution_count": 17,
     "metadata": {},
     "output_type": "execute_result"
    }
   ],
   "source": [
    "np.random.random((4, 4))"
   ]
  },
  {
   "cell_type": "code",
   "execution_count": 18,
   "id": "c2364ce7",
   "metadata": {},
   "outputs": [
    {
     "data": {
      "text/plain": [
       "array([[ 0.44386323,  0.33367433,  1.49407907],\n",
       "       [-0.20515826,  0.3130677 , -0.85409574],\n",
       "       [-2.55298982,  0.6536186 ,  0.8644362 ]])"
      ]
     },
     "execution_count": 18,
     "metadata": {},
     "output_type": "execute_result"
    }
   ],
   "source": [
    "np.random.normal(0, 1, size=(3, 3))"
   ]
  },
  {
   "cell_type": "code",
   "execution_count": 19,
   "id": "c23dbd23",
   "metadata": {},
   "outputs": [
    {
     "data": {
      "text/plain": [
       "array([[7, 2, 0, 0],\n",
       "       [4, 5, 5, 6],\n",
       "       [8, 4, 1, 4]], dtype=int32)"
      ]
     },
     "execution_count": 19,
     "metadata": {},
     "output_type": "execute_result"
    }
   ],
   "source": [
    "np.random.randint(0, 9, size=(3, 4)) #[0, 9)"
   ]
  },
  {
   "cell_type": "code",
   "execution_count": 20,
   "id": "edb0735a",
   "metadata": {},
   "outputs": [
    {
     "data": {
      "text/plain": [
       "array([[0.6818203 , 0.3595079 , 0.43703195, 0.6976312 ],\n",
       "       [0.06022547, 0.66676672, 0.67063787, 0.21038256],\n",
       "       [0.1289263 , 0.31542835, 0.36371077, 0.57019677],\n",
       "       [0.43860151, 0.98837384, 0.10204481, 0.20887676]])"
      ]
     },
     "execution_count": 20,
     "metadata": {},
     "output_type": "execute_result"
    }
   ],
   "source": [
    "np.random.rand(4, 4)"
   ]
  },
  {
   "cell_type": "markdown",
   "id": "9848aa69",
   "metadata": {},
   "source": [
    "### Array Indexing & Slicing"
   ]
  },
  {
   "cell_type": "markdown",
   "id": "2bbb9b2b",
   "metadata": {},
   "source": [
    "#### `One-dimensional subarray`"
   ]
  },
  {
   "cell_type": "code",
   "execution_count": 21,
   "id": "14ac7c02",
   "metadata": {},
   "outputs": [
    {
     "name": "stdout",
     "output_type": "stream",
     "text": [
      "[ 3 12  4  8 14 15]\n"
     ]
    }
   ],
   "source": [
    "x1 = np.random.randint(0, 20, 6)\n",
    "print(x1)"
   ]
  },
  {
   "cell_type": "code",
   "execution_count": 22,
   "id": "eb527462",
   "metadata": {},
   "outputs": [
    {
     "data": {
      "text/plain": [
       "(np.int32(14), np.int32(3), np.int32(15))"
      ]
     },
     "execution_count": 22,
     "metadata": {},
     "output_type": "execute_result"
    }
   ],
   "source": [
    "x1[4], x1[0], x1[-1]"
   ]
  },
  {
   "cell_type": "markdown",
   "id": "f31fbb29",
   "metadata": {},
   "source": [
    "#### `Multi-demensional subarray`"
   ]
  },
  {
   "cell_type": "code",
   "execution_count": 23,
   "id": "afcfaeed",
   "metadata": {},
   "outputs": [
    {
     "name": "stdout",
     "output_type": "stream",
     "text": [
      "[[4 3 7 5]\n",
      " [5 0 1 5]\n",
      " [9 3 0 5]]\n"
     ]
    }
   ],
   "source": [
    "x2 = np.random.randint(0, 10, size=(3, 4))\n",
    "print(x2)"
   ]
  },
  {
   "cell_type": "code",
   "execution_count": 24,
   "id": "83f15f98",
   "metadata": {},
   "outputs": [
    {
     "data": {
      "text/plain": [
       "np.int32(5)"
      ]
     },
     "execution_count": 24,
     "metadata": {},
     "output_type": "execute_result"
    }
   ],
   "source": [
    "x2[1, 3]"
   ]
  },
  {
   "cell_type": "code",
   "execution_count": 25,
   "id": "5ae51965",
   "metadata": {},
   "outputs": [
    {
     "name": "stdout",
     "output_type": "stream",
     "text": [
      "[[   4    3    7    5]\n",
      " [   5    0    1 1000]\n",
      " [   9    3    0    5]]\n"
     ]
    }
   ],
   "source": [
    "x2[1, 3] = 1000\n",
    "print(x2)"
   ]
  },
  {
   "cell_type": "markdown",
   "id": "f13bbccb",
   "metadata": {},
   "source": [
    "#### `Slicing`\n",
    "x[start:stop:step]"
   ]
  },
  {
   "cell_type": "code",
   "execution_count": 26,
   "id": "897df21d",
   "metadata": {},
   "outputs": [
    {
     "data": {
      "text/plain": [
       "array([ 3, 12,  4,  8, 14, 15], dtype=int32)"
      ]
     },
     "execution_count": 26,
     "metadata": {},
     "output_type": "execute_result"
    }
   ],
   "source": [
    "x1"
   ]
  },
  {
   "cell_type": "code",
   "execution_count": 27,
   "id": "1cea1413",
   "metadata": {},
   "outputs": [
    {
     "data": {
      "text/plain": [
       "array([ 3, 12,  4], dtype=int32)"
      ]
     },
     "execution_count": 27,
     "metadata": {},
     "output_type": "execute_result"
    }
   ],
   "source": [
    "x1[0:3]"
   ]
  },
  {
   "cell_type": "code",
   "execution_count": 28,
   "id": "f8441ed9",
   "metadata": {},
   "outputs": [
    {
     "data": {
      "text/plain": [
       "array([4, 8], dtype=int32)"
      ]
     },
     "execution_count": 28,
     "metadata": {},
     "output_type": "execute_result"
    }
   ],
   "source": [
    "x1[2:4]"
   ]
  },
  {
   "cell_type": "code",
   "execution_count": 29,
   "id": "306aec64",
   "metadata": {},
   "outputs": [
    {
     "data": {
      "text/plain": [
       "array([ 3,  4, 14], dtype=int32)"
      ]
     },
     "execution_count": 29,
     "metadata": {},
     "output_type": "execute_result"
    }
   ],
   "source": [
    "# every other element, every 2 step\n",
    "x1[::2]"
   ]
  },
  {
   "cell_type": "code",
   "execution_count": 30,
   "id": "e1218fce",
   "metadata": {},
   "outputs": [
    {
     "data": {
      "text/plain": [
       "array([[   4,    3,    7,    5],\n",
       "       [   5,    0,    1, 1000],\n",
       "       [   9,    3,    0,    5]], dtype=int32)"
      ]
     },
     "execution_count": 30,
     "metadata": {},
     "output_type": "execute_result"
    }
   ],
   "source": [
    "x2"
   ]
  },
  {
   "cell_type": "code",
   "execution_count": 31,
   "id": "2a299853",
   "metadata": {},
   "outputs": [
    {
     "data": {
      "text/plain": [
       "array([[4, 3, 7],\n",
       "       [5, 0, 1]], dtype=int32)"
      ]
     },
     "execution_count": 31,
     "metadata": {},
     "output_type": "execute_result"
    }
   ],
   "source": [
    "# two rows, three columns\n",
    "x2[:2, :3]"
   ]
  },
  {
   "cell_type": "code",
   "execution_count": 32,
   "id": "d88eb339",
   "metadata": {},
   "outputs": [
    {
     "data": {
      "text/plain": [
       "array([[4, 3],\n",
       "       [5, 0],\n",
       "       [9, 3]], dtype=int32)"
      ]
     },
     "execution_count": 32,
     "metadata": {},
     "output_type": "execute_result"
    }
   ],
   "source": [
    "x2[:, :2]"
   ]
  },
  {
   "cell_type": "markdown",
   "id": "6961324c",
   "metadata": {},
   "source": [
    "### Comparison operators"
   ]
  },
  {
   "cell_type": "code",
   "execution_count": 33,
   "id": "b9f42e3d",
   "metadata": {},
   "outputs": [],
   "source": [
    "scores = np.array([91, 55, 100, 73, 82, 64])"
   ]
  },
  {
   "cell_type": "code",
   "execution_count": 34,
   "id": "cd0c6a0a",
   "metadata": {},
   "outputs": [
    {
     "data": {
      "text/plain": [
       "array([False, False,  True, False, False, False])"
      ]
     },
     "execution_count": 34,
     "metadata": {},
     "output_type": "execute_result"
    }
   ],
   "source": [
    "scores == 100"
   ]
  },
  {
   "cell_type": "code",
   "execution_count": 35,
   "id": "225697cc",
   "metadata": {},
   "outputs": [
    {
     "data": {
      "text/plain": [
       "array([ True, False,  True,  True,  True,  True])"
      ]
     },
     "execution_count": 35,
     "metadata": {},
     "output_type": "execute_result"
    }
   ],
   "source": [
    "scores >= 60"
   ]
  },
  {
   "cell_type": "code",
   "execution_count": 36,
   "id": "617f4a55",
   "metadata": {},
   "outputs": [
    {
     "data": {
      "text/plain": [
       "array([ 91,   0, 100,  73,  82,  64])"
      ]
     },
     "execution_count": 36,
     "metadata": {},
     "output_type": "execute_result"
    }
   ],
   "source": [
    "scores[scores < 60] = 0\n",
    "scores"
   ]
  },
  {
   "cell_type": "markdown",
   "id": "fbbc8a66",
   "metadata": {},
   "source": [
    "### Reshaping of Arrays & Transpose"
   ]
  },
  {
   "cell_type": "markdown",
   "id": "cb14a745",
   "metadata": {},
   "source": [
    "#### `reshape`"
   ]
  },
  {
   "cell_type": "code",
   "execution_count": 37,
   "id": "b1f76efe",
   "metadata": {},
   "outputs": [
    {
     "data": {
      "text/plain": [
       "(9,)"
      ]
     },
     "execution_count": 37,
     "metadata": {},
     "output_type": "execute_result"
    }
   ],
   "source": [
    "grid = np.arange(1, 10)\n",
    "grid.shape"
   ]
  },
  {
   "cell_type": "code",
   "execution_count": 38,
   "id": "1764410f",
   "metadata": {},
   "outputs": [
    {
     "data": {
      "text/plain": [
       "array([[1, 2, 3],\n",
       "       [4, 5, 6],\n",
       "       [7, 8, 9]])"
      ]
     },
     "execution_count": 38,
     "metadata": {},
     "output_type": "execute_result"
    }
   ],
   "source": [
    "grid.reshape(3, 3)"
   ]
  },
  {
   "cell_type": "code",
   "execution_count": 39,
   "id": "32c91fe8",
   "metadata": {},
   "outputs": [
    {
     "data": {
      "text/plain": [
       "(3,)"
      ]
     },
     "execution_count": 39,
     "metadata": {},
     "output_type": "execute_result"
    }
   ],
   "source": [
    "x = np.array([1, 2, 3])\n",
    "x.shape"
   ]
  },
  {
   "cell_type": "code",
   "execution_count": 40,
   "id": "cf935ed8",
   "metadata": {},
   "outputs": [
    {
     "data": {
      "text/plain": [
       "(1, 3)"
      ]
     },
     "execution_count": 40,
     "metadata": {},
     "output_type": "execute_result"
    }
   ],
   "source": [
    "x.reshape(1, 3).shape"
   ]
  },
  {
   "cell_type": "markdown",
   "id": "0a2b8adf",
   "metadata": {},
   "source": [
    "#### `Transpose`"
   ]
  },
  {
   "cell_type": "code",
   "execution_count": 41,
   "id": "21660ca3",
   "metadata": {},
   "outputs": [
    {
     "name": "stdout",
     "output_type": "stream",
     "text": [
      "[[1 2]\n",
      " [3 4]]\n"
     ]
    }
   ],
   "source": [
    "x = np.array([[1, 2], [3, 4]])\n",
    "print(x)"
   ]
  },
  {
   "cell_type": "code",
   "execution_count": 42,
   "id": "b35b6765",
   "metadata": {},
   "outputs": [
    {
     "data": {
      "text/plain": [
       "array([[1, 3],\n",
       "       [2, 4]])"
      ]
     },
     "execution_count": 42,
     "metadata": {},
     "output_type": "execute_result"
    }
   ],
   "source": [
    "x.T"
   ]
  },
  {
   "cell_type": "markdown",
   "id": "da3f5b7b",
   "metadata": {},
   "source": [
    "### Array Concatenation Splitting"
   ]
  },
  {
   "cell_type": "markdown",
   "id": "4b7c47d1",
   "metadata": {},
   "source": [
    "#### `concatenate`"
   ]
  },
  {
   "cell_type": "code",
   "execution_count": 43,
   "id": "cc22399a",
   "metadata": {},
   "outputs": [],
   "source": [
    "x = np.array([1, 2, 3])\n",
    "y = np.array([3, 2, 1])"
   ]
  },
  {
   "cell_type": "code",
   "execution_count": 44,
   "id": "3b13318d",
   "metadata": {},
   "outputs": [
    {
     "data": {
      "text/plain": [
       "array([1, 2, 3, 3, 2, 1])"
      ]
     },
     "execution_count": 44,
     "metadata": {},
     "output_type": "execute_result"
    }
   ],
   "source": [
    "np.concatenate((x, y)) # defual axis=0 (axis=0 => rows, axis=1 => cols)"
   ]
  },
  {
   "cell_type": "code",
   "execution_count": 45,
   "id": "86d7a504",
   "metadata": {},
   "outputs": [
    {
     "name": "stdout",
     "output_type": "stream",
     "text": [
      "[[1 2 3]\n",
      " [4 5 6]]\n"
     ]
    }
   ],
   "source": [
    "grid = np.array([[1, 2, 3],\n",
    "                  [4, 5, 6]])\n",
    "print(grid)"
   ]
  },
  {
   "cell_type": "code",
   "execution_count": 46,
   "id": "87c3c0b8",
   "metadata": {},
   "outputs": [
    {
     "data": {
      "text/plain": [
       "array([[1, 2, 3],\n",
       "       [4, 5, 6],\n",
       "       [1, 2, 3],\n",
       "       [4, 5, 6]])"
      ]
     },
     "execution_count": 46,
     "metadata": {},
     "output_type": "execute_result"
    }
   ],
   "source": [
    "np.concatenate((grid, grid), axis=0)"
   ]
  },
  {
   "cell_type": "code",
   "execution_count": 47,
   "id": "bcf39afc",
   "metadata": {},
   "outputs": [
    {
     "data": {
      "text/plain": [
       "array([[1, 2, 3, 1, 2, 3],\n",
       "       [4, 5, 6, 4, 5, 6]])"
      ]
     },
     "execution_count": 47,
     "metadata": {},
     "output_type": "execute_result"
    }
   ],
   "source": [
    "np.concatenate((grid, grid), axis=1)"
   ]
  },
  {
   "cell_type": "markdown",
   "id": "a77c5d89",
   "metadata": {},
   "source": [
    "#### `vstack(vertical stack)`"
   ]
  },
  {
   "cell_type": "code",
   "execution_count": 48,
   "id": "1379ad34",
   "metadata": {},
   "outputs": [],
   "source": [
    "x = np.array([1, 2, 3])\n",
    "grid = np.array([[9, 8, 7], [6, 5, 4]])"
   ]
  },
  {
   "cell_type": "code",
   "execution_count": 49,
   "id": "ed629dae",
   "metadata": {},
   "outputs": [
    {
     "data": {
      "text/plain": [
       "array([[1, 2, 3],\n",
       "       [9, 8, 7],\n",
       "       [6, 5, 4]])"
      ]
     },
     "execution_count": 49,
     "metadata": {},
     "output_type": "execute_result"
    }
   ],
   "source": [
    "np.vstack((x, grid))"
   ]
  },
  {
   "cell_type": "markdown",
   "id": "45a32fd4",
   "metadata": {},
   "source": [
    "#### `hstack(horizontal stack)`"
   ]
  },
  {
   "cell_type": "code",
   "execution_count": 50,
   "id": "9ef567ec",
   "metadata": {},
   "outputs": [
    {
     "data": {
      "text/plain": [
       "array([[99,  9,  8,  7],\n",
       "       [99,  6,  5,  4]])"
      ]
     },
     "execution_count": 50,
     "metadata": {},
     "output_type": "execute_result"
    }
   ],
   "source": [
    "y = np.array([[99], [99]])\n",
    "np.hstack((y, grid))"
   ]
  },
  {
   "cell_type": "markdown",
   "id": "7a7e6b30",
   "metadata": {},
   "source": [
    "#### `Splitting of arrays`"
   ]
  },
  {
   "cell_type": "code",
   "execution_count": 51,
   "id": "e431a5f5",
   "metadata": {},
   "outputs": [],
   "source": [
    "x = np.array([1, 2, 3, 99, 69, 3, 2, 1])"
   ]
  },
  {
   "cell_type": "code",
   "execution_count": 52,
   "id": "0b3397e7",
   "metadata": {},
   "outputs": [],
   "source": [
    "x1, x2, x3 = np.split(x, [3, 5])"
   ]
  },
  {
   "cell_type": "markdown",
   "id": "c69adcd3",
   "metadata": {},
   "source": [
    "### Broadcasting and Vectorized operations\n",
    "Broadcasting is simply a set of rules for applying binary ufuncs (e.g., addition, subtraction, mulplication, divison, etc.) on arrays of different sizes\n",
    "<p align=\"center\">\n",
    "  <img src=\"Images/broadcasting.png\" alt=\"example\">\n",
    "</p>\n"
   ]
  },
  {
   "cell_type": "code",
   "execution_count": 53,
   "id": "4adf0aed",
   "metadata": {},
   "outputs": [
    {
     "data": {
      "text/plain": [
       "array([5, 6, 7])"
      ]
     },
     "execution_count": 53,
     "metadata": {},
     "output_type": "execute_result"
    }
   ],
   "source": [
    "a = np.arange(3) # [0, 1, 2]\n",
    "a + 5 # Broadcasting"
   ]
  },
  {
   "cell_type": "code",
   "execution_count": 54,
   "id": "ae1ddde5",
   "metadata": {},
   "outputs": [],
   "source": [
    "b = np.ones((3, 3))"
   ]
  },
  {
   "cell_type": "code",
   "execution_count": 55,
   "id": "c051f2fc",
   "metadata": {},
   "outputs": [
    {
     "data": {
      "text/plain": [
       "((3, 3), (3,))"
      ]
     },
     "execution_count": 55,
     "metadata": {},
     "output_type": "execute_result"
    }
   ],
   "source": [
    "b.shape, a.shape"
   ]
  },
  {
   "cell_type": "code",
   "execution_count": 56,
   "id": "73051b01",
   "metadata": {},
   "outputs": [
    {
     "data": {
      "text/plain": [
       "array([[1., 2., 3.],\n",
       "       [1., 2., 3.],\n",
       "       [1., 2., 3.]])"
      ]
     },
     "execution_count": 56,
     "metadata": {},
     "output_type": "execute_result"
    }
   ],
   "source": [
    "b + a"
   ]
  },
  {
   "cell_type": "code",
   "execution_count": 57,
   "id": "4f77d462",
   "metadata": {},
   "outputs": [
    {
     "data": {
      "text/plain": [
       "array([[0, 1, 2],\n",
       "       [1, 2, 3],\n",
       "       [2, 3, 4]])"
      ]
     },
     "execution_count": 57,
     "metadata": {},
     "output_type": "execute_result"
    }
   ],
   "source": [
    "a.reshape(3, 1) + a"
   ]
  },
  {
   "cell_type": "markdown",
   "id": "a32eaade",
   "metadata": {},
   "source": [
    "### Manipulating & Compating Arrays"
   ]
  },
  {
   "cell_type": "markdown",
   "id": "b70e3567",
   "metadata": {},
   "source": [
    "#### `Aggregation`"
   ]
  },
  {
   "cell_type": "code",
   "execution_count": 58,
   "id": "92cfa992",
   "metadata": {},
   "outputs": [],
   "source": [
    "list_number = [1, 2, 3]"
   ]
  },
  {
   "cell_type": "code",
   "execution_count": 59,
   "id": "4998206a",
   "metadata": {},
   "outputs": [],
   "source": [
    "ll = np.array(list_number)"
   ]
  },
  {
   "cell_type": "code",
   "execution_count": 60,
   "id": "50af3fca",
   "metadata": {},
   "outputs": [
    {
     "data": {
      "text/plain": [
       "np.int64(6)"
      ]
     },
     "execution_count": 60,
     "metadata": {},
     "output_type": "execute_result"
    }
   ],
   "source": [
    "sum(ll) # Pyyhon sum"
   ]
  },
  {
   "cell_type": "code",
   "execution_count": 61,
   "id": "755cb7f3",
   "metadata": {},
   "outputs": [
    {
     "data": {
      "text/plain": [
       "np.int64(6)"
      ]
     },
     "execution_count": 61,
     "metadata": {},
     "output_type": "execute_result"
    }
   ],
   "source": [
    "np.sum(ll) # Numpy sum"
   ]
  },
  {
   "cell_type": "code",
   "execution_count": 62,
   "id": "2f112b3a",
   "metadata": {},
   "outputs": [],
   "source": [
    "# Create a massive Numpy array\n",
    "massive_array = np.random.random(10000)"
   ]
  },
  {
   "cell_type": "code",
   "execution_count": 63,
   "id": "92c20faa",
   "metadata": {},
   "outputs": [
    {
     "name": "stdout",
     "output_type": "stream",
     "text": [
      "650 μs ± 47.9 μs per loop (mean ± std. dev. of 7 runs, 1,000 loops each)\n",
      "5.95 μs ± 188 ns per loop (mean ± std. dev. of 7 runs, 100,000 loops each)\n"
     ]
    }
   ],
   "source": [
    "%timeit sum(massive_array)\n",
    "%timeit np.sum(massive_array)"
   ]
  },
  {
   "cell_type": "code",
   "execution_count": 64,
   "id": "764524b3",
   "metadata": {},
   "outputs": [
    {
     "data": {
      "text/plain": [
       "np.float64(0.9999709462497284)"
      ]
     },
     "execution_count": 64,
     "metadata": {},
     "output_type": "execute_result"
    }
   ],
   "source": [
    "np.max(massive_array)"
   ]
  },
  {
   "cell_type": "code",
   "execution_count": 65,
   "id": "45760cd7",
   "metadata": {},
   "outputs": [
    {
     "data": {
      "text/plain": [
       "np.float64(2.0027530115096503e-05)"
      ]
     },
     "execution_count": 65,
     "metadata": {},
     "output_type": "execute_result"
    }
   ],
   "source": [
    "np.min(massive_array)"
   ]
  },
  {
   "cell_type": "markdown",
   "id": "a498ce42",
   "metadata": {},
   "source": [
    "#### `Math & Arithmetic`"
   ]
  },
  {
   "cell_type": "code",
   "execution_count": 66,
   "id": "85a5c146",
   "metadata": {},
   "outputs": [],
   "source": [
    "a = np.array([1, 2, 3])\n",
    "b = np.array([3, 2, 1])"
   ]
  },
  {
   "cell_type": "code",
   "execution_count": 67,
   "id": "5201bf40",
   "metadata": {},
   "outputs": [
    {
     "data": {
      "text/plain": [
       "array([4, 4, 4])"
      ]
     },
     "execution_count": 67,
     "metadata": {},
     "output_type": "execute_result"
    }
   ],
   "source": [
    "np.add(a, b) # a + b"
   ]
  },
  {
   "cell_type": "code",
   "execution_count": 68,
   "id": "92ca1db3",
   "metadata": {},
   "outputs": [
    {
     "data": {
      "text/plain": [
       "array([-2,  0,  2])"
      ]
     },
     "execution_count": 68,
     "metadata": {},
     "output_type": "execute_result"
    }
   ],
   "source": [
    "np.subtract(a, b) # a - b"
   ]
  },
  {
   "cell_type": "code",
   "execution_count": 69,
   "id": "c8d7b9dc",
   "metadata": {},
   "outputs": [
    {
     "data": {
      "text/plain": [
       "array([3, 4, 3])"
      ]
     },
     "execution_count": 69,
     "metadata": {},
     "output_type": "execute_result"
    }
   ],
   "source": [
    "np.multiply(a, b) # a * b"
   ]
  },
  {
   "cell_type": "code",
   "execution_count": 70,
   "id": "5af7b402",
   "metadata": {},
   "outputs": [
    {
     "data": {
      "text/plain": [
       "array([0.33333333, 1.        , 3.        ])"
      ]
     },
     "execution_count": 70,
     "metadata": {},
     "output_type": "execute_result"
    }
   ],
   "source": [
    "np.divide(a, b) # a / b"
   ]
  },
  {
   "cell_type": "code",
   "execution_count": 71,
   "id": "f3af8c1d",
   "metadata": {},
   "outputs": [
    {
     "data": {
      "text/plain": [
       "(array([0, 1, 3]), array([1, 0, 0]))"
      ]
     },
     "execution_count": 71,
     "metadata": {},
     "output_type": "execute_result"
    }
   ],
   "source": [
    "np.divmod(a, b) # a // b"
   ]
  },
  {
   "cell_type": "code",
   "execution_count": 72,
   "id": "13ca8708",
   "metadata": {},
   "outputs": [
    {
     "data": {
      "text/plain": [
       "array([1, 4, 9])"
      ]
     },
     "execution_count": 72,
     "metadata": {},
     "output_type": "execute_result"
    }
   ],
   "source": [
    "np.power(a, 2) # a ** 2"
   ]
  },
  {
   "cell_type": "code",
   "execution_count": 73,
   "id": "9665f79d",
   "metadata": {},
   "outputs": [
    {
     "data": {
      "text/plain": [
       "array([1.        , 1.41421356, 1.73205081])"
      ]
     },
     "execution_count": 73,
     "metadata": {},
     "output_type": "execute_result"
    }
   ],
   "source": [
    "np.sqrt(a)"
   ]
  },
  {
   "cell_type": "code",
   "execution_count": 74,
   "id": "f9898f2f",
   "metadata": {},
   "outputs": [
    {
     "data": {
      "text/plain": [
       "array([ 2.71828183,  7.3890561 , 20.08553692])"
      ]
     },
     "execution_count": 74,
     "metadata": {},
     "output_type": "execute_result"
    }
   ],
   "source": [
    "np.exp(a)"
   ]
  },
  {
   "cell_type": "code",
   "execution_count": 75,
   "id": "5453872b",
   "metadata": {},
   "outputs": [
    {
     "data": {
      "text/plain": [
       "array([0.        , 0.69314718, 1.09861229])"
      ]
     },
     "execution_count": 75,
     "metadata": {},
     "output_type": "execute_result"
    }
   ],
   "source": [
    "np.log(a)"
   ]
  },
  {
   "cell_type": "code",
   "execution_count": 76,
   "id": "269ba316",
   "metadata": {},
   "outputs": [
    {
     "data": {
      "text/plain": [
       "array([1, 2, 3])"
      ]
     },
     "execution_count": 76,
     "metadata": {},
     "output_type": "execute_result"
    }
   ],
   "source": [
    "np.abs(a)"
   ]
  },
  {
   "cell_type": "code",
   "execution_count": 77,
   "id": "8a0adf85",
   "metadata": {},
   "outputs": [
    {
     "data": {
      "text/plain": [
       "array([1., 1., 1.])"
      ]
     },
     "execution_count": 77,
     "metadata": {},
     "output_type": "execute_result"
    }
   ],
   "source": [
    "epsilon = 1e-15\n",
    "\"\"\"\n",
    "np.clip() is used to limit the values in an array to a specified range.\n",
    "\"\"\"\n",
    "np.clip(a, epsilon, 1 - epsilon)"
   ]
  },
  {
   "cell_type": "markdown",
   "id": "3fba95ac",
   "metadata": {},
   "source": [
    "#### `where()`"
   ]
  },
  {
   "cell_type": "code",
   "execution_count": 78,
   "id": "3de1a462",
   "metadata": {},
   "outputs": [
    {
     "name": "stdout",
     "output_type": "stream",
     "text": [
      "[ 0  1  2  3  4 50 60 70 80 90]\n"
     ]
    }
   ],
   "source": [
    "a = np.arange(10)\n",
    "print(np.where(a < 5, a, 10 * a))"
   ]
  },
  {
   "cell_type": "markdown",
   "id": "75b74c0e",
   "metadata": {},
   "source": [
    "### Sorting Arrays\n",
    "np.sort() uses an quick sort algorithm"
   ]
  },
  {
   "cell_type": "code",
   "execution_count": 79,
   "id": "43b6ba9e",
   "metadata": {},
   "outputs": [
    {
     "data": {
      "text/plain": [
       "array([1, 2, 3, 4, 5])"
      ]
     },
     "execution_count": 79,
     "metadata": {},
     "output_type": "execute_result"
    }
   ],
   "source": [
    "x = np.array([2, 1, 4, 3, 5])\n",
    "np.sort(x)"
   ]
  },
  {
   "cell_type": "code",
   "execution_count": 80,
   "id": "f00c148a",
   "metadata": {},
   "outputs": [
    {
     "data": {
      "text/plain": [
       "array([1, 0, 3, 2, 4])"
      ]
     },
     "execution_count": 80,
     "metadata": {},
     "output_type": "execute_result"
    }
   ],
   "source": [
    "# a related function is argsort, which instead returns the indices of the sorted elements\n",
    "np.argsort(x)"
   ]
  },
  {
   "cell_type": "markdown",
   "id": "4d761532",
   "metadata": {},
   "source": [
    "#### `Sorting along rows or columns`\n",
    "NumPy's sorting algorithm is the ability to sort along speccific rows or columns of a multidimensional array using the axis argument"
   ]
  },
  {
   "cell_type": "code",
   "execution_count": 81,
   "id": "0b5a8fa1",
   "metadata": {},
   "outputs": [],
   "source": [
    "np.random.seed(42)\n",
    "\n",
    "MatA = np.random.randint(0, 10, size=(4, 5))"
   ]
  },
  {
   "cell_type": "code",
   "execution_count": 82,
   "id": "6f3bb542",
   "metadata": {},
   "outputs": [
    {
     "data": {
      "text/plain": [
       "array([[6, 3, 7, 4, 6],\n",
       "       [9, 2, 6, 7, 4],\n",
       "       [3, 7, 7, 2, 5],\n",
       "       [4, 1, 7, 5, 1]], dtype=int32)"
      ]
     },
     "execution_count": 82,
     "metadata": {},
     "output_type": "execute_result"
    }
   ],
   "source": [
    "MatA"
   ]
  },
  {
   "cell_type": "code",
   "execution_count": 83,
   "id": "a5e8905f",
   "metadata": {},
   "outputs": [
    {
     "data": {
      "text/plain": [
       "array([[3, 1, 6, 2, 1],\n",
       "       [4, 2, 7, 4, 4],\n",
       "       [6, 3, 7, 5, 5],\n",
       "       [9, 7, 7, 7, 6]], dtype=int32)"
      ]
     },
     "execution_count": 83,
     "metadata": {},
     "output_type": "execute_result"
    }
   ],
   "source": [
    "np.sort(MatA, axis=0)"
   ]
  },
  {
   "cell_type": "code",
   "execution_count": 84,
   "id": "732e5ca8",
   "metadata": {},
   "outputs": [
    {
     "data": {
      "text/plain": [
       "array([[3, 4, 6, 6, 7],\n",
       "       [2, 4, 6, 7, 9],\n",
       "       [2, 3, 5, 7, 7],\n",
       "       [1, 1, 4, 5, 7]], dtype=int32)"
      ]
     },
     "execution_count": 84,
     "metadata": {},
     "output_type": "execute_result"
    }
   ],
   "source": [
    "np.sort(MatA, axis=1)"
   ]
  },
  {
   "cell_type": "markdown",
   "id": "e8a879a4",
   "metadata": {},
   "source": [
    "### Distribution"
   ]
  },
  {
   "cell_type": "markdown",
   "id": "3137c622",
   "metadata": {},
   "source": [
    "#### `Uniform Distribution`"
   ]
  },
  {
   "cell_type": "code",
   "execution_count": 85,
   "id": "e0f862bc",
   "metadata": {},
   "outputs": [
    {
     "data": {
      "text/plain": [
       "array([[0.18182497, 0.18340451, 0.30424224, 0.52475643],\n",
       "       [0.43194502, 0.29122914, 0.61185289, 0.13949386],\n",
       "       [0.29214465, 0.36636184, 0.45606998, 0.78517596]])"
      ]
     },
     "execution_count": 85,
     "metadata": {},
     "output_type": "execute_result"
    }
   ],
   "source": [
    "np.random.uniform(low=0.0, high=1.0, size=(3, 4))"
   ]
  },
  {
   "cell_type": "markdown",
   "id": "46ccb285",
   "metadata": {},
   "source": [
    "#### `Normal Distribution`"
   ]
  },
  {
   "cell_type": "code",
   "execution_count": 86,
   "id": "f6f2ccbf",
   "metadata": {},
   "outputs": [
    {
     "data": {
      "text/plain": [
       "array([[ 0.0675282 , -1.42474819, -0.54438272,  0.11092259],\n",
       "       [-1.15099358,  0.37569802, -0.60063869, -0.29169375],\n",
       "       [-0.60170661,  1.85227818, -0.01349722, -1.05771093]])"
      ]
     },
     "execution_count": 86,
     "metadata": {},
     "output_type": "execute_result"
    }
   ],
   "source": [
    "np.random.normal(loc=0.0, scale=1.0, size=(3, 4))"
   ]
  },
  {
   "cell_type": "markdown",
   "id": "48055d6e",
   "metadata": {},
   "source": [
    "#### `Exponential Distribution`"
   ]
  },
  {
   "cell_type": "code",
   "execution_count": 87,
   "id": "dd1f36d3",
   "metadata": {},
   "outputs": [
    {
     "data": {
      "text/plain": [
       "array([[ 0.10498116,  7.20126866,  0.89837333,  3.2587674 ],\n",
       "       [ 1.12063974,  2.20233269,  2.37367139,  0.6131658 ],\n",
       "       [10.4784214 ,  4.47673613,  8.41528326,  6.75645599]])"
      ]
     },
     "execution_count": 87,
     "metadata": {},
     "output_type": "execute_result"
    }
   ],
   "source": [
    "np.random.exponential(3.0, size=(3, 4))"
   ]
  },
  {
   "cell_type": "markdown",
   "id": "88cc2582",
   "metadata": {},
   "source": [
    "#### `Binomial Distribution`"
   ]
  },
  {
   "cell_type": "code",
   "execution_count": 88,
   "id": "cb82f840",
   "metadata": {},
   "outputs": [
    {
     "data": {
      "text/plain": [
       "array([5, 7, 3, 4, 2], dtype=int32)"
      ]
     },
     "execution_count": 88,
     "metadata": {},
     "output_type": "execute_result"
    }
   ],
   "source": [
    "np.random.binomial(10, 0.5, size=5)"
   ]
  },
  {
   "cell_type": "markdown",
   "id": "5bd549da",
   "metadata": {},
   "source": [
    "#### `Poisson Distribution`"
   ]
  },
  {
   "cell_type": "code",
   "execution_count": 89,
   "id": "9da3ba94",
   "metadata": {},
   "outputs": [
    {
     "data": {
      "text/plain": [
       "array([2, 3, 2, 3, 4], dtype=int32)"
      ]
     },
     "execution_count": 89,
     "metadata": {},
     "output_type": "execute_result"
    }
   ],
   "source": [
    "np.random.poisson(3.0, size=5)"
   ]
  },
  {
   "cell_type": "markdown",
   "id": "21142eff",
   "metadata": {},
   "source": [
    "### Statistics"
   ]
  },
  {
   "cell_type": "code",
   "execution_count": 90,
   "id": "628150b2",
   "metadata": {},
   "outputs": [
    {
     "data": {
      "text/plain": [
       "np.float64(0.5014071673347639)"
      ]
     },
     "execution_count": 90,
     "metadata": {},
     "output_type": "execute_result"
    }
   ],
   "source": [
    "np.mean(massive_array)"
   ]
  },
  {
   "cell_type": "code",
   "execution_count": 91,
   "id": "e881cb64",
   "metadata": {},
   "outputs": [
    {
     "data": {
      "text/plain": [
       "np.float64(0.08264590341248054)"
      ]
     },
     "execution_count": 91,
     "metadata": {},
     "output_type": "execute_result"
    }
   ],
   "source": [
    "np.var(massive_array)"
   ]
  },
  {
   "cell_type": "code",
   "execution_count": 92,
   "id": "83169cfc",
   "metadata": {},
   "outputs": [
    {
     "data": {
      "text/plain": [
       "np.float64(0.2874820053716068)"
      ]
     },
     "execution_count": 92,
     "metadata": {},
     "output_type": "execute_result"
    }
   ],
   "source": [
    "np.std(massive_array)"
   ]
  },
  {
   "cell_type": "code",
   "execution_count": 93,
   "id": "f4bfe3eb",
   "metadata": {},
   "outputs": [
    {
     "data": {
      "text/plain": [
       "array(0.08265417)"
      ]
     },
     "execution_count": 93,
     "metadata": {},
     "output_type": "execute_result"
    }
   ],
   "source": [
    "np.cov(massive_array)"
   ]
  },
  {
   "cell_type": "code",
   "execution_count": 94,
   "id": "3bd73357",
   "metadata": {},
   "outputs": [
    {
     "data": {
      "text/plain": [
       "np.float64(1.0)"
      ]
     },
     "execution_count": 94,
     "metadata": {},
     "output_type": "execute_result"
    }
   ],
   "source": [
    "np.corrcoef(massive_array)"
   ]
  },
  {
   "cell_type": "markdown",
   "id": "b4012984",
   "metadata": {},
   "source": [
    "### Linear Algebra"
   ]
  },
  {
   "cell_type": "code",
   "execution_count": 95,
   "id": "f848c879",
   "metadata": {},
   "outputs": [],
   "source": [
    "A = np.array([[1, 2, 3], [4, 5, 6], [7, 8, 9]])\n",
    "B = np.array([[6, 5], [4, 3], [2, 1]])"
   ]
  },
  {
   "cell_type": "code",
   "execution_count": 96,
   "id": "c229042d",
   "metadata": {},
   "outputs": [
    {
     "name": "stdout",
     "output_type": "stream",
     "text": [
      "(3, 3)\n",
      "(3, 2)\n"
     ]
    }
   ],
   "source": [
    "print(A.shape)\n",
    "print(B.shape)"
   ]
  },
  {
   "cell_type": "code",
   "execution_count": 97,
   "id": "c48a72dd",
   "metadata": {},
   "outputs": [
    {
     "data": {
      "text/plain": [
       "array([[20, 14],\n",
       "       [56, 41],\n",
       "       [92, 68]])"
      ]
     },
     "execution_count": 97,
     "metadata": {},
     "output_type": "execute_result"
    }
   ],
   "source": [
    "np.dot(A, B)"
   ]
  },
  {
   "cell_type": "code",
   "execution_count": 98,
   "id": "b639e999",
   "metadata": {},
   "outputs": [
    {
     "data": {
      "text/plain": [
       "array([[6, 4, 2],\n",
       "       [5, 3, 1]])"
      ]
     },
     "execution_count": 98,
     "metadata": {},
     "output_type": "execute_result"
    }
   ],
   "source": [
    "B.T"
   ]
  },
  {
   "cell_type": "code",
   "execution_count": 99,
   "id": "1caabeeb",
   "metadata": {},
   "outputs": [
    {
     "data": {
      "text/plain": [
       "array([[36, 48, 60],\n",
       "       [24, 33, 42]])"
      ]
     },
     "execution_count": 99,
     "metadata": {},
     "output_type": "execute_result"
    }
   ],
   "source": [
    "B.T @ A"
   ]
  },
  {
   "cell_type": "code",
   "execution_count": 100,
   "id": "442b2258",
   "metadata": {},
   "outputs": [],
   "source": [
    "A = np.array([[1, 2], [3, 4]])"
   ]
  },
  {
   "cell_type": "code",
   "execution_count": 101,
   "id": "552f9c95",
   "metadata": {},
   "outputs": [
    {
     "data": {
      "text/plain": [
       "array([[-2. ,  1. ],\n",
       "       [ 1.5, -0.5]])"
      ]
     },
     "execution_count": 101,
     "metadata": {},
     "output_type": "execute_result"
    }
   ],
   "source": [
    "np.linalg.inv(A)"
   ]
  },
  {
   "cell_type": "code",
   "execution_count": 102,
   "id": "8a0c9d77",
   "metadata": {},
   "outputs": [
    {
     "data": {
      "text/plain": [
       "np.float64(-2.0000000000000004)"
      ]
     },
     "execution_count": 102,
     "metadata": {},
     "output_type": "execute_result"
    }
   ],
   "source": [
    "np.linalg.det(A)"
   ]
  },
  {
   "cell_type": "code",
   "execution_count": 103,
   "id": "a929811a",
   "metadata": {},
   "outputs": [
    {
     "name": "stdout",
     "output_type": "stream",
     "text": [
      "[-0.37228132  5.37228132]\n",
      "[[-0.82456484 -0.41597356]\n",
      " [ 0.56576746 -0.90937671]]\n"
     ]
    }
   ],
   "source": [
    "eig_vals, eigvecs = np.linalg.eig(A)\n",
    "print(eig_vals)\n",
    "print(eigvecs)"
   ]
  },
  {
   "cell_type": "markdown",
   "id": "2ce53c30",
   "metadata": {},
   "source": [
    "### Dot Product Example"
   ]
  },
  {
   "cell_type": "code",
   "execution_count": 104,
   "id": "1bb32eec",
   "metadata": {},
   "outputs": [],
   "source": [
    "import pandas as pd"
   ]
  },
  {
   "cell_type": "code",
   "execution_count": 105,
   "id": "874fc409",
   "metadata": {},
   "outputs": [],
   "source": [
    "np.random.seed(0)"
   ]
  },
  {
   "cell_type": "code",
   "execution_count": 106,
   "id": "1e9baf04",
   "metadata": {},
   "outputs": [
    {
     "name": "stdout",
     "output_type": "stream",
     "text": [
      "[[12 15  0]\n",
      " [ 3  3  7]\n",
      " [ 9 19 18]\n",
      " [ 4  6 12]\n",
      " [ 1  6  7]]\n"
     ]
    }
   ],
   "source": [
    "sales_amounts = np.random.randint(20, size=(5, 3))\n",
    "print(sales_amounts)"
   ]
  },
  {
   "cell_type": "code",
   "execution_count": 107,
   "id": "10459f5f",
   "metadata": {},
   "outputs": [],
   "source": [
    "weekly_sales = pd.DataFrame(sales_amounts, index=[\"Mon\", \"Tues\", \"Wed\", \"Thurs\", \"Fri\"], \n",
    "                            columns=[\"Almond Butter\", \"Peanut Butter\", \"Cashew Butter\"])"
   ]
  },
  {
   "cell_type": "code",
   "execution_count": 108,
   "id": "077dcfd6",
   "metadata": {},
   "outputs": [
    {
     "name": "stdout",
     "output_type": "stream",
     "text": [
      "       Almond Butter  Peanut Butter  Cashew Butter\n",
      "Mon               12             15              0\n",
      "Tues               3              3              7\n",
      "Wed                9             19             18\n",
      "Thurs              4              6             12\n",
      "Fri                1              6              7\n"
     ]
    }
   ],
   "source": [
    "print(weekly_sales)"
   ]
  },
  {
   "cell_type": "code",
   "execution_count": 109,
   "id": "c211c1f7",
   "metadata": {},
   "outputs": [],
   "source": [
    "# create a price array\n",
    "prices = np.array([10, 8, 12])"
   ]
  },
  {
   "cell_type": "code",
   "execution_count": 110,
   "id": "603c970d",
   "metadata": {},
   "outputs": [],
   "source": [
    "butter_prices = pd.DataFrame(prices.reshape(1, 3), index=[\"Price\"], columns=[\"Almond Butter\", \"Peanut Butter\", \"Cashew Butter\"])"
   ]
  },
  {
   "cell_type": "code",
   "execution_count": 111,
   "id": "a8e133f9",
   "metadata": {},
   "outputs": [
    {
     "name": "stdout",
     "output_type": "stream",
     "text": [
      "       Almond Butter  Peanut Butter  Cashew Butter\n",
      "Price             10              8             12\n"
     ]
    }
   ],
   "source": [
    "print(butter_prices)"
   ]
  },
  {
   "cell_type": "code",
   "execution_count": 112,
   "id": "05f22f1b",
   "metadata": {},
   "outputs": [
    {
     "data": {
      "text/plain": [
       "((5, 3), (1, 3))"
      ]
     },
     "execution_count": 112,
     "metadata": {},
     "output_type": "execute_result"
    }
   ],
   "source": [
    "weekly_sales.shape, butter_prices.shape"
   ]
  },
  {
   "cell_type": "code",
   "execution_count": 113,
   "id": "6fac31c5",
   "metadata": {},
   "outputs": [],
   "source": [
    "total_prices = np.dot(weekly_sales, butter_prices.T)"
   ]
  },
  {
   "cell_type": "code",
   "execution_count": 114,
   "id": "29ba8988",
   "metadata": {},
   "outputs": [
    {
     "name": "stdout",
     "output_type": "stream",
     "text": [
      "       Almond Butter  Peanut Butter  Cashew Butter  Total prices\n",
      "Mon               12             15              0           240\n",
      "Tues               3              3              7           138\n",
      "Wed                9             19             18           458\n",
      "Thurs              4              6             12           232\n",
      "Fri                1              6              7           142\n"
     ]
    }
   ],
   "source": [
    "weekly_sales[\"Total prices\"] = total_prices\n",
    "print(weekly_sales)"
   ]
  }
 ],
 "metadata": {
  "kernelspec": {
   "display_name": "Python 3",
   "language": "python",
   "name": "python3"
  },
  "language_info": {
   "codemirror_mode": {
    "name": "ipython",
    "version": 3
   },
   "file_extension": ".py",
   "mimetype": "text/x-python",
   "name": "python",
   "nbconvert_exporter": "python",
   "pygments_lexer": "ipython3",
   "version": "3.13.0"
  }
 },
 "nbformat": 4,
 "nbformat_minor": 5
}
