{
 "cells": [
  {
   "cell_type": "code",
   "execution_count": 32,
   "id": "4bddde5e",
   "metadata": {},
   "outputs": [],
   "source": [
    "import numpy as np"
   ]
  },
  {
   "cell_type": "markdown",
   "id": "4a24a06b",
   "metadata": {},
   "source": [
    "1. Tạo mảng 1 chiều\n",
    "Yêu cầu: Tạo mảng NumPy 1 chiều gồm các số từ 0 đến 9."
   ]
  },
  {
   "cell_type": "code",
   "execution_count": 33,
   "id": "2a3c63f2",
   "metadata": {},
   "outputs": [
    {
     "name": "stdout",
     "output_type": "stream",
     "text": [
      "[0 1 2 3 4 5 6 7 8 9]\n"
     ]
    }
   ],
   "source": [
    "arr = np.arange(10)\n",
    "print(arr)"
   ]
  },
  {
   "cell_type": "code",
   "execution_count": 34,
   "id": "56ddf845",
   "metadata": {},
   "outputs": [
    {
     "name": "stdout",
     "output_type": "stream",
     "text": [
      "[0 1 2 3 4 5 6 7 8 9]\n"
     ]
    }
   ],
   "source": [
    "arr = np.linspace(0, 9, 10, dtype=int)\n",
    "print(arr)"
   ]
  },
  {
   "cell_type": "markdown",
   "id": "6dd90f73",
   "metadata": {},
   "source": [
    "2. Tạo mảng 2 chiều\n",
    "Yêu cầu: Tạo mảng 2 chiều (3x3) với giá trị từ 1 đến 9."
   ]
  },
  {
   "cell_type": "code",
   "execution_count": 35,
   "id": "caafda8f",
   "metadata": {},
   "outputs": [
    {
     "name": "stdout",
     "output_type": "stream",
     "text": [
      "[[1 2 3]\n",
      " [4 5 6]\n",
      " [7 8 9]]\n"
     ]
    }
   ],
   "source": [
    "arr = np.array([[1, 2, 3], [4, 5, 6], [7, 8, 9]])\n",
    "print(arr)"
   ]
  },
  {
   "cell_type": "code",
   "execution_count": 36,
   "id": "5bc43d14",
   "metadata": {},
   "outputs": [
    {
     "name": "stdout",
     "output_type": "stream",
     "text": [
      "[[1 2 3]\n",
      " [4 5 6]\n",
      " [7 8 9]]\n"
     ]
    }
   ],
   "source": [
    "arr = np.arange(1, 10).reshape(3, 3)\n",
    "print(arr)"
   ]
  },
  {
   "cell_type": "markdown",
   "id": "3383e06c",
   "metadata": {},
   "source": [
    "3. Truy cập phần tử\n",
    "Yêu cầu: Truy cập phần tử ở hàng 2, cột 3 trong mảng 2 chiều."
   ]
  },
  {
   "cell_type": "code",
   "execution_count": 37,
   "id": "77c55877",
   "metadata": {},
   "outputs": [
    {
     "name": "stdout",
     "output_type": "stream",
     "text": [
      "11\n"
     ]
    }
   ],
   "source": [
    "arr = np.arange(12).reshape(3, 4)\n",
    "print(arr[2, 3])"
   ]
  },
  {
   "cell_type": "markdown",
   "id": "6b837451",
   "metadata": {},
   "source": [
    "4. Cắt mảng\n",
    "Yêu cầu: Cắt lấy hàng đầu tiên của mảng 2 chiều."
   ]
  },
  {
   "cell_type": "code",
   "execution_count": 38,
   "id": "58dcce2e",
   "metadata": {},
   "outputs": [
    {
     "data": {
      "text/plain": [
       "array([0, 1, 2, 3])"
      ]
     },
     "execution_count": 38,
     "metadata": {},
     "output_type": "execute_result"
    }
   ],
   "source": [
    "arr[0, :]"
   ]
  },
  {
   "cell_type": "markdown",
   "id": "151fb16a",
   "metadata": {},
   "source": [
    "5. Tính tổng các phần tử\n",
    "Yêu cầu: Tính tổng các phần tử của mảng."
   ]
  },
  {
   "cell_type": "code",
   "execution_count": 39,
   "id": "3431d50a",
   "metadata": {},
   "outputs": [
    {
     "name": "stdout",
     "output_type": "stream",
     "text": [
      "66\n"
     ]
    }
   ],
   "source": [
    "print(np.sum(arr))"
   ]
  },
  {
   "cell_type": "markdown",
   "id": "9fa5cd0e",
   "metadata": {},
   "source": [
    "6. Tạo mảng toàn số 0\n",
    "Yêu cầu: Tạo mảng 4x4 toàn số 0."
   ]
  },
  {
   "cell_type": "code",
   "execution_count": 40,
   "id": "1f45a13e",
   "metadata": {},
   "outputs": [
    {
     "name": "stdout",
     "output_type": "stream",
     "text": [
      "[[0. 0. 0. 0.]\n",
      " [0. 0. 0. 0.]\n",
      " [0. 0. 0. 0.]\n",
      " [0. 0. 0. 0.]]\n"
     ]
    }
   ],
   "source": [
    "arr = np.zeros((4, 4))\n",
    "print(arr)"
   ]
  },
  {
   "cell_type": "markdown",
   "id": "42e0b403",
   "metadata": {},
   "source": [
    "7. Mảng đơn vị\n",
    "Yêu cầu: Tạo ma trận đơn vị kích thước 5x5."
   ]
  },
  {
   "cell_type": "code",
   "execution_count": 41,
   "id": "923c30dd",
   "metadata": {},
   "outputs": [
    {
     "name": "stdout",
     "output_type": "stream",
     "text": [
      "[[1. 0. 0. 0. 0.]\n",
      " [0. 1. 0. 0. 0.]\n",
      " [0. 0. 1. 0. 0.]\n",
      " [0. 0. 0. 1. 0.]\n",
      " [0. 0. 0. 0. 1.]]\n"
     ]
    }
   ],
   "source": [
    "arr = np.eye(5)\n",
    "print(arr)"
   ]
  },
  {
   "cell_type": "markdown",
   "id": "1902277e",
   "metadata": {},
   "source": [
    "8. Tạo mảng ngẫu nhiên\n",
    "Yêu cầu: Tạo mảng 1 chiều gồm 10 số ngẫu nhiên từ 0 đến 1."
   ]
  },
  {
   "cell_type": "code",
   "execution_count": 42,
   "id": "b33fc235",
   "metadata": {},
   "outputs": [
    {
     "name": "stdout",
     "output_type": "stream",
     "text": [
      "[0.96797294 0.87132027 0.25264934 0.56731673 0.29074613 0.68904535\n",
      " 0.81772782 0.7730931  0.23784503 0.27593357]\n"
     ]
    }
   ],
   "source": [
    "arr = np.random.rand(10)\n",
    "print(arr)"
   ]
  },
  {
   "cell_type": "markdown",
   "id": "be94fa6f",
   "metadata": {},
   "source": [
    "9. Đổi kích thước mảng\n",
    "Yêu cầu: Chuyển mảng 1 chiều gồm 12 phần tử thành mảng 3x4."
   ]
  },
  {
   "cell_type": "code",
   "execution_count": 43,
   "id": "decbc692",
   "metadata": {},
   "outputs": [
    {
     "name": "stdout",
     "output_type": "stream",
     "text": [
      "[[ 0  1  2  3]\n",
      " [ 4  5  6  7]\n",
      " [ 8  9 10 11]]\n"
     ]
    }
   ],
   "source": [
    "arr = np.arange(12).reshape(3, 4)\n",
    "print(arr)"
   ]
  },
  {
   "cell_type": "markdown",
   "id": "a4765f78",
   "metadata": {},
   "source": [
    "10. Tính dot product\n",
    "Yêu cầu: Tính tích vô hướng (dot product) giữa hai vector 1 chiều."
   ]
  },
  {
   "cell_type": "code",
   "execution_count": 44,
   "id": "a9c28e0e",
   "metadata": {},
   "outputs": [
    {
     "name": "stdout",
     "output_type": "stream",
     "text": [
      "[ 50 122]\n"
     ]
    }
   ],
   "source": [
    "a = np.array([[1, 2, 3], [4, 5, 6]])\n",
    "b = np.array([7, 8, 9])\n",
    "print(np.dot(a, b))"
   ]
  },
  {
   "cell_type": "markdown",
   "id": "c10a6d15",
   "metadata": {},
   "source": [
    "11. Norm của vector\n",
    "Yêu cầu: Tính chuẩn (norm) của một vector."
   ]
  },
  {
   "cell_type": "code",
   "execution_count": 53,
   "id": "39e70050",
   "metadata": {},
   "outputs": [
    {
     "name": "stdout",
     "output_type": "stream",
     "text": [
      "5.0\n"
     ]
    }
   ],
   "source": [
    "arr = np.array([3, 4])\n",
    "norm = np.linalg.norm(arr)\n",
    "print(norm)"
   ]
  },
  {
   "cell_type": "markdown",
   "id": "baf4b959",
   "metadata": {},
   "source": [
    "12. Determinant\n",
    "Yêu cầu: Tính định thức của ma trận 3x3."
   ]
  },
  {
   "cell_type": "code",
   "execution_count": 45,
   "id": "ba1c030c",
   "metadata": {},
   "outputs": [
    {
     "name": "stdout",
     "output_type": "stream",
     "text": [
      "0.017894966797964058\n"
     ]
    }
   ],
   "source": [
    "arr = np.random.rand(3, 3)\n",
    "print(np.linalg.det(arr))"
   ]
  },
  {
   "cell_type": "markdown",
   "id": "e1c3abfb",
   "metadata": {},
   "source": [
    "13. Inverse của ma trận\n",
    "Yêu cầu: Tính ma trận nghịch đảo của ma trận 2x2."
   ]
  },
  {
   "cell_type": "code",
   "execution_count": 46,
   "id": "5817351b",
   "metadata": {},
   "outputs": [
    {
     "name": "stdout",
     "output_type": "stream",
     "text": [
      "[[-2.   1. ]\n",
      " [ 1.5 -0.5]]\n"
     ]
    }
   ],
   "source": [
    "arr = np.array([[1, 2], [3, 4]])\n",
    "print(np.linalg.inv(arr))"
   ]
  },
  {
   "cell_type": "markdown",
   "id": "52c0e0cb",
   "metadata": {},
   "source": [
    "14. Broadcasting\n",
    "Yêu cầu: Cộng một vector 1x3 vào ma trận 3x3 sử dụng broadcasting."
   ]
  },
  {
   "cell_type": "code",
   "execution_count": 47,
   "id": "6ef87b8d",
   "metadata": {},
   "outputs": [
    {
     "name": "stdout",
     "output_type": "stream",
     "text": [
      "[[ 1  3  5]\n",
      " [ 4  6  8]\n",
      " [ 7  9 11]]\n"
     ]
    }
   ],
   "source": [
    "a = np.array([1, 2, 3])\n",
    "b = np.arange(9).reshape(3, 3)\n",
    "print(a + b)"
   ]
  },
  {
   "cell_type": "markdown",
   "id": "c5bb3c02",
   "metadata": {},
   "source": [
    "15. Indexing nâng cao\n",
    "Yêu cầu: Chọn ra các phần tử chẵn trong mảng 1 chiều."
   ]
  },
  {
   "cell_type": "code",
   "execution_count": 57,
   "id": "98b3b37c",
   "metadata": {},
   "outputs": [
    {
     "name": "stdout",
     "output_type": "stream",
     "text": [
      "[2 4 6 8]\n"
     ]
    }
   ],
   "source": [
    "arr = np.array([1, 2, 3, 4, 5, 6, 7, 8, 9])\n",
    "even_numbers = arr[arr % 2 == 0]\n",
    "print(even_numbers)"
   ]
  },
  {
   "cell_type": "markdown",
   "id": "ba4046d9",
   "metadata": {},
   "source": [
    "16. Tạo ma trận chéo\n",
    "Yêu cầu: Tạo ma trận chéo từ vector [1, 2, 3, 4]."
   ]
  },
  {
   "cell_type": "code",
   "execution_count": 58,
   "id": "2a86688d",
   "metadata": {},
   "outputs": [
    {
     "name": "stdout",
     "output_type": "stream",
     "text": [
      "[[1 0 0 0]\n",
      " [0 2 0 0]\n",
      " [0 0 3 0]\n",
      " [0 0 0 4]]\n"
     ]
    }
   ],
   "source": [
    "arr = np.arange(1, 5)\n",
    "print(np.diag(arr))"
   ]
  },
  {
   "cell_type": "markdown",
   "id": "0ea0069f",
   "metadata": {},
   "source": [
    "17. So sánh hai mảng\n",
    "Yêu cầu: So sánh hai mảng xem chúng có bằng nhau phần tử tương ứng\n",
    "hay không."
   ]
  },
  {
   "cell_type": "code",
   "execution_count": 49,
   "id": "01a48ba6",
   "metadata": {},
   "outputs": [
    {
     "name": "stdout",
     "output_type": "stream",
     "text": [
      "[ True  True  True]\n"
     ]
    }
   ],
   "source": [
    "a = np.array([1, 2, 3])\n",
    "b = np.array([1, 2, 3])\n",
    "print(a == b)"
   ]
  },
  {
   "cell_type": "markdown",
   "id": "96a7f131",
   "metadata": {},
   "source": [
    "18. Thay giá trị theo điều kiện\n",
    "Yêu cầu: Thay mọi giá trị lớn hơn 5 trong mảng bằng 0."
   ]
  },
  {
   "cell_type": "code",
   "execution_count": 63,
   "id": "34cd01dd",
   "metadata": {},
   "outputs": [
    {
     "name": "stdout",
     "output_type": "stream",
     "text": [
      "[0 1 2 3 4 5 0 0 0 0 0 0 0 0 0]\n"
     ]
    }
   ],
   "source": [
    "arr = np.arange(15)\n",
    "arr[arr > 5] = 0\n",
    "print(arr)"
   ]
  },
  {
   "cell_type": "markdown",
   "id": "d6b1940a",
   "metadata": {},
   "source": [
    "19. Tính tổng theo cột\n",
    "Yêu cầu: Tính tổng từng cột trong ma trận 3x3."
   ]
  },
  {
   "cell_type": "code",
   "execution_count": 51,
   "id": "3afbeef2",
   "metadata": {},
   "outputs": [
    {
     "name": "stdout",
     "output_type": "stream",
     "text": [
      "[ 9 12 15]\n"
     ]
    }
   ],
   "source": [
    "arr = np.arange(9).reshape(3, 3)\n",
    "print(np.sum(arr, axis=0))"
   ]
  },
  {
   "cell_type": "markdown",
   "id": "705eb20e",
   "metadata": {},
   "source": [
    "20. Tính trung bình từng hàng\n",
    "Yêu cầu: Tính giá trị trung bình từng hàng của ma trận 3x4."
   ]
  },
  {
   "cell_type": "code",
   "execution_count": 52,
   "id": "93aa242f",
   "metadata": {},
   "outputs": [
    {
     "name": "stdout",
     "output_type": "stream",
     "text": [
      "[1.5 5.5 9.5]\n"
     ]
    }
   ],
   "source": [
    "arr = np.arange(12).reshape(3, 4)\n",
    "print(np.mean(arr, axis=1))"
   ]
  }
 ],
 "metadata": {
  "kernelspec": {
   "display_name": "Python 3",
   "language": "python",
   "name": "python3"
  },
  "language_info": {
   "codemirror_mode": {
    "name": "ipython",
    "version": 3
   },
   "file_extension": ".py",
   "mimetype": "text/x-python",
   "name": "python",
   "nbconvert_exporter": "python",
   "pygments_lexer": "ipython3",
   "version": "3.13.0"
  }
 },
 "nbformat": 4,
 "nbformat_minor": 5
}
