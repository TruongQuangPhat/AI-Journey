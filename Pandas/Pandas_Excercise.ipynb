{
 "cells": [
  {
   "cell_type": "code",
   "execution_count": 1,
   "id": "ae76025c",
   "metadata": {},
   "outputs": [],
   "source": [
    "import pandas as pd\n",
    "import numpy as np"
   ]
  },
  {
   "cell_type": "markdown",
   "id": "cafbebee",
   "metadata": {},
   "source": [
    "1. Tạo DataFrame từ Dictionary\n",
    "Yêu cầu: Tạo một DataFrame đơn giản từ một dictionary gồm tên, tuổi,\n",
    "giới tính."
   ]
  },
  {
   "cell_type": "code",
   "execution_count": 2,
   "id": "628cf42f",
   "metadata": {},
   "outputs": [
    {
     "name": "stdout",
     "output_type": "stream",
     "text": [
      "            Name  Age Gender\n",
      "Student 1   Phat   22   Male\n",
      "Student 2  Phong   21   Male\n",
      "Student 3   Phuc   21   Male\n"
     ]
    }
   ],
   "source": [
    "dict = {\n",
    "    \"Name\" : [\"Phat\", \"Phong\", \"Phuc\"],\n",
    "    \"Age\" : [22, 21, 21],\n",
    "    \"Gender\" : [\"Male\", \"Male\", \"Male\"]\n",
    "}\n",
    "\n",
    "df = pd.DataFrame(dict, index=[\"Student 1\", \"Student 2\", \"Student 3\"])\n",
    "print(df)"
   ]
  },
  {
   "cell_type": "markdown",
   "id": "7193c2b7",
   "metadata": {},
   "source": [
    "2. Đọc file CSV\n",
    "Yêu cầu: Sử dụng pandas để đọc file CSV và hiển thị 5 dòng đầu tiên."
   ]
  },
  {
   "cell_type": "code",
   "execution_count": 3,
   "id": "75f6659f",
   "metadata": {},
   "outputs": [],
   "source": [
    "\"\"\"\n",
    "Create file .cvs from dictionary\n",
    "\"\"\"\n",
    "dict = {\n",
    "    \"Name\" : [\"Phat\", \"Phong\", \"Phuc\", \"Phu\", \"Phuoc\"],\n",
    "    \"Age\" : [22, 21, 21, 21, 21],\n",
    "    \"Gender\" : [\"Male\", \"Male\", \"Male\", \"Male\", \"Male\"]\n",
    "}\n",
    "\n",
    "df = pd.DataFrame(dict)\n",
    "df.to_csv(\"Samples_Data.csv\", index=False)"
   ]
  },
  {
   "cell_type": "code",
   "execution_count": 4,
   "id": "b42c3dda",
   "metadata": {},
   "outputs": [
    {
     "name": "stdout",
     "output_type": "stream",
     "text": [
      "    Name  Age Gender\n",
      "0   Phat   22   Male\n",
      "1  Phong   21   Male\n",
      "2   Phuc   21   Male\n",
      "3    Phu   21   Male\n",
      "4  Phuoc   21   Male\n"
     ]
    }
   ],
   "source": [
    "df = pd.read_csv(\"Samples_Data.csv\")\n",
    "print(df.head())"
   ]
  },
  {
   "cell_type": "markdown",
   "id": "351779f8",
   "metadata": {},
   "source": [
    "3. Truy cập cột\n",
    "Yêu cầu: Lấy ra cột 'tuổi' từ DataFrame."
   ]
  },
  {
   "cell_type": "code",
   "execution_count": 5,
   "id": "7e20a3cf",
   "metadata": {},
   "outputs": [
    {
     "name": "stdout",
     "output_type": "stream",
     "text": [
      "0    22\n",
      "1    21\n",
      "2    21\n",
      "3    21\n",
      "4    21\n",
      "Name: Age, dtype: int64\n"
     ]
    }
   ],
   "source": [
    "df = pd.read_csv(\"Samples_Data.csv\")\n",
    "print(df.loc[:, \"Age\"]) # df[\"Age\"]"
   ]
  },
  {
   "cell_type": "markdown",
   "id": "8bf4aa97",
   "metadata": {},
   "source": [
    "4. Truy cập hàng theo chỉ số\n",
    "Yêu cầu: Truy cập hàng thứ 3 (index = 2) trong DataFrame."
   ]
  },
  {
   "cell_type": "code",
   "execution_count": 6,
   "id": "2c816bdf",
   "metadata": {},
   "outputs": [
    {
     "name": "stdout",
     "output_type": "stream",
     "text": [
      "   Name  Age Gender\n",
      "2  Phuc   21   Male\n"
     ]
    }
   ],
   "source": [
    "df = pd.read_csv(\"Samples_Data.csv\")\n",
    "print(df.iloc[[2]]) "
   ]
  },
  {
   "cell_type": "markdown",
   "id": "ac810a33",
   "metadata": {},
   "source": [
    "5. Truy cập theo điều kiện\n",
    "Yêu cầu: Lọc các dòng có tuổi > 21."
   ]
  },
  {
   "cell_type": "code",
   "execution_count": 7,
   "id": "045a5192",
   "metadata": {},
   "outputs": [
    {
     "name": "stdout",
     "output_type": "stream",
     "text": [
      "   Name  Age Gender\n",
      "0  Phat   22   Male\n"
     ]
    }
   ],
   "source": [
    "df = pd.read_csv(\"Samples_Data.csv\")\n",
    "df_cond = df[df[\"Age\"] > 21]\n",
    "print(df_cond)"
   ]
  },
  {
   "cell_type": "markdown",
   "id": "9e95eac0",
   "metadata": {},
   "source": [
    "6. Thêm cột mới\n",
    "Yêu cầu: Thêm một cột 'điểm' vào DataFrame với giá trị ngẫu nhiên."
   ]
  },
  {
   "cell_type": "code",
   "execution_count": 8,
   "id": "e84a5f5f",
   "metadata": {},
   "outputs": [
    {
     "name": "stdout",
     "output_type": "stream",
     "text": [
      "    Name  Age\n",
      "0   Phat   20\n",
      "1   Phuc   16\n",
      "2  Phong   17\n",
      "3    Phu   13\n",
      "4  Phuoc   14\n"
     ]
    }
   ],
   "source": [
    "name = np.array([\"Phat\", \"Phuc\", \"Phong\", \"Phu\", \"Phuoc\"])\n",
    "df = pd.DataFrame(name, columns=[\"Name\"])\n",
    "\n",
    "age = np.random.randint(10, 22, size=5)\n",
    "df[\"Age\"] = age\n",
    "print(df)\n"
   ]
  },
  {
   "cell_type": "markdown",
   "id": "80ff483c",
   "metadata": {},
   "source": [
    "7. Xóa cột\n",
    "Yêu cầu: Xóa cột 'giới tính' khỏi DataFrame."
   ]
  },
  {
   "cell_type": "code",
   "execution_count": 9,
   "id": "f95367dd",
   "metadata": {},
   "outputs": [
    {
     "name": "stdout",
     "output_type": "stream",
     "text": [
      "    Name  Age Gender\n",
      "0   Phat   22   Male\n",
      "1  Phong   21   Male\n",
      "2   Phuc   21   Male\n",
      "3    Phu   21   Male\n",
      "4  Phuoc   21   Male\n"
     ]
    }
   ],
   "source": [
    "df = pd.read_csv(\"Samples_Data.csv\")\n",
    "print(df)\n"
   ]
  },
  {
   "cell_type": "code",
   "execution_count": 10,
   "id": "52b95ad2",
   "metadata": {},
   "outputs": [
    {
     "name": "stdout",
     "output_type": "stream",
     "text": [
      "    Name\n",
      "0   Phat\n",
      "1  Phong\n",
      "2   Phuc\n",
      "3    Phu\n",
      "4  Phuoc\n"
     ]
    }
   ],
   "source": [
    "df.drop([\"Age\", \"Gender\"], axis=1, inplace=True)\n",
    "print(df)"
   ]
  },
  {
   "cell_type": "markdown",
   "id": "fead057d",
   "metadata": {},
   "source": [
    "8. Tính trung bình\n",
    "Yêu cầu: Tính tuổi trung bình của các dòng trong DataFrame."
   ]
  },
  {
   "cell_type": "code",
   "execution_count": 11,
   "id": "a92497bd",
   "metadata": {},
   "outputs": [
    {
     "name": "stdout",
     "output_type": "stream",
     "text": [
      "21.2\n"
     ]
    }
   ],
   "source": [
    "df = pd.read_csv(\"Samples_Data.csv\")\n",
    "print(np.mean(df[\"Age\"])) # df[\"Age\"].mean()"
   ]
  },
  {
   "cell_type": "markdown",
   "id": "b019931e",
   "metadata": {},
   "source": [
    "9. Groupby\n",
    "Yêu cầu: Tính tuổi trung bình theo từng giới tính."
   ]
  },
  {
   "cell_type": "code",
   "execution_count": 12,
   "id": "37380f67",
   "metadata": {},
   "outputs": [
    {
     "name": "stdout",
     "output_type": "stream",
     "text": [
      "    Name  Age Gender\n",
      "0   Phat   22   Male\n",
      "1  Phong   21   Male\n",
      "2   Phuc   21   Male\n",
      "3    Phu   21   Male\n",
      "4  Phuoc   21   Male\n"
     ]
    }
   ],
   "source": [
    "df = pd.read_csv(\"Samples_Data.csv\")\n",
    "print(df)"
   ]
  },
  {
   "cell_type": "code",
   "execution_count": 13,
   "id": "c7872975",
   "metadata": {},
   "outputs": [
    {
     "name": "stdout",
     "output_type": "stream",
     "text": [
      "    Name  Age  Gender\n",
      "0   Phat   22    Male\n",
      "1  Phong   21    Male\n",
      "2   Phuc   21    Male\n",
      "3    Phu   21    Male\n",
      "4  Phuoc   21    Male\n",
      "5    Tot   22  Female\n"
     ]
    }
   ],
   "source": [
    "\"\"\"\n",
    "Add a new row \n",
    "\"\"\"\n",
    "new_row = pd.DataFrame({\"Name\" : [\"Tot\"], \"Age\" : [22], \"Gender\" : [\"Female\"]})\n",
    "df = pd.concat((df, new_row), ignore_index=True)\n",
    "df.to_csv(\"Samples_Data.csv\", index=False)\n",
    "print(df)"
   ]
  },
  {
   "cell_type": "code",
   "execution_count": 14,
   "id": "ab5efe3c",
   "metadata": {},
   "outputs": [
    {
     "name": "stdout",
     "output_type": "stream",
     "text": [
      "Gender\n",
      "Female    22.0\n",
      "Male      21.2\n",
      "Name: Age, dtype: float64\n"
     ]
    }
   ],
   "source": [
    "gb = df.groupby([\"Gender\"])[\"Age\"].mean()\n",
    "print(gb)"
   ]
  },
  {
   "cell_type": "markdown",
   "id": "050040c2",
   "metadata": {},
   "source": [
    "10. Sắp xếp\n",
    "Yêu cầu: Sắp xếp DataFrame theo tuổi giảm dần."
   ]
  },
  {
   "cell_type": "code",
   "execution_count": 15,
   "id": "65738862",
   "metadata": {},
   "outputs": [
    {
     "name": "stdout",
     "output_type": "stream",
     "text": [
      "    Name  Age  Gender\n",
      "0   Phat   22    Male\n",
      "5    Tot   22  Female\n",
      "1  Phong   21    Male\n",
      "2   Phuc   21    Male\n",
      "3    Phu   21    Male\n",
      "4  Phuoc   21    Male\n"
     ]
    }
   ],
   "source": [
    "df = pd.read_csv(\"Samples_Data.csv\")\n",
    "df.sort_values([\"Age\"], ascending=False, inplace=True)\n",
    "print(df)"
   ]
  },
  {
   "cell_type": "markdown",
   "id": "46bf86b0",
   "metadata": {},
   "source": [
    "11. Apply function\n",
    "Yêu cầu: Áp dụng hàm tính bình phương lên cột 'tuổi'."
   ]
  },
  {
   "cell_type": "code",
   "execution_count": 16,
   "id": "dffd1e3c",
   "metadata": {},
   "outputs": [
    {
     "name": "stdout",
     "output_type": "stream",
     "text": [
      "    Name  Age  Gender\n",
      "0   Phat   22    Male\n",
      "1  Phong   21    Male\n",
      "2   Phuc   21    Male\n",
      "3    Phu   21    Male\n",
      "4  Phuoc   21    Male\n",
      "5    Tot   22  Female\n"
     ]
    }
   ],
   "source": [
    "df = pd.read_csv(\"Samples_Data.csv\")\n",
    "print(df)"
   ]
  },
  {
   "cell_type": "code",
   "execution_count": 17,
   "id": "74f3bc1f",
   "metadata": {},
   "outputs": [
    {
     "name": "stdout",
     "output_type": "stream",
     "text": [
      "    Name  Age  Gender  Age Square\n",
      "0   Phat   22    Male         484\n",
      "1  Phong   21    Male         441\n",
      "2   Phuc   21    Male         441\n",
      "3    Phu   21    Male         441\n",
      "4  Phuoc   21    Male         441\n",
      "5    Tot   22  Female         484\n"
     ]
    }
   ],
   "source": [
    "df[\"Age Square\"] = df[\"Age\"].apply(lambda x: x ** 2)\n",
    "print(df)"
   ]
  },
  {
   "cell_type": "markdown",
   "id": "21cad6c9",
   "metadata": {},
   "source": [
    "12. Gộp DataFrame\n",
    "Yêu cầu: Gộp 2 DataFrame theo chiều dọc (append)."
   ]
  },
  {
   "cell_type": "code",
   "execution_count": 18,
   "id": "f352ab6f",
   "metadata": {},
   "outputs": [
    {
     "name": "stdout",
     "output_type": "stream",
     "text": [
      "    Name  Age\n",
      "0   Phat   22\n",
      "1   Phuc   21\n",
      "2  Phong   22\n",
      "3  Phuoc   23\n",
      "   Name  Age   Name  Age\n",
      "0  Phat   22  Phong   22\n",
      "1  Phuc   21  Phuoc   23\n"
     ]
    }
   ],
   "source": [
    "df1 = pd.DataFrame({\"Name\" : [\"Phat\", \"Phuc\"], \"Age\" : [22, 21]})\n",
    "df2 = pd.DataFrame({\"Name\" : [\"Phong\", \"Phuoc\"], \"Age\" : [22, 23]})\n",
    "\n",
    "df_row = pd.concat([df1, df2], ignore_index=True)\n",
    "print(df_row)\n",
    "df_col = pd.concat([df1, df2], axis=1)\n",
    "print(df_col)"
   ]
  },
  {
   "cell_type": "markdown",
   "id": "24027f3d",
   "metadata": {},
   "source": [
    "13. Merge DataFrame\n",
    "Yêu cầu: Merge 2 DataFrame theo cột 'id'."
   ]
  },
  {
   "cell_type": "code",
   "execution_count": 19,
   "id": "ad860584",
   "metadata": {},
   "outputs": [],
   "source": [
    "df1 = pd.DataFrame({\"ID\": [1, 2, 3], \"Name\": [\"Phat\", \"Phuc\", \"Phong\"]})\n",
    "df2 = pd.DataFrame({\"ID\": [2, 3, 4], \"Age\": [21, 22, 23]})"
   ]
  },
  {
   "cell_type": "code",
   "execution_count": 20,
   "id": "2efb4760",
   "metadata": {},
   "outputs": [
    {
     "name": "stdout",
     "output_type": "stream",
     "text": [
      "   ID   Name  Age\n",
      "0   2   Phuc   21\n",
      "1   3  Phong   22\n"
     ]
    }
   ],
   "source": [
    "print(pd.merge(df1, df2, on=\"ID\", how=\"inner\"))"
   ]
  },
  {
   "cell_type": "code",
   "execution_count": 21,
   "id": "925ce091",
   "metadata": {},
   "outputs": [
    {
     "name": "stdout",
     "output_type": "stream",
     "text": [
      "   ID   Name   Age\n",
      "0   1   Phat   NaN\n",
      "1   2   Phuc  21.0\n",
      "2   3  Phong  22.0\n",
      "3   4    NaN  23.0\n"
     ]
    }
   ],
   "source": [
    "print(pd.merge(df1, df2, on=\"ID\", how=\"outer\"))"
   ]
  },
  {
   "cell_type": "code",
   "execution_count": 22,
   "id": "915d9759",
   "metadata": {},
   "outputs": [
    {
     "name": "stdout",
     "output_type": "stream",
     "text": [
      "   ID   Name   Age\n",
      "0   1   Phat   NaN\n",
      "1   2   Phuc  21.0\n",
      "2   3  Phong  22.0\n"
     ]
    }
   ],
   "source": [
    "print(pd.merge(df1, df2, on=\"ID\", how=\"left\"))"
   ]
  },
  {
   "cell_type": "code",
   "execution_count": 23,
   "id": "5e0dc33b",
   "metadata": {},
   "outputs": [
    {
     "name": "stdout",
     "output_type": "stream",
     "text": [
      "   ID   Name  Age\n",
      "0   2   Phuc   21\n",
      "1   3  Phong   22\n",
      "2   4    NaN   23\n"
     ]
    }
   ],
   "source": [
    "print(pd.merge(df1, df2, on=\"ID\", how=\"right\"))"
   ]
  },
  {
   "cell_type": "markdown",
   "id": "8011f890",
   "metadata": {},
   "source": [
    "14. Fill NA\n",
    "Yêu cầu: Thay thế giá trị thiếu (NaN) trong cột 'tuổi' bằng tuổi trung\n",
    "bình."
   ]
  },
  {
   "cell_type": "code",
   "execution_count": 24,
   "id": "2b900177",
   "metadata": {},
   "outputs": [
    {
     "name": "stdout",
     "output_type": "stream",
     "text": [
      "<class 'pandas.core.frame.DataFrame'>\n",
      "RangeIndex: 4622 entries, 0 to 4621\n",
      "Data columns (total 5 columns):\n",
      " #   Column              Non-Null Count  Dtype \n",
      "---  ------              --------------  ----- \n",
      " 0   order_id            4622 non-null   int64 \n",
      " 1   quantity            4622 non-null   int64 \n",
      " 2   item_name           4622 non-null   object\n",
      " 3   choice_description  3376 non-null   object\n",
      " 4   item_price          4622 non-null   object\n",
      "dtypes: int64(2), object(3)\n",
      "memory usage: 180.7+ KB\n",
      "None\n"
     ]
    }
   ],
   "source": [
    "df = pd.read_csv(\"chipotle.tsv\", sep=\"\\t\")\n",
    "print(df.info())"
   ]
  },
  {
   "cell_type": "code",
   "execution_count": 25,
   "id": "0a856735",
   "metadata": {},
   "outputs": [
    {
     "name": "stdout",
     "output_type": "stream",
     "text": [
      "<class 'pandas.core.frame.DataFrame'>\n",
      "RangeIndex: 4622 entries, 0 to 4621\n",
      "Data columns (total 5 columns):\n",
      " #   Column              Non-Null Count  Dtype \n",
      "---  ------              --------------  ----- \n",
      " 0   order_id            4622 non-null   int64 \n",
      " 1   quantity            4622 non-null   int64 \n",
      " 2   item_name           4622 non-null   object\n",
      " 3   choice_description  4622 non-null   object\n",
      " 4   item_price          4622 non-null   object\n",
      "dtypes: int64(2), object(3)\n",
      "memory usage: 180.7+ KB\n",
      "None\n"
     ]
    }
   ],
   "source": [
    "df.fillna({\"choice_description\" : \"Unknow\"}, inplace=True)\n",
    "print(df.info())"
   ]
  },
  {
   "cell_type": "markdown",
   "id": "7f2fb78c",
   "metadata": {},
   "source": [
    "15. Drop NA\n",
    "Yêu cầu: Xoá dòng có giá trị thiếu."
   ]
  },
  {
   "cell_type": "code",
   "execution_count": 26,
   "id": "5318face",
   "metadata": {},
   "outputs": [
    {
     "name": "stdout",
     "output_type": "stream",
     "text": [
      "<class 'pandas.core.frame.DataFrame'>\n",
      "RangeIndex: 4622 entries, 0 to 4621\n",
      "Data columns (total 5 columns):\n",
      " #   Column              Non-Null Count  Dtype \n",
      "---  ------              --------------  ----- \n",
      " 0   order_id            4622 non-null   int64 \n",
      " 1   quantity            4622 non-null   int64 \n",
      " 2   item_name           4622 non-null   object\n",
      " 3   choice_description  3376 non-null   object\n",
      " 4   item_price          4622 non-null   object\n",
      "dtypes: int64(2), object(3)\n",
      "memory usage: 180.7+ KB\n",
      "None\n"
     ]
    }
   ],
   "source": [
    "df = pd.read_csv(\"chipotle.tsv\", sep=\"\\t\")\n",
    "print(df.info())"
   ]
  },
  {
   "cell_type": "code",
   "execution_count": 27,
   "id": "7a2610a7",
   "metadata": {},
   "outputs": [
    {
     "name": "stdout",
     "output_type": "stream",
     "text": [
      "<class 'pandas.core.frame.DataFrame'>\n",
      "Index: 3376 entries, 1 to 4621\n",
      "Data columns (total 5 columns):\n",
      " #   Column              Non-Null Count  Dtype \n",
      "---  ------              --------------  ----- \n",
      " 0   order_id            3376 non-null   int64 \n",
      " 1   quantity            3376 non-null   int64 \n",
      " 2   item_name           3376 non-null   object\n",
      " 3   choice_description  3376 non-null   object\n",
      " 4   item_price          3376 non-null   object\n",
      "dtypes: int64(2), object(3)\n",
      "memory usage: 158.2+ KB\n",
      "None\n"
     ]
    }
   ],
   "source": [
    "df.dropna(inplace=True)\n",
    "print(df.info())"
   ]
  },
  {
   "cell_type": "markdown",
   "id": "f344fa15",
   "metadata": {},
   "source": [
    "16. Đổi tên cột\n",
    "Yêu cầu: Đổi tên cột 'tuổi' thành 'age'."
   ]
  },
  {
   "cell_type": "code",
   "execution_count": 28,
   "id": "49c778eb",
   "metadata": {},
   "outputs": [
    {
     "name": "stdout",
     "output_type": "stream",
     "text": [
      "    Name  Age  Gender\n",
      "0   Phat   22    Male\n",
      "1  Phong   21    Male\n",
      "2   Phuc   21    Male\n",
      "3    Phu   21    Male\n",
      "4  Phuoc   21    Male\n",
      "5    Tot   22  Female\n"
     ]
    }
   ],
   "source": [
    "df = pd.read_csv(\"Samples_Data.csv\")\n",
    "print(df)"
   ]
  },
  {
   "cell_type": "code",
   "execution_count": 29,
   "id": "c3296436",
   "metadata": {},
   "outputs": [
    {
     "name": "stdout",
     "output_type": "stream",
     "text": [
      "     Ten  Tuoi Gioi tinh\n",
      "0   Phat    22      Male\n",
      "1  Phong    21      Male\n",
      "2   Phuc    21      Male\n",
      "3    Phu    21      Male\n",
      "4  Phuoc    21      Male\n",
      "5    Tot    22    Female\n"
     ]
    }
   ],
   "source": [
    "df.rename(columns={\"Name\" : \"Ten\", \"Age\" : \"Tuoi\", \"Gender\" : \"Gioi tinh\"}, inplace=True)\n",
    "print(df)"
   ]
  },
  {
   "cell_type": "markdown",
   "id": "d39424bc",
   "metadata": {},
   "source": [
    "17. Reset index\n",
    "Yêu cầu: Reset lại index của DataFrame sau khi lọc."
   ]
  },
  {
   "cell_type": "code",
   "execution_count": 39,
   "id": "c21a1e00",
   "metadata": {},
   "outputs": [
    {
     "name": "stdout",
     "output_type": "stream",
     "text": [
      "    Name  Age\n",
      "1  Phong   21\n",
      "2   Phuc   22\n",
      "4  Phuoc   23\n"
     ]
    }
   ],
   "source": [
    "df = pd.DataFrame({\n",
    "    \"Name\" : [\"Phat\", \"Phong\", \"Phuc\", \"Phu\", \"Phuoc\"],\n",
    "    \"Age\" : [20, 21, 22, 19, 23]\n",
    "})\n",
    "\n",
    "filtered = df[df[\"Age\"] > 20]\n",
    "print(filtered)"
   ]
  },
  {
   "cell_type": "code",
   "execution_count": 41,
   "id": "0dc4b9da",
   "metadata": {},
   "outputs": [
    {
     "name": "stdout",
     "output_type": "stream",
     "text": [
      "    Name  Age\n",
      "0  Phong   21\n",
      "1   Phuc   22\n",
      "2  Phuoc   23\n"
     ]
    }
   ],
   "source": [
    "filtered_reset = filtered.reset_index(drop=True)\n",
    "print(filtered_reset)"
   ]
  },
  {
   "cell_type": "markdown",
   "id": "167fc4d2",
   "metadata": {},
   "source": [
    "18. Lấy mẫu ngẫu nhiên\n",
    "Yêu cầu: Chọn ngẫu nhiên 3 dòng từ DataFrame."
   ]
  },
  {
   "cell_type": "code",
   "execution_count": 45,
   "id": "b9f5a9d2",
   "metadata": {},
   "outputs": [
    {
     "name": "stdout",
     "output_type": "stream",
     "text": [
      "    Name  Age  Gender\n",
      "0   Phat   22    Male\n",
      "1  Phong   21    Male\n",
      "5    Tot   22  Female\n"
     ]
    }
   ],
   "source": [
    "df = pd.read_csv(\"Samples_Data.csv\")\n",
    "sample_df = df.sample(n=3, random_state=42)\n",
    "print(sample_df)"
   ]
  },
  {
   "cell_type": "markdown",
   "id": "769a72d8",
   "metadata": {},
   "source": [
    "19. Tính thống kê\n",
    "Yêu cầu: Hiển thị describe() để xem thông tin thống kê tổng quát."
   ]
  },
  {
   "cell_type": "code",
   "execution_count": 48,
   "id": "3ad44d06",
   "metadata": {},
   "outputs": [
    {
     "data": {
      "application/vnd.microsoft.datawrangler.viewer.v0+json": {
       "columns": [
        {
         "name": "index",
         "rawType": "object",
         "type": "string"
        },
        {
         "name": "Name",
         "rawType": "object",
         "type": "unknown"
        },
        {
         "name": "Age",
         "rawType": "float64",
         "type": "float"
        },
        {
         "name": "Gender",
         "rawType": "object",
         "type": "unknown"
        }
       ],
       "ref": "55585418-2c73-4c1b-91c7-03e0a8de333c",
       "rows": [
        [
         "count",
         "6",
         "6.0",
         "6"
        ],
        [
         "unique",
         "6",
         null,
         "2"
        ],
        [
         "top",
         "Phat",
         null,
         "Male"
        ],
        [
         "freq",
         "1",
         null,
         "5"
        ],
        [
         "mean",
         null,
         "21.333333333333332",
         null
        ],
        [
         "std",
         null,
         "0.5163977794943222",
         null
        ],
        [
         "min",
         null,
         "21.0",
         null
        ],
        [
         "25%",
         null,
         "21.0",
         null
        ],
        [
         "50%",
         null,
         "21.0",
         null
        ],
        [
         "75%",
         null,
         "21.75",
         null
        ],
        [
         "max",
         null,
         "22.0",
         null
        ]
       ],
       "shape": {
        "columns": 3,
        "rows": 11
       }
      },
      "text/html": [
       "<div>\n",
       "<style scoped>\n",
       "    .dataframe tbody tr th:only-of-type {\n",
       "        vertical-align: middle;\n",
       "    }\n",
       "\n",
       "    .dataframe tbody tr th {\n",
       "        vertical-align: top;\n",
       "    }\n",
       "\n",
       "    .dataframe thead th {\n",
       "        text-align: right;\n",
       "    }\n",
       "</style>\n",
       "<table border=\"1\" class=\"dataframe\">\n",
       "  <thead>\n",
       "    <tr style=\"text-align: right;\">\n",
       "      <th></th>\n",
       "      <th>Name</th>\n",
       "      <th>Age</th>\n",
       "      <th>Gender</th>\n",
       "    </tr>\n",
       "  </thead>\n",
       "  <tbody>\n",
       "    <tr>\n",
       "      <th>count</th>\n",
       "      <td>6</td>\n",
       "      <td>6.000000</td>\n",
       "      <td>6</td>\n",
       "    </tr>\n",
       "    <tr>\n",
       "      <th>unique</th>\n",
       "      <td>6</td>\n",
       "      <td>NaN</td>\n",
       "      <td>2</td>\n",
       "    </tr>\n",
       "    <tr>\n",
       "      <th>top</th>\n",
       "      <td>Phat</td>\n",
       "      <td>NaN</td>\n",
       "      <td>Male</td>\n",
       "    </tr>\n",
       "    <tr>\n",
       "      <th>freq</th>\n",
       "      <td>1</td>\n",
       "      <td>NaN</td>\n",
       "      <td>5</td>\n",
       "    </tr>\n",
       "    <tr>\n",
       "      <th>mean</th>\n",
       "      <td>NaN</td>\n",
       "      <td>21.333333</td>\n",
       "      <td>NaN</td>\n",
       "    </tr>\n",
       "    <tr>\n",
       "      <th>std</th>\n",
       "      <td>NaN</td>\n",
       "      <td>0.516398</td>\n",
       "      <td>NaN</td>\n",
       "    </tr>\n",
       "    <tr>\n",
       "      <th>min</th>\n",
       "      <td>NaN</td>\n",
       "      <td>21.000000</td>\n",
       "      <td>NaN</td>\n",
       "    </tr>\n",
       "    <tr>\n",
       "      <th>25%</th>\n",
       "      <td>NaN</td>\n",
       "      <td>21.000000</td>\n",
       "      <td>NaN</td>\n",
       "    </tr>\n",
       "    <tr>\n",
       "      <th>50%</th>\n",
       "      <td>NaN</td>\n",
       "      <td>21.000000</td>\n",
       "      <td>NaN</td>\n",
       "    </tr>\n",
       "    <tr>\n",
       "      <th>75%</th>\n",
       "      <td>NaN</td>\n",
       "      <td>21.750000</td>\n",
       "      <td>NaN</td>\n",
       "    </tr>\n",
       "    <tr>\n",
       "      <th>max</th>\n",
       "      <td>NaN</td>\n",
       "      <td>22.000000</td>\n",
       "      <td>NaN</td>\n",
       "    </tr>\n",
       "  </tbody>\n",
       "</table>\n",
       "</div>"
      ],
      "text/plain": [
       "        Name        Age Gender\n",
       "count      6   6.000000      6\n",
       "unique     6        NaN      2\n",
       "top     Phat        NaN   Male\n",
       "freq       1        NaN      5\n",
       "mean     NaN  21.333333    NaN\n",
       "std      NaN   0.516398    NaN\n",
       "min      NaN  21.000000    NaN\n",
       "25%      NaN  21.000000    NaN\n",
       "50%      NaN  21.000000    NaN\n",
       "75%      NaN  21.750000    NaN\n",
       "max      NaN  22.000000    NaN"
      ]
     },
     "execution_count": 48,
     "metadata": {},
     "output_type": "execute_result"
    }
   ],
   "source": [
    "df = pd.read_csv(\"Samples_Data.csv\")\n",
    "df.describe(include=\"all\")"
   ]
  },
  {
   "cell_type": "markdown",
   "id": "f2535bdf",
   "metadata": {},
   "source": [
    "20. Tạo cột điều kiện\n",
    "Yêu cầu: Tạo cột 'trẻ' nếu tuổi < 25 thì là True, ngược lại False."
   ]
  },
  {
   "cell_type": "code",
   "execution_count": 49,
   "id": "982b4f84",
   "metadata": {},
   "outputs": [
    {
     "name": "stdout",
     "output_type": "stream",
     "text": [
      "    Name  Age  Gender\n",
      "0   Phat   22    Male\n",
      "1  Phong   21    Male\n",
      "2   Phuc   21    Male\n",
      "3    Phu   21    Male\n",
      "4  Phuoc   21    Male\n",
      "5    Tot   22  Female\n"
     ]
    }
   ],
   "source": [
    "df = pd.read_csv(\"Samples_Data.csv\")\n",
    "print(df)"
   ]
  },
  {
   "cell_type": "code",
   "execution_count": 52,
   "id": "5b63c9ea",
   "metadata": {},
   "outputs": [
    {
     "name": "stdout",
     "output_type": "stream",
     "text": [
      "    Name  Age  Gender  Young\n",
      "0   Phat   22    Male   True\n",
      "1  Phong   21    Male   True\n",
      "2   Phuc   21    Male   True\n",
      "3    Phu   21    Male   True\n",
      "4  Phuoc   21    Male   True\n",
      "5    Tot   22  Female   True\n"
     ]
    }
   ],
   "source": [
    "df[\"Young\"] = df[\"Age\"] < 25\n",
    "print(df)"
   ]
  },
  {
   "cell_type": "markdown",
   "id": "d9f70aaf",
   "metadata": {},
   "source": [
    "21. Đổi kiểu dữ liệu\n",
    "Yêu cầu: Chuyển kiểu dữ liệu của cột 'tuổi' sang float."
   ]
  },
  {
   "cell_type": "code",
   "execution_count": 54,
   "id": "13526dae",
   "metadata": {},
   "outputs": [
    {
     "name": "stdout",
     "output_type": "stream",
     "text": [
      "Name    object\n",
      "Age     object\n",
      "dtype: object\n"
     ]
    }
   ],
   "source": [
    "df = pd.DataFrame({\n",
    "    \"Name\" : [\"Phat\", \"Phong\", \"Phuc\"],\n",
    "    \"Age\" : [\"22\", \"21\", \"21\"]\n",
    "})\n",
    "print(df.dtypes)"
   ]
  },
  {
   "cell_type": "code",
   "execution_count": 55,
   "id": "5e8b674f",
   "metadata": {},
   "outputs": [
    {
     "name": "stdout",
     "output_type": "stream",
     "text": [
      "Name     object\n",
      "Age     float64\n",
      "dtype: object\n"
     ]
    }
   ],
   "source": [
    "df[\"Age\"] = df[\"Age\"].apply(lambda age: float(age))\n",
    "print(df.dtypes)"
   ]
  },
  {
   "cell_type": "markdown",
   "id": "68e931b6",
   "metadata": {},
   "source": [
    "22. Tính tổng theo nhóm\n",
    "Yêu cầu: Tính tổng điểm theo từng nhóm giới tính."
   ]
  },
  {
   "cell_type": "code",
   "execution_count": 56,
   "id": "e55aced3",
   "metadata": {},
   "outputs": [
    {
     "data": {
      "application/vnd.microsoft.datawrangler.viewer.v0+json": {
       "columns": [
        {
         "name": "Gender",
         "rawType": "object",
         "type": "string"
        },
        {
         "name": "Age",
         "rawType": "int64",
         "type": "integer"
        }
       ],
       "ref": "0905ca39-6b23-4973-8660-78d9b5d3a98c",
       "rows": [
        [
         "Female",
         "22"
        ],
        [
         "Male",
         "106"
        ]
       ],
       "shape": {
        "columns": 1,
        "rows": 2
       }
      },
      "text/plain": [
       "Gender\n",
       "Female     22\n",
       "Male      106\n",
       "Name: Age, dtype: int64"
      ]
     },
     "execution_count": 56,
     "metadata": {},
     "output_type": "execute_result"
    }
   ],
   "source": [
    "df = pd.read_csv(\"Samples_Data.csv\")\n",
    "df.groupby([\"Gender\"])[\"Age\"].sum()"
   ]
  },
  {
   "cell_type": "markdown",
   "id": "64c472c1",
   "metadata": {},
   "source": [
    "23. Pivot Table\n",
    "Yêu cầu: Tạo bảng pivot theo giới tính và tính điểm trung bình."
   ]
  },
  {
   "cell_type": "code",
   "execution_count": null,
   "id": "fc3f0fdf",
   "metadata": {},
   "outputs": [
    {
     "name": "stdout",
     "output_type": "stream",
     "text": [
      "  Department   Name  Salary\n",
      "0         IT   Phát     700\n",
      "1         IT   Phúc     800\n",
      "2         HR  Phong     600\n",
      "3         HR    Phú     650\n",
      "4    Finance  Phước     900\n",
      "5    Finance     Hà     850\n"
     ]
    }
   ],
   "source": [
    "data = {\n",
    "    \"Department\": [\"IT\", \"IT\", \"HR\", \"HR\", \"Finance\", \"Finance\"],\n",
    "    \"Name\": [\"Phát\", \"Phúc\", \"Phong\", \"Phú\", \"Phước\", \"Hà\"],\n",
    "    \"Salary\": [700, 800, 600, 650, 900, 850]\n",
    "}\n",
    "\n",
    "df = pd.DataFrame(data)\n",
    "print(df)\n"
   ]
  },
  {
   "cell_type": "code",
   "execution_count": 62,
   "id": "bcccfd52",
   "metadata": {},
   "outputs": [
    {
     "name": "stdout",
     "output_type": "stream",
     "text": [
      "            Salary\n",
      "Department        \n",
      "Finance      875.0\n",
      "HR           625.0\n",
      "IT           750.0\n"
     ]
    }
   ],
   "source": [
    "pivot = pd.pivot_table(df, \n",
    "                       values=\"Salary\",\n",
    "                       index=\"Department\",\n",
    "                       aggfunc=\"mean\")\n",
    "print(pivot)"
   ]
  },
  {
   "cell_type": "markdown",
   "id": "0a00ac16",
   "metadata": {},
   "source": [
    "24. Sử dụng isin\n",
    "Yêu cầu: Lọc các dòng có giới tính là nam hoặc nữ."
   ]
  },
  {
   "cell_type": "code",
   "execution_count": 63,
   "id": "111f0551",
   "metadata": {},
   "outputs": [
    {
     "name": "stdout",
     "output_type": "stream",
     "text": [
      "    Name Gender  Age\n",
      "0     An    Nam   20\n",
      "1   Bình     Nữ   22\n",
      "2  Cường    Nam   25\n",
      "4     Hà     Nữ   28\n"
     ]
    }
   ],
   "source": [
    "data = {\n",
    "    \"Name\": [\"An\", \"Bình\", \"Cường\", \"Dung\", \"Hà\"],\n",
    "    \"Gender\": [\"Nam\", \"Nữ\", \"Nam\", \"Khác\", \"Nữ\"],\n",
    "    \"Age\": [20, 22, 25, 30, 28]\n",
    "}\n",
    "\n",
    "df = pd.DataFrame(data)\n",
    "\n",
    "filtered = df[df[\"Gender\"].isin([\"Nam\", \"Nữ\"])]\n",
    "\n",
    "print(filtered)"
   ]
  },
  {
   "cell_type": "markdown",
   "id": "9f97a5bb",
   "metadata": {},
   "source": [
    "25. Tạo chỉ số mới\n",
    "Yêu cầu: Thêm cột điểm chuẩn = điểm * 1.2."
   ]
  },
  {
   "cell_type": "code",
   "execution_count": 64,
   "id": "320c0cac",
   "metadata": {},
   "outputs": [
    {
     "name": "stdout",
     "output_type": "stream",
     "text": [
      "    Name  Score\n",
      "0   Phat     10\n",
      "1   Phuc     10\n",
      "2  Phong      9\n"
     ]
    }
   ],
   "source": [
    "data = {\n",
    "    \"Name\" : [\"Phat\", \"Phuc\", \"Phong\"],\n",
    "    \"Score\" : [10, 10, 9]\n",
    "}\n",
    "\n",
    "df = pd.DataFrame(data)\n",
    "print(df)"
   ]
  },
  {
   "cell_type": "code",
   "execution_count": 65,
   "id": "e093adce",
   "metadata": {},
   "outputs": [
    {
     "name": "stdout",
     "output_type": "stream",
     "text": [
      "    Name  Score  Admission_cutoff_score\n",
      "0   Phat     10                    12.0\n",
      "1   Phuc     10                    12.0\n",
      "2  Phong      9                    10.8\n"
     ]
    }
   ],
   "source": [
    "df[\"Admission_cutoff_score\"] = df[\"Score\"].apply(lambda score : score * 1.2)\n",
    "print(df)"
   ]
  },
  {
   "cell_type": "markdown",
   "id": "fa675bef",
   "metadata": {},
   "source": [
    "26. Kiểm tra giá trị trùng lặp\n",
    "Yêu cầu: Tìm các dòng bị trùng lặp về tên."
   ]
  },
  {
   "cell_type": "code",
   "execution_count": 67,
   "id": "b64115b0",
   "metadata": {},
   "outputs": [
    {
     "name": "stdout",
     "output_type": "stream",
     "text": [
      "    Name  Age\n",
      "0     An   20\n",
      "1   Bình   22\n",
      "2     An   20\n",
      "3  Cường   25\n",
      "4   Bình   22\n"
     ]
    }
   ],
   "source": [
    "data = {\n",
    "    \"Name\": [\"An\", \"Bình\", \"An\", \"Cường\", \"Bình\"],\n",
    "    \"Age\": [20, 22, 20, 25, 22]\n",
    "}\n",
    "df = pd.DataFrame(data)\n",
    "print(df)"
   ]
  },
  {
   "cell_type": "code",
   "execution_count": 68,
   "id": "87b4de33",
   "metadata": {},
   "outputs": [
    {
     "data": {
      "application/vnd.microsoft.datawrangler.viewer.v0+json": {
       "columns": [
        {
         "name": "index",
         "rawType": "int64",
         "type": "integer"
        },
        {
         "name": "0",
         "rawType": "bool",
         "type": "boolean"
        }
       ],
       "ref": "145e3a6d-39d9-421f-bf45-173035acaea7",
       "rows": [
        [
         "0",
         "False"
        ],
        [
         "1",
         "False"
        ],
        [
         "2",
         "True"
        ],
        [
         "3",
         "False"
        ],
        [
         "4",
         "True"
        ]
       ],
       "shape": {
        "columns": 1,
        "rows": 5
       }
      },
      "text/plain": [
       "0    False\n",
       "1    False\n",
       "2     True\n",
       "3    False\n",
       "4     True\n",
       "dtype: bool"
      ]
     },
     "execution_count": 68,
     "metadata": {},
     "output_type": "execute_result"
    }
   ],
   "source": [
    "df.duplicated(subset=[\"Name\"])"
   ]
  },
  {
   "cell_type": "code",
   "execution_count": 69,
   "id": "89e801e4",
   "metadata": {},
   "outputs": [
    {
     "data": {
      "application/vnd.microsoft.datawrangler.viewer.v0+json": {
       "columns": [
        {
         "name": "index",
         "rawType": "int64",
         "type": "integer"
        },
        {
         "name": "Name",
         "rawType": "object",
         "type": "string"
        },
        {
         "name": "Age",
         "rawType": "int64",
         "type": "integer"
        }
       ],
       "ref": "d1ed86f1-45fc-41b3-8d31-08629ab08123",
       "rows": [
        [
         "2",
         "An",
         "20"
        ],
        [
         "4",
         "Bình",
         "22"
        ]
       ],
       "shape": {
        "columns": 2,
        "rows": 2
       }
      },
      "text/html": [
       "<div>\n",
       "<style scoped>\n",
       "    .dataframe tbody tr th:only-of-type {\n",
       "        vertical-align: middle;\n",
       "    }\n",
       "\n",
       "    .dataframe tbody tr th {\n",
       "        vertical-align: top;\n",
       "    }\n",
       "\n",
       "    .dataframe thead th {\n",
       "        text-align: right;\n",
       "    }\n",
       "</style>\n",
       "<table border=\"1\" class=\"dataframe\">\n",
       "  <thead>\n",
       "    <tr style=\"text-align: right;\">\n",
       "      <th></th>\n",
       "      <th>Name</th>\n",
       "      <th>Age</th>\n",
       "    </tr>\n",
       "  </thead>\n",
       "  <tbody>\n",
       "    <tr>\n",
       "      <th>2</th>\n",
       "      <td>An</td>\n",
       "      <td>20</td>\n",
       "    </tr>\n",
       "    <tr>\n",
       "      <th>4</th>\n",
       "      <td>Bình</td>\n",
       "      <td>22</td>\n",
       "    </tr>\n",
       "  </tbody>\n",
       "</table>\n",
       "</div>"
      ],
      "text/plain": [
       "   Name  Age\n",
       "2    An   20\n",
       "4  Bình   22"
      ]
     },
     "execution_count": 69,
     "metadata": {},
     "output_type": "execute_result"
    }
   ],
   "source": [
    "df[df.duplicated(subset=[\"Name\"])]"
   ]
  },
  {
   "cell_type": "markdown",
   "id": "bd955c4f",
   "metadata": {},
   "source": [
    "27. Xoá dòng trùng lặp\n",
    "Yêu cầu: Xoá các dòng bị trùng lặp về tên."
   ]
  },
  {
   "cell_type": "code",
   "execution_count": 70,
   "id": "a27c11f0",
   "metadata": {},
   "outputs": [
    {
     "name": "stdout",
     "output_type": "stream",
     "text": [
      "    Name  Age\n",
      "0     An   20\n",
      "1   Bình   22\n",
      "2     An   20\n",
      "3  Cường   25\n",
      "4   Bình   22\n"
     ]
    }
   ],
   "source": [
    "data = {\n",
    "    \"Name\": [\"An\", \"Bình\", \"An\", \"Cường\", \"Bình\"],\n",
    "    \"Age\": [20, 22, 20, 25, 22]\n",
    "}\n",
    "df = pd.DataFrame(data)\n",
    "print(df)"
   ]
  },
  {
   "cell_type": "code",
   "execution_count": 71,
   "id": "b38977cd",
   "metadata": {},
   "outputs": [
    {
     "name": "stdout",
     "output_type": "stream",
     "text": [
      "    Name  Age\n",
      "0     An   20\n",
      "1   Bình   22\n",
      "3  Cường   25\n"
     ]
    }
   ],
   "source": [
    "df.drop_duplicates(subset=[\"Name\"], inplace=True)\n",
    "print(df)"
   ]
  },
  {
   "cell_type": "markdown",
   "id": "a3dd1882",
   "metadata": {},
   "source": [
    "28. Lưu DataFrame\n",
    "Yêu cầu: Ghi DataFrame ra file CSV."
   ]
  },
  {
   "cell_type": "code",
   "execution_count": 72,
   "id": "17133f77",
   "metadata": {},
   "outputs": [],
   "source": [
    "data = {\n",
    "    \"Name\": [\"An\", \"Bình\", \"An\", \"Cường\", \"Bình\"],\n",
    "    \"Age\": [20, 22, 20, 25, 22]\n",
    "}\n",
    "df = pd.DataFrame(data)\n",
    "df.to_csv(\"Students_Data.csv\")"
   ]
  },
  {
   "cell_type": "markdown",
   "id": "c1ec7ae1",
   "metadata": {},
   "source": [
    "29. Đổi thứ tự cột\n",
    "Yêu cầu: Sắp xếp lại các cột theo thứ tự: tên, tuổi, điểm."
   ]
  },
  {
   "cell_type": "code",
   "execution_count": 73,
   "id": "a34f3ff6",
   "metadata": {},
   "outputs": [
    {
     "name": "stdout",
     "output_type": "stream",
     "text": [
      "   Age  Score   Name\n",
      "0   20     85   Phát\n",
      "1   22     90   Phúc\n",
      "2   25     88  Phong\n"
     ]
    }
   ],
   "source": [
    "data = {\n",
    "    \"Age\": [20, 22, 25],\n",
    "    \"Score\": [85, 90, 88],\n",
    "    \"Name\": [\"Phát\", \"Phúc\", \"Phong\"]\n",
    "}\n",
    "df = pd.DataFrame(data)\n",
    "print(df)"
   ]
  },
  {
   "cell_type": "code",
   "execution_count": 74,
   "id": "3ed7be89",
   "metadata": {},
   "outputs": [
    {
     "name": "stdout",
     "output_type": "stream",
     "text": [
      "    Name  Age  Score\n",
      "0   Phát   20     85\n",
      "1   Phúc   22     90\n",
      "2  Phong   25     88\n"
     ]
    }
   ],
   "source": [
    "df = df[[\"Name\", \"Age\", \"Score\"]]\n",
    "print(df)"
   ]
  },
  {
   "cell_type": "markdown",
   "id": "286d7db8",
   "metadata": {},
   "source": [
    "30. Tính correlation\n",
    "Yêu cầu: Tính ma trận tương quan giữa các cột số."
   ]
  },
  {
   "cell_type": "code",
   "execution_count": 75,
   "id": "412b0f25",
   "metadata": {},
   "outputs": [
    {
     "name": "stdout",
     "output_type": "stream",
     "text": [
      "   Age  Score  Height\n",
      "0   20     85     165\n",
      "1   22     90     170\n",
      "2   25     88     172\n",
      "3   30     95     180\n",
      "4   28     70     175\n"
     ]
    }
   ],
   "source": [
    "data = {\n",
    "    \"Age\": [20, 22, 25, 30, 28],\n",
    "    \"Score\": [85, 90, 88, 95, 70],\n",
    "    \"Height\": [165, 170, 172, 180, 175]\n",
    "}\n",
    "df = pd.DataFrame(data)\n",
    "print(df)"
   ]
  },
  {
   "cell_type": "code",
   "execution_count": 76,
   "id": "10112fb2",
   "metadata": {},
   "outputs": [
    {
     "name": "stdout",
     "output_type": "stream",
     "text": [
      "             Age     Score    Height\n",
      "Age     1.000000 -0.064164  0.975407\n",
      "Score  -0.064164  1.000000  0.112543\n",
      "Height  0.975407  0.112543  1.000000\n"
     ]
    }
   ],
   "source": [
    "corr_matrix = df.corr()\n",
    "print(corr_matrix)"
   ]
  }
 ],
 "metadata": {
  "kernelspec": {
   "display_name": "Python 3",
   "language": "python",
   "name": "python3"
  },
  "language_info": {
   "codemirror_mode": {
    "name": "ipython",
    "version": 3
   },
   "file_extension": ".py",
   "mimetype": "text/x-python",
   "name": "python",
   "nbconvert_exporter": "python",
   "pygments_lexer": "ipython3",
   "version": "3.13.0"
  }
 },
 "nbformat": 4,
 "nbformat_minor": 5
}
