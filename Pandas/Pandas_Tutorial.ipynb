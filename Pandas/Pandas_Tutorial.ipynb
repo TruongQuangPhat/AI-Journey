{
 "cells": [
  {
   "cell_type": "code",
   "execution_count": 5,
   "id": "c39d63f0",
   "metadata": {},
   "outputs": [],
   "source": [
    "import pandas as pd\n",
    "import numpy as np"
   ]
  },
  {
   "cell_type": "markdown",
   "id": "1dde0939",
   "metadata": {},
   "source": [
    "### Step 1: Import Dataset"
   ]
  },
  {
   "cell_type": "code",
   "execution_count": 6,
   "id": "a185d5f2",
   "metadata": {},
   "outputs": [],
   "source": [
    "df = pd.read_csv(\"chipotle.tsv\", sep=\"\\t\")"
   ]
  },
  {
   "cell_type": "code",
   "execution_count": 7,
   "id": "8d161a0e",
   "metadata": {},
   "outputs": [
    {
     "data": {
      "application/vnd.microsoft.datawrangler.viewer.v0+json": {
       "columns": [
        {
         "name": "index",
         "rawType": "int64",
         "type": "integer"
        },
        {
         "name": "order_id",
         "rawType": "int64",
         "type": "integer"
        },
        {
         "name": "quantity",
         "rawType": "int64",
         "type": "integer"
        },
        {
         "name": "item_name",
         "rawType": "object",
         "type": "string"
        },
        {
         "name": "choice_description",
         "rawType": "object",
         "type": "unknown"
        },
        {
         "name": "item_price",
         "rawType": "object",
         "type": "string"
        }
       ],
       "ref": "74880f07-d4fc-4ed1-955d-dcf0efdf4851",
       "rows": [
        [
         "0",
         "1",
         "1",
         "Chips and Fresh Tomato Salsa",
         null,
         "$2.39 "
        ],
        [
         "1",
         "1",
         "1",
         "Izze",
         "[Clementine]",
         "$3.39 "
        ],
        [
         "2",
         "1",
         "1",
         "Nantucket Nectar",
         "[Apple]",
         "$3.39 "
        ],
        [
         "3",
         "1",
         "1",
         "Chips and Tomatillo-Green Chili Salsa",
         null,
         "$2.39 "
        ],
        [
         "4",
         "2",
         "2",
         "Chicken Bowl",
         "[Tomatillo-Red Chili Salsa (Hot), [Black Beans, Rice, Cheese, Sour Cream]]",
         "$16.98 "
        ]
       ],
       "shape": {
        "columns": 5,
        "rows": 5
       }
      },
      "text/html": [
       "<div>\n",
       "<style scoped>\n",
       "    .dataframe tbody tr th:only-of-type {\n",
       "        vertical-align: middle;\n",
       "    }\n",
       "\n",
       "    .dataframe tbody tr th {\n",
       "        vertical-align: top;\n",
       "    }\n",
       "\n",
       "    .dataframe thead th {\n",
       "        text-align: right;\n",
       "    }\n",
       "</style>\n",
       "<table border=\"1\" class=\"dataframe\">\n",
       "  <thead>\n",
       "    <tr style=\"text-align: right;\">\n",
       "      <th></th>\n",
       "      <th>order_id</th>\n",
       "      <th>quantity</th>\n",
       "      <th>item_name</th>\n",
       "      <th>choice_description</th>\n",
       "      <th>item_price</th>\n",
       "    </tr>\n",
       "  </thead>\n",
       "  <tbody>\n",
       "    <tr>\n",
       "      <th>0</th>\n",
       "      <td>1</td>\n",
       "      <td>1</td>\n",
       "      <td>Chips and Fresh Tomato Salsa</td>\n",
       "      <td>NaN</td>\n",
       "      <td>$2.39</td>\n",
       "    </tr>\n",
       "    <tr>\n",
       "      <th>1</th>\n",
       "      <td>1</td>\n",
       "      <td>1</td>\n",
       "      <td>Izze</td>\n",
       "      <td>[Clementine]</td>\n",
       "      <td>$3.39</td>\n",
       "    </tr>\n",
       "    <tr>\n",
       "      <th>2</th>\n",
       "      <td>1</td>\n",
       "      <td>1</td>\n",
       "      <td>Nantucket Nectar</td>\n",
       "      <td>[Apple]</td>\n",
       "      <td>$3.39</td>\n",
       "    </tr>\n",
       "    <tr>\n",
       "      <th>3</th>\n",
       "      <td>1</td>\n",
       "      <td>1</td>\n",
       "      <td>Chips and Tomatillo-Green Chili Salsa</td>\n",
       "      <td>NaN</td>\n",
       "      <td>$2.39</td>\n",
       "    </tr>\n",
       "    <tr>\n",
       "      <th>4</th>\n",
       "      <td>2</td>\n",
       "      <td>2</td>\n",
       "      <td>Chicken Bowl</td>\n",
       "      <td>[Tomatillo-Red Chili Salsa (Hot), [Black Beans...</td>\n",
       "      <td>$16.98</td>\n",
       "    </tr>\n",
       "  </tbody>\n",
       "</table>\n",
       "</div>"
      ],
      "text/plain": [
       "   order_id  quantity                              item_name  \\\n",
       "0         1         1           Chips and Fresh Tomato Salsa   \n",
       "1         1         1                                   Izze   \n",
       "2         1         1                       Nantucket Nectar   \n",
       "3         1         1  Chips and Tomatillo-Green Chili Salsa   \n",
       "4         2         2                           Chicken Bowl   \n",
       "\n",
       "                                  choice_description item_price  \n",
       "0                                                NaN     $2.39   \n",
       "1                                       [Clementine]     $3.39   \n",
       "2                                            [Apple]     $3.39   \n",
       "3                                                NaN     $2.39   \n",
       "4  [Tomatillo-Red Chili Salsa (Hot), [Black Beans...    $16.98   "
      ]
     },
     "execution_count": 7,
     "metadata": {},
     "output_type": "execute_result"
    }
   ],
   "source": [
    "df.head()"
   ]
  },
  {
   "cell_type": "code",
   "execution_count": null,
   "id": "f5d43aa8",
   "metadata": {},
   "outputs": [],
   "source": []
  },
  {
   "cell_type": "code",
   "execution_count": 8,
   "id": "5dbb401c",
   "metadata": {},
   "outputs": [
    {
     "data": {
      "application/vnd.microsoft.datawrangler.viewer.v0+json": {
       "columns": [
        {
         "name": "index",
         "rawType": "int64",
         "type": "integer"
        },
        {
         "name": "order_id",
         "rawType": "int64",
         "type": "integer"
        },
        {
         "name": "quantity",
         "rawType": "int64",
         "type": "integer"
        },
        {
         "name": "item_name",
         "rawType": "object",
         "type": "string"
        },
        {
         "name": "choice_description",
         "rawType": "object",
         "type": "unknown"
        },
        {
         "name": "item_price",
         "rawType": "object",
         "type": "string"
        }
       ],
       "ref": "44a8eb3c-1c03-4a32-91d2-155a113efcab",
       "rows": [
        [
         "0",
         "1",
         "1",
         "Chips and Fresh Tomato Salsa",
         null,
         "$2.39 "
        ],
        [
         "1",
         "1",
         "1",
         "Izze",
         "[Clementine]",
         "$3.39 "
        ],
        [
         "2",
         "1",
         "1",
         "Nantucket Nectar",
         "[Apple]",
         "$3.39 "
        ],
        [
         "3",
         "1",
         "1",
         "Chips and Tomatillo-Green Chili Salsa",
         null,
         "$2.39 "
        ],
        [
         "4",
         "2",
         "2",
         "Chicken Bowl",
         "[Tomatillo-Red Chili Salsa (Hot), [Black Beans, Rice, Cheese, Sour Cream]]",
         "$16.98 "
        ],
        [
         "5",
         "3",
         "1",
         "Chicken Bowl",
         "[Fresh Tomato Salsa (Mild), [Rice, Cheese, Sour Cream, Guacamole, Lettuce]]",
         "$10.98 "
        ],
        [
         "6",
         "3",
         "1",
         "Side of Chips",
         null,
         "$1.69 "
        ],
        [
         "7",
         "4",
         "1",
         "Steak Burrito",
         "[Tomatillo Red Chili Salsa, [Fajita Vegetables, Black Beans, Pinto Beans, Cheese, Sour Cream, Guacamole, Lettuce]]",
         "$11.75 "
        ],
        [
         "8",
         "4",
         "1",
         "Steak Soft Tacos",
         "[Tomatillo Green Chili Salsa, [Pinto Beans, Cheese, Sour Cream, Lettuce]]",
         "$9.25 "
        ],
        [
         "9",
         "5",
         "1",
         "Steak Burrito",
         "[Fresh Tomato Salsa, [Rice, Black Beans, Pinto Beans, Cheese, Sour Cream, Lettuce]]",
         "$9.25 "
        ]
       ],
       "shape": {
        "columns": 5,
        "rows": 10
       }
      },
      "text/html": [
       "<div>\n",
       "<style scoped>\n",
       "    .dataframe tbody tr th:only-of-type {\n",
       "        vertical-align: middle;\n",
       "    }\n",
       "\n",
       "    .dataframe tbody tr th {\n",
       "        vertical-align: top;\n",
       "    }\n",
       "\n",
       "    .dataframe thead th {\n",
       "        text-align: right;\n",
       "    }\n",
       "</style>\n",
       "<table border=\"1\" class=\"dataframe\">\n",
       "  <thead>\n",
       "    <tr style=\"text-align: right;\">\n",
       "      <th></th>\n",
       "      <th>order_id</th>\n",
       "      <th>quantity</th>\n",
       "      <th>item_name</th>\n",
       "      <th>choice_description</th>\n",
       "      <th>item_price</th>\n",
       "    </tr>\n",
       "  </thead>\n",
       "  <tbody>\n",
       "    <tr>\n",
       "      <th>0</th>\n",
       "      <td>1</td>\n",
       "      <td>1</td>\n",
       "      <td>Chips and Fresh Tomato Salsa</td>\n",
       "      <td>NaN</td>\n",
       "      <td>$2.39</td>\n",
       "    </tr>\n",
       "    <tr>\n",
       "      <th>1</th>\n",
       "      <td>1</td>\n",
       "      <td>1</td>\n",
       "      <td>Izze</td>\n",
       "      <td>[Clementine]</td>\n",
       "      <td>$3.39</td>\n",
       "    </tr>\n",
       "    <tr>\n",
       "      <th>2</th>\n",
       "      <td>1</td>\n",
       "      <td>1</td>\n",
       "      <td>Nantucket Nectar</td>\n",
       "      <td>[Apple]</td>\n",
       "      <td>$3.39</td>\n",
       "    </tr>\n",
       "    <tr>\n",
       "      <th>3</th>\n",
       "      <td>1</td>\n",
       "      <td>1</td>\n",
       "      <td>Chips and Tomatillo-Green Chili Salsa</td>\n",
       "      <td>NaN</td>\n",
       "      <td>$2.39</td>\n",
       "    </tr>\n",
       "    <tr>\n",
       "      <th>4</th>\n",
       "      <td>2</td>\n",
       "      <td>2</td>\n",
       "      <td>Chicken Bowl</td>\n",
       "      <td>[Tomatillo-Red Chili Salsa (Hot), [Black Beans...</td>\n",
       "      <td>$16.98</td>\n",
       "    </tr>\n",
       "    <tr>\n",
       "      <th>5</th>\n",
       "      <td>3</td>\n",
       "      <td>1</td>\n",
       "      <td>Chicken Bowl</td>\n",
       "      <td>[Fresh Tomato Salsa (Mild), [Rice, Cheese, Sou...</td>\n",
       "      <td>$10.98</td>\n",
       "    </tr>\n",
       "    <tr>\n",
       "      <th>6</th>\n",
       "      <td>3</td>\n",
       "      <td>1</td>\n",
       "      <td>Side of Chips</td>\n",
       "      <td>NaN</td>\n",
       "      <td>$1.69</td>\n",
       "    </tr>\n",
       "    <tr>\n",
       "      <th>7</th>\n",
       "      <td>4</td>\n",
       "      <td>1</td>\n",
       "      <td>Steak Burrito</td>\n",
       "      <td>[Tomatillo Red Chili Salsa, [Fajita Vegetables...</td>\n",
       "      <td>$11.75</td>\n",
       "    </tr>\n",
       "    <tr>\n",
       "      <th>8</th>\n",
       "      <td>4</td>\n",
       "      <td>1</td>\n",
       "      <td>Steak Soft Tacos</td>\n",
       "      <td>[Tomatillo Green Chili Salsa, [Pinto Beans, Ch...</td>\n",
       "      <td>$9.25</td>\n",
       "    </tr>\n",
       "    <tr>\n",
       "      <th>9</th>\n",
       "      <td>5</td>\n",
       "      <td>1</td>\n",
       "      <td>Steak Burrito</td>\n",
       "      <td>[Fresh Tomato Salsa, [Rice, Black Beans, Pinto...</td>\n",
       "      <td>$9.25</td>\n",
       "    </tr>\n",
       "  </tbody>\n",
       "</table>\n",
       "</div>"
      ],
      "text/plain": [
       "   order_id  quantity                              item_name  \\\n",
       "0         1         1           Chips and Fresh Tomato Salsa   \n",
       "1         1         1                                   Izze   \n",
       "2         1         1                       Nantucket Nectar   \n",
       "3         1         1  Chips and Tomatillo-Green Chili Salsa   \n",
       "4         2         2                           Chicken Bowl   \n",
       "5         3         1                           Chicken Bowl   \n",
       "6         3         1                          Side of Chips   \n",
       "7         4         1                          Steak Burrito   \n",
       "8         4         1                       Steak Soft Tacos   \n",
       "9         5         1                          Steak Burrito   \n",
       "\n",
       "                                  choice_description item_price  \n",
       "0                                                NaN     $2.39   \n",
       "1                                       [Clementine]     $3.39   \n",
       "2                                            [Apple]     $3.39   \n",
       "3                                                NaN     $2.39   \n",
       "4  [Tomatillo-Red Chili Salsa (Hot), [Black Beans...    $16.98   \n",
       "5  [Fresh Tomato Salsa (Mild), [Rice, Cheese, Sou...    $10.98   \n",
       "6                                                NaN     $1.69   \n",
       "7  [Tomatillo Red Chili Salsa, [Fajita Vegetables...    $11.75   \n",
       "8  [Tomatillo Green Chili Salsa, [Pinto Beans, Ch...     $9.25   \n",
       "9  [Fresh Tomato Salsa, [Rice, Black Beans, Pinto...     $9.25   "
      ]
     },
     "execution_count": 8,
     "metadata": {},
     "output_type": "execute_result"
    }
   ],
   "source": [
    "df.head(10)"
   ]
  },
  {
   "cell_type": "markdown",
   "id": "0a5a983d",
   "metadata": {},
   "source": [
    "### Step 2: Dataset Overview"
   ]
  },
  {
   "cell_type": "code",
   "execution_count": 9,
   "id": "aa0f696b",
   "metadata": {},
   "outputs": [
    {
     "data": {
      "text/plain": [
       "(4622, 5)"
      ]
     },
     "execution_count": 9,
     "metadata": {},
     "output_type": "execute_result"
    }
   ],
   "source": [
    "df.shape"
   ]
  },
  {
   "cell_type": "code",
   "execution_count": 10,
   "id": "e67fa15a",
   "metadata": {},
   "outputs": [
    {
     "name": "stdout",
     "output_type": "stream",
     "text": [
      "<class 'pandas.core.frame.DataFrame'>\n",
      "RangeIndex: 4622 entries, 0 to 4621\n",
      "Data columns (total 5 columns):\n",
      " #   Column              Non-Null Count  Dtype \n",
      "---  ------              --------------  ----- \n",
      " 0   order_id            4622 non-null   int64 \n",
      " 1   quantity            4622 non-null   int64 \n",
      " 2   item_name           4622 non-null   object\n",
      " 3   choice_description  3376 non-null   object\n",
      " 4   item_price          4622 non-null   object\n",
      "dtypes: int64(2), object(3)\n",
      "memory usage: 180.7+ KB\n"
     ]
    }
   ],
   "source": [
    "df.info()"
   ]
  },
  {
   "cell_type": "code",
   "execution_count": 11,
   "id": "5c87d3ab",
   "metadata": {},
   "outputs": [
    {
     "data": {
      "text/plain": [
       "Index(['order_id', 'quantity', 'item_name', 'choice_description',\n",
       "       'item_price'],\n",
       "      dtype='object')"
      ]
     },
     "execution_count": 11,
     "metadata": {},
     "output_type": "execute_result"
    }
   ],
   "source": [
    "# print all columns name\n",
    "df.columns"
   ]
  },
  {
   "cell_type": "code",
   "execution_count": 12,
   "id": "dd2ba722",
   "metadata": {},
   "outputs": [
    {
     "data": {
      "text/plain": [
       "RangeIndex(start=0, stop=4622, step=1)"
      ]
     },
     "execution_count": 12,
     "metadata": {},
     "output_type": "execute_result"
    }
   ],
   "source": [
    "df.index"
   ]
  },
  {
   "cell_type": "code",
   "execution_count": 13,
   "id": "cf321387",
   "metadata": {},
   "outputs": [
    {
     "data": {
      "application/vnd.microsoft.datawrangler.viewer.v0+json": {
       "columns": [
        {
         "name": "index",
         "rawType": "object",
         "type": "string"
        },
        {
         "name": "order_id",
         "rawType": "float64",
         "type": "float"
        },
        {
         "name": "quantity",
         "rawType": "float64",
         "type": "float"
        }
       ],
       "ref": "1cf037a9-8daf-4c8a-a749-f42454514a57",
       "rows": [
        [
         "count",
         "4622.0",
         "4622.0"
        ],
        [
         "mean",
         "927.2548680225011",
         "1.0757247944612722"
        ],
        [
         "std",
         "528.8907955866094",
         "0.41018633425753315"
        ],
        [
         "min",
         "1.0",
         "1.0"
        ],
        [
         "25%",
         "477.25",
         "1.0"
        ],
        [
         "50%",
         "926.0",
         "1.0"
        ],
        [
         "75%",
         "1393.0",
         "1.0"
        ],
        [
         "max",
         "1834.0",
         "15.0"
        ]
       ],
       "shape": {
        "columns": 2,
        "rows": 8
       }
      },
      "text/html": [
       "<div>\n",
       "<style scoped>\n",
       "    .dataframe tbody tr th:only-of-type {\n",
       "        vertical-align: middle;\n",
       "    }\n",
       "\n",
       "    .dataframe tbody tr th {\n",
       "        vertical-align: top;\n",
       "    }\n",
       "\n",
       "    .dataframe thead th {\n",
       "        text-align: right;\n",
       "    }\n",
       "</style>\n",
       "<table border=\"1\" class=\"dataframe\">\n",
       "  <thead>\n",
       "    <tr style=\"text-align: right;\">\n",
       "      <th></th>\n",
       "      <th>order_id</th>\n",
       "      <th>quantity</th>\n",
       "    </tr>\n",
       "  </thead>\n",
       "  <tbody>\n",
       "    <tr>\n",
       "      <th>count</th>\n",
       "      <td>4622.000000</td>\n",
       "      <td>4622.000000</td>\n",
       "    </tr>\n",
       "    <tr>\n",
       "      <th>mean</th>\n",
       "      <td>927.254868</td>\n",
       "      <td>1.075725</td>\n",
       "    </tr>\n",
       "    <tr>\n",
       "      <th>std</th>\n",
       "      <td>528.890796</td>\n",
       "      <td>0.410186</td>\n",
       "    </tr>\n",
       "    <tr>\n",
       "      <th>min</th>\n",
       "      <td>1.000000</td>\n",
       "      <td>1.000000</td>\n",
       "    </tr>\n",
       "    <tr>\n",
       "      <th>25%</th>\n",
       "      <td>477.250000</td>\n",
       "      <td>1.000000</td>\n",
       "    </tr>\n",
       "    <tr>\n",
       "      <th>50%</th>\n",
       "      <td>926.000000</td>\n",
       "      <td>1.000000</td>\n",
       "    </tr>\n",
       "    <tr>\n",
       "      <th>75%</th>\n",
       "      <td>1393.000000</td>\n",
       "      <td>1.000000</td>\n",
       "    </tr>\n",
       "    <tr>\n",
       "      <th>max</th>\n",
       "      <td>1834.000000</td>\n",
       "      <td>15.000000</td>\n",
       "    </tr>\n",
       "  </tbody>\n",
       "</table>\n",
       "</div>"
      ],
      "text/plain": [
       "          order_id     quantity\n",
       "count  4622.000000  4622.000000\n",
       "mean    927.254868     1.075725\n",
       "std     528.890796     0.410186\n",
       "min       1.000000     1.000000\n",
       "25%     477.250000     1.000000\n",
       "50%     926.000000     1.000000\n",
       "75%    1393.000000     1.000000\n",
       "max    1834.000000    15.000000"
      ]
     },
     "execution_count": 13,
     "metadata": {},
     "output_type": "execute_result"
    }
   ],
   "source": [
    "df.describe()"
   ]
  },
  {
   "cell_type": "code",
   "execution_count": 14,
   "id": "6f22c8d9",
   "metadata": {},
   "outputs": [
    {
     "data": {
      "application/vnd.microsoft.datawrangler.viewer.v0+json": {
       "columns": [
        {
         "name": "index",
         "rawType": "object",
         "type": "string"
        },
        {
         "name": "order_id",
         "rawType": "float64",
         "type": "float"
        },
        {
         "name": "quantity",
         "rawType": "float64",
         "type": "float"
        },
        {
         "name": "item_name",
         "rawType": "object",
         "type": "unknown"
        },
        {
         "name": "choice_description",
         "rawType": "object",
         "type": "unknown"
        },
        {
         "name": "item_price",
         "rawType": "object",
         "type": "unknown"
        }
       ],
       "ref": "b7a95e50-7e7f-4ebe-ae99-f51db7b50841",
       "rows": [
        [
         "count",
         "4622.0",
         "4622.0",
         "4622",
         "3376",
         "4622"
        ],
        [
         "unique",
         null,
         null,
         "50",
         "1043",
         "78"
        ],
        [
         "top",
         null,
         null,
         "Chicken Bowl",
         "[Diet Coke]",
         "$8.75 "
        ],
        [
         "freq",
         null,
         null,
         "726",
         "134",
         "730"
        ],
        [
         "mean",
         "927.2548680225011",
         "1.0757247944612722",
         null,
         null,
         null
        ],
        [
         "std",
         "528.8907955866094",
         "0.41018633425753315",
         null,
         null,
         null
        ],
        [
         "min",
         "1.0",
         "1.0",
         null,
         null,
         null
        ],
        [
         "25%",
         "477.25",
         "1.0",
         null,
         null,
         null
        ],
        [
         "50%",
         "926.0",
         "1.0",
         null,
         null,
         null
        ],
        [
         "75%",
         "1393.0",
         "1.0",
         null,
         null,
         null
        ],
        [
         "max",
         "1834.0",
         "15.0",
         null,
         null,
         null
        ]
       ],
       "shape": {
        "columns": 5,
        "rows": 11
       }
      },
      "text/html": [
       "<div>\n",
       "<style scoped>\n",
       "    .dataframe tbody tr th:only-of-type {\n",
       "        vertical-align: middle;\n",
       "    }\n",
       "\n",
       "    .dataframe tbody tr th {\n",
       "        vertical-align: top;\n",
       "    }\n",
       "\n",
       "    .dataframe thead th {\n",
       "        text-align: right;\n",
       "    }\n",
       "</style>\n",
       "<table border=\"1\" class=\"dataframe\">\n",
       "  <thead>\n",
       "    <tr style=\"text-align: right;\">\n",
       "      <th></th>\n",
       "      <th>order_id</th>\n",
       "      <th>quantity</th>\n",
       "      <th>item_name</th>\n",
       "      <th>choice_description</th>\n",
       "      <th>item_price</th>\n",
       "    </tr>\n",
       "  </thead>\n",
       "  <tbody>\n",
       "    <tr>\n",
       "      <th>count</th>\n",
       "      <td>4622.000000</td>\n",
       "      <td>4622.000000</td>\n",
       "      <td>4622</td>\n",
       "      <td>3376</td>\n",
       "      <td>4622</td>\n",
       "    </tr>\n",
       "    <tr>\n",
       "      <th>unique</th>\n",
       "      <td>NaN</td>\n",
       "      <td>NaN</td>\n",
       "      <td>50</td>\n",
       "      <td>1043</td>\n",
       "      <td>78</td>\n",
       "    </tr>\n",
       "    <tr>\n",
       "      <th>top</th>\n",
       "      <td>NaN</td>\n",
       "      <td>NaN</td>\n",
       "      <td>Chicken Bowl</td>\n",
       "      <td>[Diet Coke]</td>\n",
       "      <td>$8.75</td>\n",
       "    </tr>\n",
       "    <tr>\n",
       "      <th>freq</th>\n",
       "      <td>NaN</td>\n",
       "      <td>NaN</td>\n",
       "      <td>726</td>\n",
       "      <td>134</td>\n",
       "      <td>730</td>\n",
       "    </tr>\n",
       "    <tr>\n",
       "      <th>mean</th>\n",
       "      <td>927.254868</td>\n",
       "      <td>1.075725</td>\n",
       "      <td>NaN</td>\n",
       "      <td>NaN</td>\n",
       "      <td>NaN</td>\n",
       "    </tr>\n",
       "    <tr>\n",
       "      <th>std</th>\n",
       "      <td>528.890796</td>\n",
       "      <td>0.410186</td>\n",
       "      <td>NaN</td>\n",
       "      <td>NaN</td>\n",
       "      <td>NaN</td>\n",
       "    </tr>\n",
       "    <tr>\n",
       "      <th>min</th>\n",
       "      <td>1.000000</td>\n",
       "      <td>1.000000</td>\n",
       "      <td>NaN</td>\n",
       "      <td>NaN</td>\n",
       "      <td>NaN</td>\n",
       "    </tr>\n",
       "    <tr>\n",
       "      <th>25%</th>\n",
       "      <td>477.250000</td>\n",
       "      <td>1.000000</td>\n",
       "      <td>NaN</td>\n",
       "      <td>NaN</td>\n",
       "      <td>NaN</td>\n",
       "    </tr>\n",
       "    <tr>\n",
       "      <th>50%</th>\n",
       "      <td>926.000000</td>\n",
       "      <td>1.000000</td>\n",
       "      <td>NaN</td>\n",
       "      <td>NaN</td>\n",
       "      <td>NaN</td>\n",
       "    </tr>\n",
       "    <tr>\n",
       "      <th>75%</th>\n",
       "      <td>1393.000000</td>\n",
       "      <td>1.000000</td>\n",
       "      <td>NaN</td>\n",
       "      <td>NaN</td>\n",
       "      <td>NaN</td>\n",
       "    </tr>\n",
       "    <tr>\n",
       "      <th>max</th>\n",
       "      <td>1834.000000</td>\n",
       "      <td>15.000000</td>\n",
       "      <td>NaN</td>\n",
       "      <td>NaN</td>\n",
       "      <td>NaN</td>\n",
       "    </tr>\n",
       "  </tbody>\n",
       "</table>\n",
       "</div>"
      ],
      "text/plain": [
       "           order_id     quantity     item_name choice_description item_price\n",
       "count   4622.000000  4622.000000          4622               3376       4622\n",
       "unique          NaN          NaN            50               1043         78\n",
       "top             NaN          NaN  Chicken Bowl        [Diet Coke]     $8.75 \n",
       "freq            NaN          NaN           726                134        730\n",
       "mean     927.254868     1.075725           NaN                NaN        NaN\n",
       "std      528.890796     0.410186           NaN                NaN        NaN\n",
       "min        1.000000     1.000000           NaN                NaN        NaN\n",
       "25%      477.250000     1.000000           NaN                NaN        NaN\n",
       "50%      926.000000     1.000000           NaN                NaN        NaN\n",
       "75%     1393.000000     1.000000           NaN                NaN        NaN\n",
       "max     1834.000000    15.000000           NaN                NaN        NaN"
      ]
     },
     "execution_count": 14,
     "metadata": {},
     "output_type": "execute_result"
    }
   ],
   "source": [
    "df.describe(include=\"all\")"
   ]
  },
  {
   "cell_type": "markdown",
   "id": "eead879b",
   "metadata": {},
   "source": [
    "#### `loc`\n",
    "df.loc[row_labels, column_labels]"
   ]
  },
  {
   "cell_type": "code",
   "execution_count": 15,
   "id": "81c0c60e",
   "metadata": {},
   "outputs": [
    {
     "data": {
      "application/vnd.microsoft.datawrangler.viewer.v0+json": {
       "columns": [
        {
         "name": "index",
         "rawType": "int64",
         "type": "integer"
        },
        {
         "name": "order_id",
         "rawType": "int64",
         "type": "integer"
        },
        {
         "name": "quantity",
         "rawType": "int64",
         "type": "integer"
        },
        {
         "name": "item_name",
         "rawType": "object",
         "type": "string"
        },
        {
         "name": "choice_description",
         "rawType": "object",
         "type": "unknown"
        },
        {
         "name": "item_price",
         "rawType": "object",
         "type": "string"
        }
       ],
       "ref": "e40b052e-7880-48eb-8b65-2a97e9cc12d4",
       "rows": [
        [
         "0",
         "1",
         "1",
         "Chips and Fresh Tomato Salsa",
         null,
         "$2.39 "
        ],
        [
         "1",
         "1",
         "1",
         "Izze",
         "[Clementine]",
         "$3.39 "
        ],
        [
         "2",
         "1",
         "1",
         "Nantucket Nectar",
         "[Apple]",
         "$3.39 "
        ],
        [
         "3",
         "1",
         "1",
         "Chips and Tomatillo-Green Chili Salsa",
         null,
         "$2.39 "
        ],
        [
         "4",
         "2",
         "2",
         "Chicken Bowl",
         "[Tomatillo-Red Chili Salsa (Hot), [Black Beans, Rice, Cheese, Sour Cream]]",
         "$16.98 "
        ]
       ],
       "shape": {
        "columns": 5,
        "rows": 5
       }
      },
      "text/html": [
       "<div>\n",
       "<style scoped>\n",
       "    .dataframe tbody tr th:only-of-type {\n",
       "        vertical-align: middle;\n",
       "    }\n",
       "\n",
       "    .dataframe tbody tr th {\n",
       "        vertical-align: top;\n",
       "    }\n",
       "\n",
       "    .dataframe thead th {\n",
       "        text-align: right;\n",
       "    }\n",
       "</style>\n",
       "<table border=\"1\" class=\"dataframe\">\n",
       "  <thead>\n",
       "    <tr style=\"text-align: right;\">\n",
       "      <th></th>\n",
       "      <th>order_id</th>\n",
       "      <th>quantity</th>\n",
       "      <th>item_name</th>\n",
       "      <th>choice_description</th>\n",
       "      <th>item_price</th>\n",
       "    </tr>\n",
       "  </thead>\n",
       "  <tbody>\n",
       "    <tr>\n",
       "      <th>0</th>\n",
       "      <td>1</td>\n",
       "      <td>1</td>\n",
       "      <td>Chips and Fresh Tomato Salsa</td>\n",
       "      <td>NaN</td>\n",
       "      <td>$2.39</td>\n",
       "    </tr>\n",
       "    <tr>\n",
       "      <th>1</th>\n",
       "      <td>1</td>\n",
       "      <td>1</td>\n",
       "      <td>Izze</td>\n",
       "      <td>[Clementine]</td>\n",
       "      <td>$3.39</td>\n",
       "    </tr>\n",
       "    <tr>\n",
       "      <th>2</th>\n",
       "      <td>1</td>\n",
       "      <td>1</td>\n",
       "      <td>Nantucket Nectar</td>\n",
       "      <td>[Apple]</td>\n",
       "      <td>$3.39</td>\n",
       "    </tr>\n",
       "    <tr>\n",
       "      <th>3</th>\n",
       "      <td>1</td>\n",
       "      <td>1</td>\n",
       "      <td>Chips and Tomatillo-Green Chili Salsa</td>\n",
       "      <td>NaN</td>\n",
       "      <td>$2.39</td>\n",
       "    </tr>\n",
       "    <tr>\n",
       "      <th>4</th>\n",
       "      <td>2</td>\n",
       "      <td>2</td>\n",
       "      <td>Chicken Bowl</td>\n",
       "      <td>[Tomatillo-Red Chili Salsa (Hot), [Black Beans...</td>\n",
       "      <td>$16.98</td>\n",
       "    </tr>\n",
       "  </tbody>\n",
       "</table>\n",
       "</div>"
      ],
      "text/plain": [
       "   order_id  quantity                              item_name  \\\n",
       "0         1         1           Chips and Fresh Tomato Salsa   \n",
       "1         1         1                                   Izze   \n",
       "2         1         1                       Nantucket Nectar   \n",
       "3         1         1  Chips and Tomatillo-Green Chili Salsa   \n",
       "4         2         2                           Chicken Bowl   \n",
       "\n",
       "                                  choice_description item_price  \n",
       "0                                                NaN     $2.39   \n",
       "1                                       [Clementine]     $3.39   \n",
       "2                                            [Apple]     $3.39   \n",
       "3                                                NaN     $2.39   \n",
       "4  [Tomatillo-Red Chili Salsa (Hot), [Black Beans...    $16.98   "
      ]
     },
     "execution_count": 15,
     "metadata": {},
     "output_type": "execute_result"
    }
   ],
   "source": [
    "df.head()"
   ]
  },
  {
   "cell_type": "code",
   "execution_count": null,
   "id": "c07bbf59",
   "metadata": {},
   "outputs": [
    {
     "data": {
      "application/vnd.microsoft.datawrangler.viewer.v0+json": {
       "columns": [
        {
         "name": "index",
         "rawType": "int64",
         "type": "integer"
        },
        {
         "name": "order_id",
         "rawType": "int64",
         "type": "integer"
        },
        {
         "name": "quantity",
         "rawType": "int64",
         "type": "integer"
        },
        {
         "name": "item_name",
         "rawType": "object",
         "type": "string"
        },
        {
         "name": "choice_description",
         "rawType": "object",
         "type": "unknown"
        },
        {
         "name": "item_price",
         "rawType": "object",
         "type": "string"
        }
       ],
       "ref": "9c3c9040-5893-4345-bf08-4c2cc4f15d6f",
       "rows": [
        [
         "3598",
         "1443",
         "15",
         "Chips and Fresh Tomato Salsa",
         null,
         "$44.25 "
        ]
       ],
       "shape": {
        "columns": 5,
        "rows": 1
       }
      },
      "text/html": [
       "<div>\n",
       "<style scoped>\n",
       "    .dataframe tbody tr th:only-of-type {\n",
       "        vertical-align: middle;\n",
       "    }\n",
       "\n",
       "    .dataframe tbody tr th {\n",
       "        vertical-align: top;\n",
       "    }\n",
       "\n",
       "    .dataframe thead th {\n",
       "        text-align: right;\n",
       "    }\n",
       "</style>\n",
       "<table border=\"1\" class=\"dataframe\">\n",
       "  <thead>\n",
       "    <tr style=\"text-align: right;\">\n",
       "      <th></th>\n",
       "      <th>order_id</th>\n",
       "      <th>quantity</th>\n",
       "      <th>item_name</th>\n",
       "      <th>choice_description</th>\n",
       "      <th>item_price</th>\n",
       "    </tr>\n",
       "  </thead>\n",
       "  <tbody>\n",
       "    <tr>\n",
       "      <th>3598</th>\n",
       "      <td>1443</td>\n",
       "      <td>15</td>\n",
       "      <td>Chips and Fresh Tomato Salsa</td>\n",
       "      <td>NaN</td>\n",
       "      <td>$44.25</td>\n",
       "    </tr>\n",
       "  </tbody>\n",
       "</table>\n",
       "</div>"
      ],
      "text/plain": [
       "      order_id  quantity                     item_name choice_description  \\\n",
       "3598      1443        15  Chips and Fresh Tomato Salsa                NaN   \n",
       "\n",
       "     item_price  \n",
       "3598    $44.25   "
      ]
     },
     "execution_count": 17,
     "metadata": {},
     "output_type": "execute_result"
    }
   ],
   "source": [
    "df.loc[df[\"quantity\"] == 15]"
   ]
  },
  {
   "cell_type": "code",
   "execution_count": 22,
   "id": "3232a154",
   "metadata": {},
   "outputs": [
    {
     "data": {
      "application/vnd.microsoft.datawrangler.viewer.v0+json": {
       "columns": [
        {
         "name": "index",
         "rawType": "int64",
         "type": "integer"
        },
        {
         "name": "order_id",
         "rawType": "int64",
         "type": "integer"
        },
        {
         "name": "quantity",
         "rawType": "int64",
         "type": "integer"
        },
        {
         "name": "item_name",
         "rawType": "object",
         "type": "string"
        },
        {
         "name": "choice_description",
         "rawType": "object",
         "type": "unknown"
        },
        {
         "name": "item_price",
         "rawType": "object",
         "type": "string"
        }
       ],
       "ref": "569ed751-0365-4fac-9041-5df379d97a83",
       "rows": [
        [
         "2",
         "1",
         "1",
         "Nantucket Nectar",
         "[Apple]",
         "$3.39 "
        ],
        [
         "22",
         "11",
         "1",
         "Nantucket Nectar",
         "[Pomegranate Cherry]",
         "$3.39 "
        ],
        [
         "105",
         "46",
         "1",
         "Nantucket Nectar",
         "[Pineapple Orange Banana]",
         "$3.39 "
        ],
        [
         "173",
         "77",
         "1",
         "Nantucket Nectar",
         "[Apple]",
         "$3.39 "
        ],
        [
         "205",
         "91",
         "1",
         "Nantucket Nectar",
         "[Peach Orange]",
         "$3.39 "
        ],
        [
         "436",
         "189",
         "1",
         "Nantucket Nectar",
         "[Pomegranate Cherry]",
         "$3.39 "
        ],
        [
         "601",
         "247",
         "2",
         "Nantucket Nectar",
         "[Pineapple Orange Banana]",
         "$6.78 "
        ],
        [
         "925",
         "381",
         "1",
         "Nantucket Nectar",
         "[Pomegranate Cherry]",
         "$3.39 "
        ],
        [
         "1356",
         "553",
         "1",
         "Nantucket Nectar",
         "[Pomegranate Cherry]",
         "$3.39 "
        ],
        [
         "1585",
         "641",
         "1",
         "Nantucket Nectar",
         "[Peach Orange]",
         "$3.39 "
        ],
        [
         "1626",
         "656",
         "1",
         "Nantucket Nectar",
         "[Pineapple Orange Banana]",
         "$3.39 "
        ],
        [
         "1706",
         "690",
         "1",
         "Nantucket Nectar",
         "[Apple]",
         "$3.39 "
        ],
        [
         "2162",
         "872",
         "1",
         "Nantucket Nectar",
         "[Pineapple Orange Banana]",
         "$3.39 "
        ],
        [
         "2379",
         "947",
         "2",
         "Nantucket Nectar",
         "[Peach Orange]",
         "$6.78 "
        ],
        [
         "2381",
         "947",
         "1",
         "Nantucket Nectar",
         "[Apple]",
         "$3.39 "
        ],
        [
         "2430",
         "965",
         "1",
         "Nantucket Nectar",
         "[Pomegranate Cherry]",
         "$3.39 "
        ],
        [
         "2653",
         "1053",
         "1",
         "Nantucket Nectar",
         "[Pineapple Orange Banana]",
         "$3.39 "
        ],
        [
         "2818",
         "1118",
         "1",
         "Nantucket Nectar",
         "[Apple]",
         "$3.39 "
        ],
        [
         "2838",
         "1128",
         "1",
         "Nantucket Nectar",
         "[Peach Orange]",
         "$3.39 "
        ],
        [
         "2853",
         "1133",
         "1",
         "Nantucket Nectar",
         "[Apple]",
         "$3.39 "
        ],
        [
         "2949",
         "1172",
         "1",
         "Nantucket Nectar",
         "[Peach Orange]",
         "$3.39 "
        ],
        [
         "3318",
         "1330",
         "1",
         "Nantucket Nectar",
         "[Peach Orange]",
         "$3.39 "
        ],
        [
         "3368",
         "1351",
         "1",
         "Nantucket Nectar",
         "[Pineapple Orange Banana]",
         "$3.39 "
        ],
        [
         "3570",
         "1433",
         "1",
         "Nantucket Nectar",
         "[Pineapple Orange Banana]",
         "$3.39 "
        ],
        [
         "3598",
         "1443",
         "15",
         "Chips and Fresh Tomato Salsa",
         null,
         "$44.25 "
        ],
        [
         "3845",
         "1541",
         "1",
         "Nantucket Nectar",
         "[Peach Orange]",
         "$3.39 "
        ],
        [
         "4019",
         "1609",
         "1",
         "Nantucket Nectar",
         "[Pineapple Orange Banana]",
         "$3.39 "
        ],
        [
         "4078",
         "1632",
         "1",
         "Nantucket Nectar",
         "[Peach Orange]",
         "$3.39 "
        ]
       ],
       "shape": {
        "columns": 5,
        "rows": 28
       }
      },
      "text/html": [
       "<div>\n",
       "<style scoped>\n",
       "    .dataframe tbody tr th:only-of-type {\n",
       "        vertical-align: middle;\n",
       "    }\n",
       "\n",
       "    .dataframe tbody tr th {\n",
       "        vertical-align: top;\n",
       "    }\n",
       "\n",
       "    .dataframe thead th {\n",
       "        text-align: right;\n",
       "    }\n",
       "</style>\n",
       "<table border=\"1\" class=\"dataframe\">\n",
       "  <thead>\n",
       "    <tr style=\"text-align: right;\">\n",
       "      <th></th>\n",
       "      <th>order_id</th>\n",
       "      <th>quantity</th>\n",
       "      <th>item_name</th>\n",
       "      <th>choice_description</th>\n",
       "      <th>item_price</th>\n",
       "    </tr>\n",
       "  </thead>\n",
       "  <tbody>\n",
       "    <tr>\n",
       "      <th>2</th>\n",
       "      <td>1</td>\n",
       "      <td>1</td>\n",
       "      <td>Nantucket Nectar</td>\n",
       "      <td>[Apple]</td>\n",
       "      <td>$3.39</td>\n",
       "    </tr>\n",
       "    <tr>\n",
       "      <th>22</th>\n",
       "      <td>11</td>\n",
       "      <td>1</td>\n",
       "      <td>Nantucket Nectar</td>\n",
       "      <td>[Pomegranate Cherry]</td>\n",
       "      <td>$3.39</td>\n",
       "    </tr>\n",
       "    <tr>\n",
       "      <th>105</th>\n",
       "      <td>46</td>\n",
       "      <td>1</td>\n",
       "      <td>Nantucket Nectar</td>\n",
       "      <td>[Pineapple Orange Banana]</td>\n",
       "      <td>$3.39</td>\n",
       "    </tr>\n",
       "    <tr>\n",
       "      <th>173</th>\n",
       "      <td>77</td>\n",
       "      <td>1</td>\n",
       "      <td>Nantucket Nectar</td>\n",
       "      <td>[Apple]</td>\n",
       "      <td>$3.39</td>\n",
       "    </tr>\n",
       "    <tr>\n",
       "      <th>205</th>\n",
       "      <td>91</td>\n",
       "      <td>1</td>\n",
       "      <td>Nantucket Nectar</td>\n",
       "      <td>[Peach Orange]</td>\n",
       "      <td>$3.39</td>\n",
       "    </tr>\n",
       "    <tr>\n",
       "      <th>436</th>\n",
       "      <td>189</td>\n",
       "      <td>1</td>\n",
       "      <td>Nantucket Nectar</td>\n",
       "      <td>[Pomegranate Cherry]</td>\n",
       "      <td>$3.39</td>\n",
       "    </tr>\n",
       "    <tr>\n",
       "      <th>601</th>\n",
       "      <td>247</td>\n",
       "      <td>2</td>\n",
       "      <td>Nantucket Nectar</td>\n",
       "      <td>[Pineapple Orange Banana]</td>\n",
       "      <td>$6.78</td>\n",
       "    </tr>\n",
       "    <tr>\n",
       "      <th>925</th>\n",
       "      <td>381</td>\n",
       "      <td>1</td>\n",
       "      <td>Nantucket Nectar</td>\n",
       "      <td>[Pomegranate Cherry]</td>\n",
       "      <td>$3.39</td>\n",
       "    </tr>\n",
       "    <tr>\n",
       "      <th>1356</th>\n",
       "      <td>553</td>\n",
       "      <td>1</td>\n",
       "      <td>Nantucket Nectar</td>\n",
       "      <td>[Pomegranate Cherry]</td>\n",
       "      <td>$3.39</td>\n",
       "    </tr>\n",
       "    <tr>\n",
       "      <th>1585</th>\n",
       "      <td>641</td>\n",
       "      <td>1</td>\n",
       "      <td>Nantucket Nectar</td>\n",
       "      <td>[Peach Orange]</td>\n",
       "      <td>$3.39</td>\n",
       "    </tr>\n",
       "    <tr>\n",
       "      <th>1626</th>\n",
       "      <td>656</td>\n",
       "      <td>1</td>\n",
       "      <td>Nantucket Nectar</td>\n",
       "      <td>[Pineapple Orange Banana]</td>\n",
       "      <td>$3.39</td>\n",
       "    </tr>\n",
       "    <tr>\n",
       "      <th>1706</th>\n",
       "      <td>690</td>\n",
       "      <td>1</td>\n",
       "      <td>Nantucket Nectar</td>\n",
       "      <td>[Apple]</td>\n",
       "      <td>$3.39</td>\n",
       "    </tr>\n",
       "    <tr>\n",
       "      <th>2162</th>\n",
       "      <td>872</td>\n",
       "      <td>1</td>\n",
       "      <td>Nantucket Nectar</td>\n",
       "      <td>[Pineapple Orange Banana]</td>\n",
       "      <td>$3.39</td>\n",
       "    </tr>\n",
       "    <tr>\n",
       "      <th>2379</th>\n",
       "      <td>947</td>\n",
       "      <td>2</td>\n",
       "      <td>Nantucket Nectar</td>\n",
       "      <td>[Peach Orange]</td>\n",
       "      <td>$6.78</td>\n",
       "    </tr>\n",
       "    <tr>\n",
       "      <th>2381</th>\n",
       "      <td>947</td>\n",
       "      <td>1</td>\n",
       "      <td>Nantucket Nectar</td>\n",
       "      <td>[Apple]</td>\n",
       "      <td>$3.39</td>\n",
       "    </tr>\n",
       "    <tr>\n",
       "      <th>2430</th>\n",
       "      <td>965</td>\n",
       "      <td>1</td>\n",
       "      <td>Nantucket Nectar</td>\n",
       "      <td>[Pomegranate Cherry]</td>\n",
       "      <td>$3.39</td>\n",
       "    </tr>\n",
       "    <tr>\n",
       "      <th>2653</th>\n",
       "      <td>1053</td>\n",
       "      <td>1</td>\n",
       "      <td>Nantucket Nectar</td>\n",
       "      <td>[Pineapple Orange Banana]</td>\n",
       "      <td>$3.39</td>\n",
       "    </tr>\n",
       "    <tr>\n",
       "      <th>2818</th>\n",
       "      <td>1118</td>\n",
       "      <td>1</td>\n",
       "      <td>Nantucket Nectar</td>\n",
       "      <td>[Apple]</td>\n",
       "      <td>$3.39</td>\n",
       "    </tr>\n",
       "    <tr>\n",
       "      <th>2838</th>\n",
       "      <td>1128</td>\n",
       "      <td>1</td>\n",
       "      <td>Nantucket Nectar</td>\n",
       "      <td>[Peach Orange]</td>\n",
       "      <td>$3.39</td>\n",
       "    </tr>\n",
       "    <tr>\n",
       "      <th>2853</th>\n",
       "      <td>1133</td>\n",
       "      <td>1</td>\n",
       "      <td>Nantucket Nectar</td>\n",
       "      <td>[Apple]</td>\n",
       "      <td>$3.39</td>\n",
       "    </tr>\n",
       "    <tr>\n",
       "      <th>2949</th>\n",
       "      <td>1172</td>\n",
       "      <td>1</td>\n",
       "      <td>Nantucket Nectar</td>\n",
       "      <td>[Peach Orange]</td>\n",
       "      <td>$3.39</td>\n",
       "    </tr>\n",
       "    <tr>\n",
       "      <th>3318</th>\n",
       "      <td>1330</td>\n",
       "      <td>1</td>\n",
       "      <td>Nantucket Nectar</td>\n",
       "      <td>[Peach Orange]</td>\n",
       "      <td>$3.39</td>\n",
       "    </tr>\n",
       "    <tr>\n",
       "      <th>3368</th>\n",
       "      <td>1351</td>\n",
       "      <td>1</td>\n",
       "      <td>Nantucket Nectar</td>\n",
       "      <td>[Pineapple Orange Banana]</td>\n",
       "      <td>$3.39</td>\n",
       "    </tr>\n",
       "    <tr>\n",
       "      <th>3570</th>\n",
       "      <td>1433</td>\n",
       "      <td>1</td>\n",
       "      <td>Nantucket Nectar</td>\n",
       "      <td>[Pineapple Orange Banana]</td>\n",
       "      <td>$3.39</td>\n",
       "    </tr>\n",
       "    <tr>\n",
       "      <th>3598</th>\n",
       "      <td>1443</td>\n",
       "      <td>15</td>\n",
       "      <td>Chips and Fresh Tomato Salsa</td>\n",
       "      <td>NaN</td>\n",
       "      <td>$44.25</td>\n",
       "    </tr>\n",
       "    <tr>\n",
       "      <th>3845</th>\n",
       "      <td>1541</td>\n",
       "      <td>1</td>\n",
       "      <td>Nantucket Nectar</td>\n",
       "      <td>[Peach Orange]</td>\n",
       "      <td>$3.39</td>\n",
       "    </tr>\n",
       "    <tr>\n",
       "      <th>4019</th>\n",
       "      <td>1609</td>\n",
       "      <td>1</td>\n",
       "      <td>Nantucket Nectar</td>\n",
       "      <td>[Pineapple Orange Banana]</td>\n",
       "      <td>$3.39</td>\n",
       "    </tr>\n",
       "    <tr>\n",
       "      <th>4078</th>\n",
       "      <td>1632</td>\n",
       "      <td>1</td>\n",
       "      <td>Nantucket Nectar</td>\n",
       "      <td>[Peach Orange]</td>\n",
       "      <td>$3.39</td>\n",
       "    </tr>\n",
       "  </tbody>\n",
       "</table>\n",
       "</div>"
      ],
      "text/plain": [
       "      order_id  quantity                     item_name  \\\n",
       "2            1         1              Nantucket Nectar   \n",
       "22          11         1              Nantucket Nectar   \n",
       "105         46         1              Nantucket Nectar   \n",
       "173         77         1              Nantucket Nectar   \n",
       "205         91         1              Nantucket Nectar   \n",
       "436        189         1              Nantucket Nectar   \n",
       "601        247         2              Nantucket Nectar   \n",
       "925        381         1              Nantucket Nectar   \n",
       "1356       553         1              Nantucket Nectar   \n",
       "1585       641         1              Nantucket Nectar   \n",
       "1626       656         1              Nantucket Nectar   \n",
       "1706       690         1              Nantucket Nectar   \n",
       "2162       872         1              Nantucket Nectar   \n",
       "2379       947         2              Nantucket Nectar   \n",
       "2381       947         1              Nantucket Nectar   \n",
       "2430       965         1              Nantucket Nectar   \n",
       "2653      1053         1              Nantucket Nectar   \n",
       "2818      1118         1              Nantucket Nectar   \n",
       "2838      1128         1              Nantucket Nectar   \n",
       "2853      1133         1              Nantucket Nectar   \n",
       "2949      1172         1              Nantucket Nectar   \n",
       "3318      1330         1              Nantucket Nectar   \n",
       "3368      1351         1              Nantucket Nectar   \n",
       "3570      1433         1              Nantucket Nectar   \n",
       "3598      1443        15  Chips and Fresh Tomato Salsa   \n",
       "3845      1541         1              Nantucket Nectar   \n",
       "4019      1609         1              Nantucket Nectar   \n",
       "4078      1632         1              Nantucket Nectar   \n",
       "\n",
       "             choice_description item_price  \n",
       "2                       [Apple]     $3.39   \n",
       "22         [Pomegranate Cherry]     $3.39   \n",
       "105   [Pineapple Orange Banana]     $3.39   \n",
       "173                     [Apple]     $3.39   \n",
       "205              [Peach Orange]     $3.39   \n",
       "436        [Pomegranate Cherry]     $3.39   \n",
       "601   [Pineapple Orange Banana]     $6.78   \n",
       "925        [Pomegranate Cherry]     $3.39   \n",
       "1356       [Pomegranate Cherry]     $3.39   \n",
       "1585             [Peach Orange]     $3.39   \n",
       "1626  [Pineapple Orange Banana]     $3.39   \n",
       "1706                    [Apple]     $3.39   \n",
       "2162  [Pineapple Orange Banana]     $3.39   \n",
       "2379             [Peach Orange]     $6.78   \n",
       "2381                    [Apple]     $3.39   \n",
       "2430       [Pomegranate Cherry]     $3.39   \n",
       "2653  [Pineapple Orange Banana]     $3.39   \n",
       "2818                    [Apple]     $3.39   \n",
       "2838             [Peach Orange]     $3.39   \n",
       "2853                    [Apple]     $3.39   \n",
       "2949             [Peach Orange]     $3.39   \n",
       "3318             [Peach Orange]     $3.39   \n",
       "3368  [Pineapple Orange Banana]     $3.39   \n",
       "3570  [Pineapple Orange Banana]     $3.39   \n",
       "3598                        NaN    $44.25   \n",
       "3845             [Peach Orange]     $3.39   \n",
       "4019  [Pineapple Orange Banana]     $3.39   \n",
       "4078             [Peach Orange]     $3.39   "
      ]
     },
     "execution_count": 22,
     "metadata": {},
     "output_type": "execute_result"
    }
   ],
   "source": [
    "df.loc[(df[\"quantity\"] == 15) | (df[\"item_name\"] == \"Nantucket Nectar\")]"
   ]
  },
  {
   "cell_type": "code",
   "execution_count": 23,
   "id": "7b855ea9",
   "metadata": {},
   "outputs": [
    {
     "data": {
      "application/vnd.microsoft.datawrangler.viewer.v0+json": {
       "columns": [
        {
         "name": "index",
         "rawType": "int64",
         "type": "integer"
        },
        {
         "name": "order_id",
         "rawType": "int64",
         "type": "integer"
        },
        {
         "name": "quantity",
         "rawType": "int64",
         "type": "integer"
        },
        {
         "name": "item_name",
         "rawType": "object",
         "type": "string"
        },
        {
         "name": "choice_description",
         "rawType": "object",
         "type": "string"
        },
        {
         "name": "item_price",
         "rawType": "object",
         "type": "string"
        }
       ],
       "ref": "597aa489-0c76-4e48-8955-00c4ae9dcf29",
       "rows": [
        [
         "601",
         "247",
         "2",
         "Nantucket Nectar",
         "[Pineapple Orange Banana]",
         "$6.78 "
        ],
        [
         "2379",
         "947",
         "2",
         "Nantucket Nectar",
         "[Peach Orange]",
         "$6.78 "
        ]
       ],
       "shape": {
        "columns": 5,
        "rows": 2
       }
      },
      "text/html": [
       "<div>\n",
       "<style scoped>\n",
       "    .dataframe tbody tr th:only-of-type {\n",
       "        vertical-align: middle;\n",
       "    }\n",
       "\n",
       "    .dataframe tbody tr th {\n",
       "        vertical-align: top;\n",
       "    }\n",
       "\n",
       "    .dataframe thead th {\n",
       "        text-align: right;\n",
       "    }\n",
       "</style>\n",
       "<table border=\"1\" class=\"dataframe\">\n",
       "  <thead>\n",
       "    <tr style=\"text-align: right;\">\n",
       "      <th></th>\n",
       "      <th>order_id</th>\n",
       "      <th>quantity</th>\n",
       "      <th>item_name</th>\n",
       "      <th>choice_description</th>\n",
       "      <th>item_price</th>\n",
       "    </tr>\n",
       "  </thead>\n",
       "  <tbody>\n",
       "    <tr>\n",
       "      <th>601</th>\n",
       "      <td>247</td>\n",
       "      <td>2</td>\n",
       "      <td>Nantucket Nectar</td>\n",
       "      <td>[Pineapple Orange Banana]</td>\n",
       "      <td>$6.78</td>\n",
       "    </tr>\n",
       "    <tr>\n",
       "      <th>2379</th>\n",
       "      <td>947</td>\n",
       "      <td>2</td>\n",
       "      <td>Nantucket Nectar</td>\n",
       "      <td>[Peach Orange]</td>\n",
       "      <td>$6.78</td>\n",
       "    </tr>\n",
       "  </tbody>\n",
       "</table>\n",
       "</div>"
      ],
      "text/plain": [
       "      order_id  quantity         item_name         choice_description  \\\n",
       "601        247         2  Nantucket Nectar  [Pineapple Orange Banana]   \n",
       "2379       947         2  Nantucket Nectar             [Peach Orange]   \n",
       "\n",
       "     item_price  \n",
       "601      $6.78   \n",
       "2379     $6.78   "
      ]
     },
     "execution_count": 23,
     "metadata": {},
     "output_type": "execute_result"
    }
   ],
   "source": [
    "df.loc[(df[\"quantity\"] == 2) & (df[\"item_name\"] == \"Nantucket Nectar\")]"
   ]
  },
  {
   "cell_type": "code",
   "execution_count": 24,
   "id": "a71b500a",
   "metadata": {},
   "outputs": [
    {
     "data": {
      "application/vnd.microsoft.datawrangler.viewer.v0+json": {
       "columns": [
        {
         "name": "index",
         "rawType": "int64",
         "type": "integer"
        },
        {
         "name": "order_id",
         "rawType": "int64",
         "type": "integer"
        },
        {
         "name": "quantity",
         "rawType": "int64",
         "type": "integer"
        },
        {
         "name": "item_name",
         "rawType": "object",
         "type": "string"
        }
       ],
       "ref": "2785a003-b3ae-4ac6-8c94-95c89ce121b3",
       "rows": [
        [
         "601",
         "247",
         "2",
         "Nantucket Nectar"
        ],
        [
         "2379",
         "947",
         "2",
         "Nantucket Nectar"
        ]
       ],
       "shape": {
        "columns": 3,
        "rows": 2
       }
      },
      "text/html": [
       "<div>\n",
       "<style scoped>\n",
       "    .dataframe tbody tr th:only-of-type {\n",
       "        vertical-align: middle;\n",
       "    }\n",
       "\n",
       "    .dataframe tbody tr th {\n",
       "        vertical-align: top;\n",
       "    }\n",
       "\n",
       "    .dataframe thead th {\n",
       "        text-align: right;\n",
       "    }\n",
       "</style>\n",
       "<table border=\"1\" class=\"dataframe\">\n",
       "  <thead>\n",
       "    <tr style=\"text-align: right;\">\n",
       "      <th></th>\n",
       "      <th>order_id</th>\n",
       "      <th>quantity</th>\n",
       "      <th>item_name</th>\n",
       "    </tr>\n",
       "  </thead>\n",
       "  <tbody>\n",
       "    <tr>\n",
       "      <th>601</th>\n",
       "      <td>247</td>\n",
       "      <td>2</td>\n",
       "      <td>Nantucket Nectar</td>\n",
       "    </tr>\n",
       "    <tr>\n",
       "      <th>2379</th>\n",
       "      <td>947</td>\n",
       "      <td>2</td>\n",
       "      <td>Nantucket Nectar</td>\n",
       "    </tr>\n",
       "  </tbody>\n",
       "</table>\n",
       "</div>"
      ],
      "text/plain": [
       "      order_id  quantity         item_name\n",
       "601        247         2  Nantucket Nectar\n",
       "2379       947         2  Nantucket Nectar"
      ]
     },
     "execution_count": 24,
     "metadata": {},
     "output_type": "execute_result"
    }
   ],
   "source": [
    "df.loc[(df[\"quantity\"] == 2) & (df[\"item_name\"] == \"Nantucket Nectar\"), [\"order_id\", \"quantity\", \"item_name\"]]"
   ]
  },
  {
   "cell_type": "markdown",
   "id": "59acdecb",
   "metadata": {},
   "source": [
    "#### `iloc`\n",
    "df.iloc[row_positions, column_positions]"
   ]
  },
  {
   "cell_type": "code",
   "execution_count": 58,
   "id": "0ea3bbd7",
   "metadata": {},
   "outputs": [
    {
     "name": "stdout",
     "output_type": "stream",
     "text": [
      "order_id                                                              5\n",
      "quantity                                                              1\n",
      "item_name                                                 Steak Burrito\n",
      "choice_description    [Fresh Tomato Salsa, [Rice, Black Beans, Pinto...\n",
      "item_price                                                       $9.25 \n",
      "Name: 9, dtype: object\n",
      "<class 'pandas.core.series.Series'>\n"
     ]
    }
   ],
   "source": [
    "print(df.iloc[9])\n",
    "print(type(df.iloc[9]))"
   ]
  },
  {
   "cell_type": "code",
   "execution_count": 59,
   "id": "543792b7",
   "metadata": {},
   "outputs": [
    {
     "name": "stdout",
     "output_type": "stream",
     "text": [
      "   order_id  quantity      item_name  \\\n",
      "9         5         1  Steak Burrito   \n",
      "\n",
      "                                  choice_description item_price  \n",
      "9  [Fresh Tomato Salsa, [Rice, Black Beans, Pinto...     $9.25   \n",
      "<class 'pandas.core.frame.DataFrame'>\n"
     ]
    }
   ],
   "source": [
    "print(df.iloc[[9]])\n",
    "print(type(df.iloc[[9]]))"
   ]
  },
  {
   "cell_type": "code",
   "execution_count": 60,
   "id": "713599a1",
   "metadata": {},
   "outputs": [
    {
     "data": {
      "application/vnd.microsoft.datawrangler.viewer.v0+json": {
       "columns": [
        {
         "name": "index",
         "rawType": "int64",
         "type": "integer"
        },
        {
         "name": "order_id",
         "rawType": "int64",
         "type": "integer"
        },
        {
         "name": "quantity",
         "rawType": "int64",
         "type": "integer"
        },
        {
         "name": "item_name",
         "rawType": "object",
         "type": "string"
        },
        {
         "name": "choice_description",
         "rawType": "object",
         "type": "string"
        },
        {
         "name": "item_price",
         "rawType": "object",
         "type": "string"
        }
       ],
       "ref": "6c5b6cc5-4d94-4355-8ebf-f7434f60fc89",
       "rows": [
        [
         "3",
         "1",
         "1",
         "Chips and Tomatillo-Green Chili Salsa",
         "Unknow",
         "$2.39 "
        ],
        [
         "4",
         "2",
         "2",
         "Chicken Bowl",
         "[Tomatillo-Red Chili Salsa (Hot), [Black Beans, Rice, Cheese, Sour Cream]]",
         "$16.98 "
        ],
        [
         "5",
         "3",
         "1",
         "Chicken Bowl",
         "[Fresh Tomato Salsa (Mild), [Rice, Cheese, Sour Cream, Guacamole, Lettuce]]",
         "$10.98 "
        ],
        [
         "6",
         "3",
         "1",
         "Side of Chips",
         "Unknow",
         "$1.69 "
        ],
        [
         "7",
         "4",
         "1",
         "Steak Burrito",
         "[Tomatillo Red Chili Salsa, [Fajita Vegetables, Black Beans, Pinto Beans, Cheese, Sour Cream, Guacamole, Lettuce]]",
         "$11.75 "
        ],
        [
         "8",
         "4",
         "1",
         "Steak Soft Tacos",
         "[Tomatillo Green Chili Salsa, [Pinto Beans, Cheese, Sour Cream, Lettuce]]",
         "$9.25 "
        ],
        [
         "9",
         "5",
         "1",
         "Steak Burrito",
         "[Fresh Tomato Salsa, [Rice, Black Beans, Pinto Beans, Cheese, Sour Cream, Lettuce]]",
         "$9.25 "
        ],
        [
         "10",
         "5",
         "1",
         "Chips and Guacamole",
         "Unknow",
         "$4.45 "
        ]
       ],
       "shape": {
        "columns": 5,
        "rows": 8
       }
      },
      "text/html": [
       "<div>\n",
       "<style scoped>\n",
       "    .dataframe tbody tr th:only-of-type {\n",
       "        vertical-align: middle;\n",
       "    }\n",
       "\n",
       "    .dataframe tbody tr th {\n",
       "        vertical-align: top;\n",
       "    }\n",
       "\n",
       "    .dataframe thead th {\n",
       "        text-align: right;\n",
       "    }\n",
       "</style>\n",
       "<table border=\"1\" class=\"dataframe\">\n",
       "  <thead>\n",
       "    <tr style=\"text-align: right;\">\n",
       "      <th></th>\n",
       "      <th>order_id</th>\n",
       "      <th>quantity</th>\n",
       "      <th>item_name</th>\n",
       "      <th>choice_description</th>\n",
       "      <th>item_price</th>\n",
       "    </tr>\n",
       "  </thead>\n",
       "  <tbody>\n",
       "    <tr>\n",
       "      <th>3</th>\n",
       "      <td>1</td>\n",
       "      <td>1</td>\n",
       "      <td>Chips and Tomatillo-Green Chili Salsa</td>\n",
       "      <td>Unknow</td>\n",
       "      <td>$2.39</td>\n",
       "    </tr>\n",
       "    <tr>\n",
       "      <th>4</th>\n",
       "      <td>2</td>\n",
       "      <td>2</td>\n",
       "      <td>Chicken Bowl</td>\n",
       "      <td>[Tomatillo-Red Chili Salsa (Hot), [Black Beans...</td>\n",
       "      <td>$16.98</td>\n",
       "    </tr>\n",
       "    <tr>\n",
       "      <th>5</th>\n",
       "      <td>3</td>\n",
       "      <td>1</td>\n",
       "      <td>Chicken Bowl</td>\n",
       "      <td>[Fresh Tomato Salsa (Mild), [Rice, Cheese, Sou...</td>\n",
       "      <td>$10.98</td>\n",
       "    </tr>\n",
       "    <tr>\n",
       "      <th>6</th>\n",
       "      <td>3</td>\n",
       "      <td>1</td>\n",
       "      <td>Side of Chips</td>\n",
       "      <td>Unknow</td>\n",
       "      <td>$1.69</td>\n",
       "    </tr>\n",
       "    <tr>\n",
       "      <th>7</th>\n",
       "      <td>4</td>\n",
       "      <td>1</td>\n",
       "      <td>Steak Burrito</td>\n",
       "      <td>[Tomatillo Red Chili Salsa, [Fajita Vegetables...</td>\n",
       "      <td>$11.75</td>\n",
       "    </tr>\n",
       "    <tr>\n",
       "      <th>8</th>\n",
       "      <td>4</td>\n",
       "      <td>1</td>\n",
       "      <td>Steak Soft Tacos</td>\n",
       "      <td>[Tomatillo Green Chili Salsa, [Pinto Beans, Ch...</td>\n",
       "      <td>$9.25</td>\n",
       "    </tr>\n",
       "    <tr>\n",
       "      <th>9</th>\n",
       "      <td>5</td>\n",
       "      <td>1</td>\n",
       "      <td>Steak Burrito</td>\n",
       "      <td>[Fresh Tomato Salsa, [Rice, Black Beans, Pinto...</td>\n",
       "      <td>$9.25</td>\n",
       "    </tr>\n",
       "    <tr>\n",
       "      <th>10</th>\n",
       "      <td>5</td>\n",
       "      <td>1</td>\n",
       "      <td>Chips and Guacamole</td>\n",
       "      <td>Unknow</td>\n",
       "      <td>$4.45</td>\n",
       "    </tr>\n",
       "  </tbody>\n",
       "</table>\n",
       "</div>"
      ],
      "text/plain": [
       "    order_id  quantity                              item_name  \\\n",
       "3          1         1  Chips and Tomatillo-Green Chili Salsa   \n",
       "4          2         2                           Chicken Bowl   \n",
       "5          3         1                           Chicken Bowl   \n",
       "6          3         1                          Side of Chips   \n",
       "7          4         1                          Steak Burrito   \n",
       "8          4         1                       Steak Soft Tacos   \n",
       "9          5         1                          Steak Burrito   \n",
       "10         5         1                    Chips and Guacamole   \n",
       "\n",
       "                                   choice_description item_price  \n",
       "3                                              Unknow     $2.39   \n",
       "4   [Tomatillo-Red Chili Salsa (Hot), [Black Beans...    $16.98   \n",
       "5   [Fresh Tomato Salsa (Mild), [Rice, Cheese, Sou...    $10.98   \n",
       "6                                              Unknow     $1.69   \n",
       "7   [Tomatillo Red Chili Salsa, [Fajita Vegetables...    $11.75   \n",
       "8   [Tomatillo Green Chili Salsa, [Pinto Beans, Ch...     $9.25   \n",
       "9   [Fresh Tomato Salsa, [Rice, Black Beans, Pinto...     $9.25   \n",
       "10                                             Unknow     $4.45   "
      ]
     },
     "execution_count": 60,
     "metadata": {},
     "output_type": "execute_result"
    }
   ],
   "source": [
    "df.iloc[3:11]"
   ]
  },
  {
   "cell_type": "code",
   "execution_count": 61,
   "id": "c07bb036",
   "metadata": {},
   "outputs": [
    {
     "name": "stdout",
     "output_type": "stream",
     "text": [
      "   order_id  quantity                              item_name  \\\n",
      "3         1         1  Chips and Tomatillo-Green Chili Salsa   \n",
      "4         2         2                           Chicken Bowl   \n",
      "\n",
      "                                  choice_description  \n",
      "3                                             Unknow  \n",
      "4  [Tomatillo-Red Chili Salsa (Hot), [Black Beans...  \n"
     ]
    }
   ],
   "source": [
    "X = df.iloc[3:5, :-1]\n",
    "print(X)"
   ]
  },
  {
   "cell_type": "code",
   "execution_count": 62,
   "id": "38e6945b",
   "metadata": {},
   "outputs": [
    {
     "name": "stdout",
     "output_type": "stream",
     "text": [
      "3     $2.39 \n",
      "4    $16.98 \n",
      "Name: item_price, dtype: object\n"
     ]
    }
   ],
   "source": [
    "y = df.iloc[3:5, -1]\n",
    "print(y)"
   ]
  },
  {
   "cell_type": "markdown",
   "id": "11497346",
   "metadata": {},
   "source": [
    "### Step 3: Data Manipulation"
   ]
  },
  {
   "cell_type": "code",
   "execution_count": 34,
   "id": "c9a0a681",
   "metadata": {},
   "outputs": [
    {
     "data": {
      "text/plain": [
       "dtype('O')"
      ]
     },
     "execution_count": 34,
     "metadata": {},
     "output_type": "execute_result"
    }
   ],
   "source": [
    "df[\"item_price\"].dtype"
   ]
  },
  {
   "cell_type": "markdown",
   "id": "93aa2956",
   "metadata": {},
   "source": [
    "#### `apply()`"
   ]
  },
  {
   "cell_type": "code",
   "execution_count": 36,
   "id": "ceb65d05",
   "metadata": {},
   "outputs": [
    {
     "data": {
      "application/vnd.microsoft.datawrangler.viewer.v0+json": {
       "columns": [
        {
         "name": "index",
         "rawType": "int64",
         "type": "integer"
        },
        {
         "name": "item_price",
         "rawType": "float64",
         "type": "float"
        }
       ],
       "ref": "2cbf5ebd-424d-4221-a992-541800d82165",
       "rows": [
        [
         "0",
         "2.39"
        ],
        [
         "1",
         "3.39"
        ],
        [
         "2",
         "3.39"
        ],
        [
         "3",
         "2.39"
        ],
        [
         "4",
         "16.98"
        ],
        [
         "5",
         "10.98"
        ],
        [
         "6",
         "1.69"
        ],
        [
         "7",
         "11.75"
        ],
        [
         "8",
         "9.25"
        ],
        [
         "9",
         "9.25"
        ],
        [
         "10",
         "4.45"
        ],
        [
         "11",
         "8.75"
        ],
        [
         "12",
         "8.75"
        ],
        [
         "13",
         "11.25"
        ],
        [
         "14",
         "4.45"
        ],
        [
         "15",
         "2.39"
        ],
        [
         "16",
         "8.49"
        ],
        [
         "17",
         "8.49"
        ],
        [
         "18",
         "2.18"
        ],
        [
         "19",
         "8.75"
        ],
        [
         "20",
         "4.45"
        ],
        [
         "21",
         "8.99"
        ],
        [
         "22",
         "3.39"
        ],
        [
         "23",
         "10.98"
        ],
        [
         "24",
         "3.39"
        ],
        [
         "25",
         "2.39"
        ],
        [
         "26",
         "8.49"
        ],
        [
         "27",
         "8.99"
        ],
        [
         "28",
         "1.09"
        ],
        [
         "29",
         "8.49"
        ],
        [
         "30",
         "2.39"
        ],
        [
         "31",
         "8.99"
        ],
        [
         "32",
         "1.69"
        ],
        [
         "33",
         "8.99"
        ],
        [
         "34",
         "1.09"
        ],
        [
         "35",
         "8.75"
        ],
        [
         "36",
         "8.75"
        ],
        [
         "37",
         "4.45"
        ],
        [
         "38",
         "2.95"
        ],
        [
         "39",
         "11.75"
        ],
        [
         "40",
         "2.15"
        ],
        [
         "41",
         "4.45"
        ],
        [
         "42",
         "11.25"
        ],
        [
         "43",
         "11.75"
        ],
        [
         "44",
         "8.75"
        ],
        [
         "45",
         "10.98"
        ],
        [
         "46",
         "8.99"
        ],
        [
         "47",
         "3.39"
        ],
        [
         "48",
         "8.99"
        ],
        [
         "49",
         "3.99"
        ]
       ],
       "shape": {
        "columns": 1,
        "rows": 4622
       }
      },
      "text/plain": [
       "0        2.39\n",
       "1        3.39\n",
       "2        3.39\n",
       "3        2.39\n",
       "4       16.98\n",
       "        ...  \n",
       "4617    11.75\n",
       "4618    11.75\n",
       "4619    11.25\n",
       "4620     8.75\n",
       "4621     8.75\n",
       "Name: item_price, Length: 4622, dtype: float64"
      ]
     },
     "execution_count": 36,
     "metadata": {},
     "output_type": "execute_result"
    }
   ],
   "source": [
    "df[\"item_price\"].apply(lambda x: float(x.replace(\"$\", \"\"))) "
   ]
  },
  {
   "cell_type": "code",
   "execution_count": 37,
   "id": "209b5804",
   "metadata": {},
   "outputs": [
    {
     "data": {
      "application/vnd.microsoft.datawrangler.viewer.v0+json": {
       "columns": [
        {
         "name": "index",
         "rawType": "int64",
         "type": "integer"
        },
        {
         "name": "order_id",
         "rawType": "int64",
         "type": "integer"
        },
        {
         "name": "quantity",
         "rawType": "int64",
         "type": "integer"
        },
        {
         "name": "item_name",
         "rawType": "object",
         "type": "string"
        },
        {
         "name": "choice_description",
         "rawType": "object",
         "type": "unknown"
        },
        {
         "name": "item_price",
         "rawType": "object",
         "type": "string"
        }
       ],
       "ref": "a88e36d9-5a76-495d-9b69-1356cfcf66db",
       "rows": [
        [
         "0",
         "1",
         "1",
         "Chips and Fresh Tomato Salsa",
         null,
         "$2.39 "
        ],
        [
         "1",
         "1",
         "1",
         "Izze",
         "[Clementine]",
         "$3.39 "
        ],
        [
         "2",
         "1",
         "1",
         "Nantucket Nectar",
         "[Apple]",
         "$3.39 "
        ],
        [
         "3",
         "1",
         "1",
         "Chips and Tomatillo-Green Chili Salsa",
         null,
         "$2.39 "
        ],
        [
         "4",
         "2",
         "2",
         "Chicken Bowl",
         "[Tomatillo-Red Chili Salsa (Hot), [Black Beans, Rice, Cheese, Sour Cream]]",
         "$16.98 "
        ]
       ],
       "shape": {
        "columns": 5,
        "rows": 5
       }
      },
      "text/html": [
       "<div>\n",
       "<style scoped>\n",
       "    .dataframe tbody tr th:only-of-type {\n",
       "        vertical-align: middle;\n",
       "    }\n",
       "\n",
       "    .dataframe tbody tr th {\n",
       "        vertical-align: top;\n",
       "    }\n",
       "\n",
       "    .dataframe thead th {\n",
       "        text-align: right;\n",
       "    }\n",
       "</style>\n",
       "<table border=\"1\" class=\"dataframe\">\n",
       "  <thead>\n",
       "    <tr style=\"text-align: right;\">\n",
       "      <th></th>\n",
       "      <th>order_id</th>\n",
       "      <th>quantity</th>\n",
       "      <th>item_name</th>\n",
       "      <th>choice_description</th>\n",
       "      <th>item_price</th>\n",
       "    </tr>\n",
       "  </thead>\n",
       "  <tbody>\n",
       "    <tr>\n",
       "      <th>0</th>\n",
       "      <td>1</td>\n",
       "      <td>1</td>\n",
       "      <td>Chips and Fresh Tomato Salsa</td>\n",
       "      <td>NaN</td>\n",
       "      <td>$2.39</td>\n",
       "    </tr>\n",
       "    <tr>\n",
       "      <th>1</th>\n",
       "      <td>1</td>\n",
       "      <td>1</td>\n",
       "      <td>Izze</td>\n",
       "      <td>[Clementine]</td>\n",
       "      <td>$3.39</td>\n",
       "    </tr>\n",
       "    <tr>\n",
       "      <th>2</th>\n",
       "      <td>1</td>\n",
       "      <td>1</td>\n",
       "      <td>Nantucket Nectar</td>\n",
       "      <td>[Apple]</td>\n",
       "      <td>$3.39</td>\n",
       "    </tr>\n",
       "    <tr>\n",
       "      <th>3</th>\n",
       "      <td>1</td>\n",
       "      <td>1</td>\n",
       "      <td>Chips and Tomatillo-Green Chili Salsa</td>\n",
       "      <td>NaN</td>\n",
       "      <td>$2.39</td>\n",
       "    </tr>\n",
       "    <tr>\n",
       "      <th>4</th>\n",
       "      <td>2</td>\n",
       "      <td>2</td>\n",
       "      <td>Chicken Bowl</td>\n",
       "      <td>[Tomatillo-Red Chili Salsa (Hot), [Black Beans...</td>\n",
       "      <td>$16.98</td>\n",
       "    </tr>\n",
       "  </tbody>\n",
       "</table>\n",
       "</div>"
      ],
      "text/plain": [
       "   order_id  quantity                              item_name  \\\n",
       "0         1         1           Chips and Fresh Tomato Salsa   \n",
       "1         1         1                                   Izze   \n",
       "2         1         1                       Nantucket Nectar   \n",
       "3         1         1  Chips and Tomatillo-Green Chili Salsa   \n",
       "4         2         2                           Chicken Bowl   \n",
       "\n",
       "                                  choice_description item_price  \n",
       "0                                                NaN     $2.39   \n",
       "1                                       [Clementine]     $3.39   \n",
       "2                                            [Apple]     $3.39   \n",
       "3                                                NaN     $2.39   \n",
       "4  [Tomatillo-Red Chili Salsa (Hot), [Black Beans...    $16.98   "
      ]
     },
     "execution_count": 37,
     "metadata": {},
     "output_type": "execute_result"
    }
   ],
   "source": [
    "df.head()"
   ]
  },
  {
   "cell_type": "code",
   "execution_count": 38,
   "id": "9a4697e1",
   "metadata": {},
   "outputs": [],
   "source": [
    "df[\"item_price\"] = df[\"item_price\"].apply(lambda x: float(x.replace(\"$\", \"\"))) "
   ]
  },
  {
   "cell_type": "code",
   "execution_count": 39,
   "id": "67cee266",
   "metadata": {},
   "outputs": [
    {
     "data": {
      "application/vnd.microsoft.datawrangler.viewer.v0+json": {
       "columns": [
        {
         "name": "index",
         "rawType": "int64",
         "type": "integer"
        },
        {
         "name": "order_id",
         "rawType": "int64",
         "type": "integer"
        },
        {
         "name": "quantity",
         "rawType": "int64",
         "type": "integer"
        },
        {
         "name": "item_name",
         "rawType": "object",
         "type": "string"
        },
        {
         "name": "choice_description",
         "rawType": "object",
         "type": "unknown"
        },
        {
         "name": "item_price",
         "rawType": "float64",
         "type": "float"
        }
       ],
       "ref": "c705788b-cbd1-4e0e-acd8-04efc615631f",
       "rows": [
        [
         "0",
         "1",
         "1",
         "Chips and Fresh Tomato Salsa",
         null,
         "2.39"
        ],
        [
         "1",
         "1",
         "1",
         "Izze",
         "[Clementine]",
         "3.39"
        ],
        [
         "2",
         "1",
         "1",
         "Nantucket Nectar",
         "[Apple]",
         "3.39"
        ],
        [
         "3",
         "1",
         "1",
         "Chips and Tomatillo-Green Chili Salsa",
         null,
         "2.39"
        ],
        [
         "4",
         "2",
         "2",
         "Chicken Bowl",
         "[Tomatillo-Red Chili Salsa (Hot), [Black Beans, Rice, Cheese, Sour Cream]]",
         "16.98"
        ]
       ],
       "shape": {
        "columns": 5,
        "rows": 5
       }
      },
      "text/html": [
       "<div>\n",
       "<style scoped>\n",
       "    .dataframe tbody tr th:only-of-type {\n",
       "        vertical-align: middle;\n",
       "    }\n",
       "\n",
       "    .dataframe tbody tr th {\n",
       "        vertical-align: top;\n",
       "    }\n",
       "\n",
       "    .dataframe thead th {\n",
       "        text-align: right;\n",
       "    }\n",
       "</style>\n",
       "<table border=\"1\" class=\"dataframe\">\n",
       "  <thead>\n",
       "    <tr style=\"text-align: right;\">\n",
       "      <th></th>\n",
       "      <th>order_id</th>\n",
       "      <th>quantity</th>\n",
       "      <th>item_name</th>\n",
       "      <th>choice_description</th>\n",
       "      <th>item_price</th>\n",
       "    </tr>\n",
       "  </thead>\n",
       "  <tbody>\n",
       "    <tr>\n",
       "      <th>0</th>\n",
       "      <td>1</td>\n",
       "      <td>1</td>\n",
       "      <td>Chips and Fresh Tomato Salsa</td>\n",
       "      <td>NaN</td>\n",
       "      <td>2.39</td>\n",
       "    </tr>\n",
       "    <tr>\n",
       "      <th>1</th>\n",
       "      <td>1</td>\n",
       "      <td>1</td>\n",
       "      <td>Izze</td>\n",
       "      <td>[Clementine]</td>\n",
       "      <td>3.39</td>\n",
       "    </tr>\n",
       "    <tr>\n",
       "      <th>2</th>\n",
       "      <td>1</td>\n",
       "      <td>1</td>\n",
       "      <td>Nantucket Nectar</td>\n",
       "      <td>[Apple]</td>\n",
       "      <td>3.39</td>\n",
       "    </tr>\n",
       "    <tr>\n",
       "      <th>3</th>\n",
       "      <td>1</td>\n",
       "      <td>1</td>\n",
       "      <td>Chips and Tomatillo-Green Chili Salsa</td>\n",
       "      <td>NaN</td>\n",
       "      <td>2.39</td>\n",
       "    </tr>\n",
       "    <tr>\n",
       "      <th>4</th>\n",
       "      <td>2</td>\n",
       "      <td>2</td>\n",
       "      <td>Chicken Bowl</td>\n",
       "      <td>[Tomatillo-Red Chili Salsa (Hot), [Black Beans...</td>\n",
       "      <td>16.98</td>\n",
       "    </tr>\n",
       "  </tbody>\n",
       "</table>\n",
       "</div>"
      ],
      "text/plain": [
       "   order_id  quantity                              item_name  \\\n",
       "0         1         1           Chips and Fresh Tomato Salsa   \n",
       "1         1         1                                   Izze   \n",
       "2         1         1                       Nantucket Nectar   \n",
       "3         1         1  Chips and Tomatillo-Green Chili Salsa   \n",
       "4         2         2                           Chicken Bowl   \n",
       "\n",
       "                                  choice_description  item_price  \n",
       "0                                                NaN        2.39  \n",
       "1                                       [Clementine]        3.39  \n",
       "2                                            [Apple]        3.39  \n",
       "3                                                NaN        2.39  \n",
       "4  [Tomatillo-Red Chili Salsa (Hot), [Black Beans...       16.98  "
      ]
     },
     "execution_count": 39,
     "metadata": {},
     "output_type": "execute_result"
    }
   ],
   "source": [
    "df.head()"
   ]
  },
  {
   "cell_type": "code",
   "execution_count": 40,
   "id": "6c4a2c7f",
   "metadata": {},
   "outputs": [],
   "source": [
    "df[\"total_price\"] = df[\"quantity\"] * df[\"item_price\"]"
   ]
  },
  {
   "cell_type": "code",
   "execution_count": 41,
   "id": "d5256bc8",
   "metadata": {},
   "outputs": [
    {
     "data": {
      "application/vnd.microsoft.datawrangler.viewer.v0+json": {
       "columns": [
        {
         "name": "index",
         "rawType": "int64",
         "type": "integer"
        },
        {
         "name": "order_id",
         "rawType": "int64",
         "type": "integer"
        },
        {
         "name": "quantity",
         "rawType": "int64",
         "type": "integer"
        },
        {
         "name": "item_name",
         "rawType": "object",
         "type": "string"
        },
        {
         "name": "choice_description",
         "rawType": "object",
         "type": "unknown"
        },
        {
         "name": "item_price",
         "rawType": "float64",
         "type": "float"
        },
        {
         "name": "total_price",
         "rawType": "float64",
         "type": "float"
        }
       ],
       "ref": "1469e6d9-f227-4e4b-8417-1591e8e6e8c7",
       "rows": [
        [
         "0",
         "1",
         "1",
         "Chips and Fresh Tomato Salsa",
         null,
         "2.39",
         "2.39"
        ],
        [
         "1",
         "1",
         "1",
         "Izze",
         "[Clementine]",
         "3.39",
         "3.39"
        ],
        [
         "2",
         "1",
         "1",
         "Nantucket Nectar",
         "[Apple]",
         "3.39",
         "3.39"
        ],
        [
         "3",
         "1",
         "1",
         "Chips and Tomatillo-Green Chili Salsa",
         null,
         "2.39",
         "2.39"
        ],
        [
         "4",
         "2",
         "2",
         "Chicken Bowl",
         "[Tomatillo-Red Chili Salsa (Hot), [Black Beans, Rice, Cheese, Sour Cream]]",
         "16.98",
         "33.96"
        ]
       ],
       "shape": {
        "columns": 6,
        "rows": 5
       }
      },
      "text/html": [
       "<div>\n",
       "<style scoped>\n",
       "    .dataframe tbody tr th:only-of-type {\n",
       "        vertical-align: middle;\n",
       "    }\n",
       "\n",
       "    .dataframe tbody tr th {\n",
       "        vertical-align: top;\n",
       "    }\n",
       "\n",
       "    .dataframe thead th {\n",
       "        text-align: right;\n",
       "    }\n",
       "</style>\n",
       "<table border=\"1\" class=\"dataframe\">\n",
       "  <thead>\n",
       "    <tr style=\"text-align: right;\">\n",
       "      <th></th>\n",
       "      <th>order_id</th>\n",
       "      <th>quantity</th>\n",
       "      <th>item_name</th>\n",
       "      <th>choice_description</th>\n",
       "      <th>item_price</th>\n",
       "      <th>total_price</th>\n",
       "    </tr>\n",
       "  </thead>\n",
       "  <tbody>\n",
       "    <tr>\n",
       "      <th>0</th>\n",
       "      <td>1</td>\n",
       "      <td>1</td>\n",
       "      <td>Chips and Fresh Tomato Salsa</td>\n",
       "      <td>NaN</td>\n",
       "      <td>2.39</td>\n",
       "      <td>2.39</td>\n",
       "    </tr>\n",
       "    <tr>\n",
       "      <th>1</th>\n",
       "      <td>1</td>\n",
       "      <td>1</td>\n",
       "      <td>Izze</td>\n",
       "      <td>[Clementine]</td>\n",
       "      <td>3.39</td>\n",
       "      <td>3.39</td>\n",
       "    </tr>\n",
       "    <tr>\n",
       "      <th>2</th>\n",
       "      <td>1</td>\n",
       "      <td>1</td>\n",
       "      <td>Nantucket Nectar</td>\n",
       "      <td>[Apple]</td>\n",
       "      <td>3.39</td>\n",
       "      <td>3.39</td>\n",
       "    </tr>\n",
       "    <tr>\n",
       "      <th>3</th>\n",
       "      <td>1</td>\n",
       "      <td>1</td>\n",
       "      <td>Chips and Tomatillo-Green Chili Salsa</td>\n",
       "      <td>NaN</td>\n",
       "      <td>2.39</td>\n",
       "      <td>2.39</td>\n",
       "    </tr>\n",
       "    <tr>\n",
       "      <th>4</th>\n",
       "      <td>2</td>\n",
       "      <td>2</td>\n",
       "      <td>Chicken Bowl</td>\n",
       "      <td>[Tomatillo-Red Chili Salsa (Hot), [Black Beans...</td>\n",
       "      <td>16.98</td>\n",
       "      <td>33.96</td>\n",
       "    </tr>\n",
       "  </tbody>\n",
       "</table>\n",
       "</div>"
      ],
      "text/plain": [
       "   order_id  quantity                              item_name  \\\n",
       "0         1         1           Chips and Fresh Tomato Salsa   \n",
       "1         1         1                                   Izze   \n",
       "2         1         1                       Nantucket Nectar   \n",
       "3         1         1  Chips and Tomatillo-Green Chili Salsa   \n",
       "4         2         2                           Chicken Bowl   \n",
       "\n",
       "                                  choice_description  item_price  total_price  \n",
       "0                                                NaN        2.39         2.39  \n",
       "1                                       [Clementine]        3.39         3.39  \n",
       "2                                            [Apple]        3.39         3.39  \n",
       "3                                                NaN        2.39         2.39  \n",
       "4  [Tomatillo-Red Chili Salsa (Hot), [Black Beans...       16.98        33.96  "
      ]
     },
     "execution_count": 41,
     "metadata": {},
     "output_type": "execute_result"
    }
   ],
   "source": [
    "df.head()"
   ]
  },
  {
   "cell_type": "code",
   "execution_count": null,
   "id": "187ee7da",
   "metadata": {},
   "outputs": [
    {
     "name": "stdout",
     "output_type": "stream",
     "text": [
      "39237.02\n"
     ]
    }
   ],
   "source": [
    "\"\"\"\n",
    "How much was the revenue for the period in the dataset?\n",
    "\"\"\"\n",
    "revenue = df[\"total_price\"].sum()\n",
    "print(revenue)"
   ]
  },
  {
   "cell_type": "markdown",
   "id": "e2cb2e53",
   "metadata": {},
   "source": [
    "#### `Group by`"
   ]
  },
  {
   "cell_type": "code",
   "execution_count": 47,
   "id": "0560c1b0",
   "metadata": {},
   "outputs": [],
   "source": [
    "\"\"\"\n",
    "Which was the most-ordered item?\n",
    "\"\"\"\n",
    "c = df.groupby(\"item_name\")[\"quantity\"].sum()"
   ]
  },
  {
   "cell_type": "code",
   "execution_count": 49,
   "id": "c674933a",
   "metadata": {},
   "outputs": [
    {
     "data": {
      "application/vnd.microsoft.datawrangler.viewer.v0+json": {
       "columns": [
        {
         "name": "item_name",
         "rawType": "object",
         "type": "string"
        },
        {
         "name": "quantity",
         "rawType": "int64",
         "type": "integer"
        }
       ],
       "ref": "ae906c6e-efbc-43c9-94af-dfe93fb0c17f",
       "rows": [
        [
         "Chicken Bowl",
         "761"
        ],
        [
         "Chicken Burrito",
         "591"
        ],
        [
         "Chips and Guacamole",
         "506"
        ],
        [
         "Steak Burrito",
         "386"
        ],
        [
         "Canned Soft Drink",
         "351"
        ],
        [
         "Chips",
         "230"
        ],
        [
         "Steak Bowl",
         "221"
        ],
        [
         "Bottled Water",
         "211"
        ],
        [
         "Chips and Fresh Tomato Salsa",
         "130"
        ],
        [
         "Canned Soda",
         "126"
        ],
        [
         "Chicken Salad Bowl",
         "123"
        ],
        [
         "Chicken Soft Tacos",
         "120"
        ],
        [
         "Side of Chips",
         "110"
        ],
        [
         "Veggie Burrito",
         "97"
        ],
        [
         "Barbacoa Burrito",
         "91"
        ],
        [
         "Veggie Bowl",
         "87"
        ],
        [
         "Carnitas Bowl",
         "71"
        ],
        [
         "Barbacoa Bowl",
         "66"
        ],
        [
         "Carnitas Burrito",
         "60"
        ],
        [
         "Steak Soft Tacos",
         "56"
        ],
        [
         "6 Pack Soft Drink",
         "55"
        ],
        [
         "Chicken Crispy Tacos",
         "50"
        ],
        [
         "Chips and Tomatillo Red Chili Salsa",
         "50"
        ],
        [
         "Chips and Tomatillo Green Chili Salsa",
         "45"
        ],
        [
         "Carnitas Soft Tacos",
         "40"
        ],
        [
         "Steak Crispy Tacos",
         "36"
        ],
        [
         "Chips and Tomatillo-Green Chili Salsa",
         "33"
        ],
        [
         "Steak Salad Bowl",
         "31"
        ],
        [
         "Nantucket Nectar",
         "29"
        ],
        [
         "Chips and Tomatillo-Red Chili Salsa",
         "25"
        ],
        [
         "Barbacoa Soft Tacos",
         "25"
        ],
        [
         "Chips and Roasted Chili Corn Salsa",
         "23"
        ],
        [
         "Izze",
         "20"
        ],
        [
         "Veggie Salad Bowl",
         "18"
        ],
        [
         "Chips and Roasted Chili-Corn Salsa",
         "18"
        ],
        [
         "Barbacoa Crispy Tacos",
         "12"
        ],
        [
         "Barbacoa Salad Bowl",
         "10"
        ],
        [
         "Chicken Salad",
         "9"
        ],
        [
         "Carnitas Crispy Tacos",
         "8"
        ],
        [
         "Veggie Soft Tacos",
         "8"
        ],
        [
         "Burrito",
         "6"
        ],
        [
         "Carnitas Salad Bowl",
         "6"
        ],
        [
         "Veggie Salad",
         "6"
        ],
        [
         "Bowl",
         "4"
        ],
        [
         "Steak Salad",
         "4"
        ],
        [
         "Salad",
         "2"
        ],
        [
         "Crispy Tacos",
         "2"
        ],
        [
         "Carnitas Salad",
         "1"
        ],
        [
         "Chips and Mild Fresh Tomato Salsa",
         "1"
        ],
        [
         "Veggie Crispy Tacos",
         "1"
        ]
       ],
       "shape": {
        "columns": 1,
        "rows": 50
       }
      },
      "text/plain": [
       "item_name\n",
       "Chicken Bowl                             761\n",
       "Chicken Burrito                          591\n",
       "Chips and Guacamole                      506\n",
       "Steak Burrito                            386\n",
       "Canned Soft Drink                        351\n",
       "Chips                                    230\n",
       "Steak Bowl                               221\n",
       "Bottled Water                            211\n",
       "Chips and Fresh Tomato Salsa             130\n",
       "Canned Soda                              126\n",
       "Chicken Salad Bowl                       123\n",
       "Chicken Soft Tacos                       120\n",
       "Side of Chips                            110\n",
       "Veggie Burrito                            97\n",
       "Barbacoa Burrito                          91\n",
       "Veggie Bowl                               87\n",
       "Carnitas Bowl                             71\n",
       "Barbacoa Bowl                             66\n",
       "Carnitas Burrito                          60\n",
       "Steak Soft Tacos                          56\n",
       "6 Pack Soft Drink                         55\n",
       "Chicken Crispy Tacos                      50\n",
       "Chips and Tomatillo Red Chili Salsa       50\n",
       "Chips and Tomatillo Green Chili Salsa     45\n",
       "Carnitas Soft Tacos                       40\n",
       "Steak Crispy Tacos                        36\n",
       "Chips and Tomatillo-Green Chili Salsa     33\n",
       "Steak Salad Bowl                          31\n",
       "Nantucket Nectar                          29\n",
       "Chips and Tomatillo-Red Chili Salsa       25\n",
       "Barbacoa Soft Tacos                       25\n",
       "Chips and Roasted Chili Corn Salsa        23\n",
       "Izze                                      20\n",
       "Veggie Salad Bowl                         18\n",
       "Chips and Roasted Chili-Corn Salsa        18\n",
       "Barbacoa Crispy Tacos                     12\n",
       "Barbacoa Salad Bowl                       10\n",
       "Chicken Salad                              9\n",
       "Carnitas Crispy Tacos                      8\n",
       "Veggie Soft Tacos                          8\n",
       "Burrito                                    6\n",
       "Carnitas Salad Bowl                        6\n",
       "Veggie Salad                               6\n",
       "Bowl                                       4\n",
       "Steak Salad                                4\n",
       "Salad                                      2\n",
       "Crispy Tacos                               2\n",
       "Carnitas Salad                             1\n",
       "Chips and Mild Fresh Tomato Salsa          1\n",
       "Veggie Crispy Tacos                        1\n",
       "Name: quantity, dtype: int64"
      ]
     },
     "execution_count": 49,
     "metadata": {},
     "output_type": "execute_result"
    }
   ],
   "source": [
    "c.sort_values(ascending=False)"
   ]
  },
  {
   "cell_type": "code",
   "execution_count": 50,
   "id": "a62c3078",
   "metadata": {},
   "outputs": [
    {
     "data": {
      "application/vnd.microsoft.datawrangler.viewer.v0+json": {
       "columns": [
        {
         "name": "item_name",
         "rawType": "object",
         "type": "string"
        },
        {
         "name": "count",
         "rawType": "int64",
         "type": "integer"
        }
       ],
       "ref": "ef7f478b-d67c-4256-91d2-2b80103fc66e",
       "rows": [
        [
         "Chicken Bowl",
         "726"
        ],
        [
         "Chicken Burrito",
         "553"
        ],
        [
         "Chips and Guacamole",
         "479"
        ],
        [
         "Steak Burrito",
         "368"
        ],
        [
         "Canned Soft Drink",
         "301"
        ],
        [
         "Chips",
         "211"
        ],
        [
         "Steak Bowl",
         "211"
        ],
        [
         "Bottled Water",
         "162"
        ],
        [
         "Chicken Soft Tacos",
         "115"
        ],
        [
         "Chips and Fresh Tomato Salsa",
         "110"
        ],
        [
         "Chicken Salad Bowl",
         "110"
        ],
        [
         "Canned Soda",
         "104"
        ],
        [
         "Side of Chips",
         "101"
        ],
        [
         "Veggie Burrito",
         "95"
        ],
        [
         "Barbacoa Burrito",
         "91"
        ],
        [
         "Veggie Bowl",
         "85"
        ],
        [
         "Carnitas Bowl",
         "68"
        ],
        [
         "Barbacoa Bowl",
         "66"
        ],
        [
         "Carnitas Burrito",
         "59"
        ],
        [
         "Steak Soft Tacos",
         "55"
        ],
        [
         "6 Pack Soft Drink",
         "54"
        ],
        [
         "Chips and Tomatillo Red Chili Salsa",
         "48"
        ],
        [
         "Chicken Crispy Tacos",
         "47"
        ],
        [
         "Chips and Tomatillo Green Chili Salsa",
         "43"
        ],
        [
         "Carnitas Soft Tacos",
         "40"
        ],
        [
         "Steak Crispy Tacos",
         "35"
        ],
        [
         "Chips and Tomatillo-Green Chili Salsa",
         "31"
        ],
        [
         "Steak Salad Bowl",
         "29"
        ],
        [
         "Nantucket Nectar",
         "27"
        ],
        [
         "Barbacoa Soft Tacos",
         "25"
        ],
        [
         "Chips and Roasted Chili Corn Salsa",
         "22"
        ],
        [
         "Izze",
         "20"
        ],
        [
         "Chips and Tomatillo-Red Chili Salsa",
         "20"
        ],
        [
         "Veggie Salad Bowl",
         "18"
        ],
        [
         "Chips and Roasted Chili-Corn Salsa",
         "18"
        ],
        [
         "Barbacoa Crispy Tacos",
         "11"
        ],
        [
         "Barbacoa Salad Bowl",
         "10"
        ],
        [
         "Chicken Salad",
         "9"
        ],
        [
         "Veggie Soft Tacos",
         "7"
        ],
        [
         "Carnitas Crispy Tacos",
         "7"
        ],
        [
         "Burrito",
         "6"
        ],
        [
         "Carnitas Salad Bowl",
         "6"
        ],
        [
         "Veggie Salad",
         "6"
        ],
        [
         "Steak Salad",
         "4"
        ],
        [
         "Crispy Tacos",
         "2"
        ],
        [
         "Bowl",
         "2"
        ],
        [
         "Salad",
         "2"
        ],
        [
         "Chips and Mild Fresh Tomato Salsa",
         "1"
        ],
        [
         "Veggie Crispy Tacos",
         "1"
        ],
        [
         "Carnitas Salad",
         "1"
        ]
       ],
       "shape": {
        "columns": 1,
        "rows": 50
       }
      },
      "text/plain": [
       "item_name\n",
       "Chicken Bowl                             726\n",
       "Chicken Burrito                          553\n",
       "Chips and Guacamole                      479\n",
       "Steak Burrito                            368\n",
       "Canned Soft Drink                        301\n",
       "Chips                                    211\n",
       "Steak Bowl                               211\n",
       "Bottled Water                            162\n",
       "Chicken Soft Tacos                       115\n",
       "Chips and Fresh Tomato Salsa             110\n",
       "Chicken Salad Bowl                       110\n",
       "Canned Soda                              104\n",
       "Side of Chips                            101\n",
       "Veggie Burrito                            95\n",
       "Barbacoa Burrito                          91\n",
       "Veggie Bowl                               85\n",
       "Carnitas Bowl                             68\n",
       "Barbacoa Bowl                             66\n",
       "Carnitas Burrito                          59\n",
       "Steak Soft Tacos                          55\n",
       "6 Pack Soft Drink                         54\n",
       "Chips and Tomatillo Red Chili Salsa       48\n",
       "Chicken Crispy Tacos                      47\n",
       "Chips and Tomatillo Green Chili Salsa     43\n",
       "Carnitas Soft Tacos                       40\n",
       "Steak Crispy Tacos                        35\n",
       "Chips and Tomatillo-Green Chili Salsa     31\n",
       "Steak Salad Bowl                          29\n",
       "Nantucket Nectar                          27\n",
       "Barbacoa Soft Tacos                       25\n",
       "Chips and Roasted Chili Corn Salsa        22\n",
       "Izze                                      20\n",
       "Chips and Tomatillo-Red Chili Salsa       20\n",
       "Veggie Salad Bowl                         18\n",
       "Chips and Roasted Chili-Corn Salsa        18\n",
       "Barbacoa Crispy Tacos                     11\n",
       "Barbacoa Salad Bowl                       10\n",
       "Chicken Salad                              9\n",
       "Veggie Soft Tacos                          7\n",
       "Carnitas Crispy Tacos                      7\n",
       "Burrito                                    6\n",
       "Carnitas Salad Bowl                        6\n",
       "Veggie Salad                               6\n",
       "Steak Salad                                4\n",
       "Crispy Tacos                               2\n",
       "Bowl                                       2\n",
       "Salad                                      2\n",
       "Chips and Mild Fresh Tomato Salsa          1\n",
       "Veggie Crispy Tacos                        1\n",
       "Carnitas Salad                             1\n",
       "Name: count, dtype: int64"
      ]
     },
     "execution_count": 50,
     "metadata": {},
     "output_type": "execute_result"
    }
   ],
   "source": [
    "# Unique Value\n",
    "df[\"item_name\"].value_counts()"
   ]
  },
  {
   "cell_type": "code",
   "execution_count": 51,
   "id": "332aa3a8",
   "metadata": {},
   "outputs": [
    {
     "data": {
      "text/plain": [
       "np.int64(50)"
      ]
     },
     "execution_count": 51,
     "metadata": {},
     "output_type": "execute_result"
    }
   ],
   "source": [
    "df[\"item_name\"].value_counts().count()"
   ]
  },
  {
   "cell_type": "code",
   "execution_count": 52,
   "id": "5a1e734d",
   "metadata": {},
   "outputs": [
    {
     "data": {
      "text/plain": [
       "50"
      ]
     },
     "execution_count": 52,
     "metadata": {},
     "output_type": "execute_result"
    }
   ],
   "source": [
    "df[\"item_name\"].nunique()"
   ]
  },
  {
   "cell_type": "markdown",
   "id": "8c9cefd2",
   "metadata": {},
   "source": [
    "#### `Cleaning Empty Cells`"
   ]
  },
  {
   "cell_type": "markdown",
   "id": "df862f79",
   "metadata": {},
   "source": [
    "##### `dropna()`"
   ]
  },
  {
   "cell_type": "code",
   "execution_count": null,
   "id": "1655cf87",
   "metadata": {},
   "outputs": [
    {
     "name": "stdout",
     "output_type": "stream",
     "text": [
      "<class 'pandas.core.frame.DataFrame'>\n",
      "Index: 3376 entries, 1 to 4621\n",
      "Data columns (total 6 columns):\n",
      " #   Column              Non-Null Count  Dtype  \n",
      "---  ------              --------------  -----  \n",
      " 0   order_id            3376 non-null   int64  \n",
      " 1   quantity            3376 non-null   int64  \n",
      " 2   item_name           3376 non-null   object \n",
      " 3   choice_description  3376 non-null   object \n",
      " 4   item_price          3376 non-null   float64\n",
      " 5   total_price         3376 non-null   float64\n",
      "dtypes: float64(2), int64(2), object(2)\n",
      "memory usage: 184.6+ KB\n"
     ]
    }
   ],
   "source": [
    "df = pd.read_csv(\"chipotle.tsv\", sep=\"\\t\")\n",
    "\n",
    "new_df = df.dropna()\n",
    "new_df.info()"
   ]
  },
  {
   "cell_type": "code",
   "execution_count": 54,
   "id": "0c3f96f9",
   "metadata": {},
   "outputs": [
    {
     "name": "stdout",
     "output_type": "stream",
     "text": [
      "<class 'pandas.core.frame.DataFrame'>\n",
      "Index: 3376 entries, 1 to 4621\n",
      "Data columns (total 6 columns):\n",
      " #   Column              Non-Null Count  Dtype  \n",
      "---  ------              --------------  -----  \n",
      " 0   order_id            3376 non-null   int64  \n",
      " 1   quantity            3376 non-null   int64  \n",
      " 2   item_name           3376 non-null   object \n",
      " 3   choice_description  3376 non-null   object \n",
      " 4   item_price          3376 non-null   float64\n",
      " 5   total_price         3376 non-null   float64\n",
      "dtypes: float64(2), int64(2), object(2)\n",
      "memory usage: 184.6+ KB\n"
     ]
    }
   ],
   "source": [
    "\"\"\"\n",
    "By default, the dropna() method returns a new DataFrame, and will not change the original.\n",
    "If you want to change the original DataFrame, use the inplace = True argument.\n",
    "\"\"\"\n",
    "df.dropna(inplace=True)\n",
    "df.info()"
   ]
  },
  {
   "cell_type": "markdown",
   "id": "e89a238b",
   "metadata": {},
   "source": [
    "##### `fillna()`"
   ]
  },
  {
   "cell_type": "code",
   "execution_count": 56,
   "id": "8b6dc51e",
   "metadata": {},
   "outputs": [
    {
     "data": {
      "application/vnd.microsoft.datawrangler.viewer.v0+json": {
       "columns": [
        {
         "name": "index",
         "rawType": "int64",
         "type": "integer"
        },
        {
         "name": "order_id",
         "rawType": "int64",
         "type": "integer"
        },
        {
         "name": "quantity",
         "rawType": "int64",
         "type": "integer"
        },
        {
         "name": "item_name",
         "rawType": "object",
         "type": "string"
        },
        {
         "name": "choice_description",
         "rawType": "object",
         "type": "string"
        },
        {
         "name": "item_price",
         "rawType": "object",
         "type": "string"
        }
       ],
       "ref": "534a35a1-1522-4161-a97f-7adad846d0f2",
       "rows": [
        [
         "0",
         "1",
         "1",
         "Chips and Fresh Tomato Salsa",
         "Unknow",
         "$2.39 "
        ],
        [
         "1",
         "1",
         "1",
         "Izze",
         "[Clementine]",
         "$3.39 "
        ],
        [
         "2",
         "1",
         "1",
         "Nantucket Nectar",
         "[Apple]",
         "$3.39 "
        ],
        [
         "3",
         "1",
         "1",
         "Chips and Tomatillo-Green Chili Salsa",
         "Unknow",
         "$2.39 "
        ],
        [
         "4",
         "2",
         "2",
         "Chicken Bowl",
         "[Tomatillo-Red Chili Salsa (Hot), [Black Beans, Rice, Cheese, Sour Cream]]",
         "$16.98 "
        ]
       ],
       "shape": {
        "columns": 5,
        "rows": 5
       }
      },
      "text/html": [
       "<div>\n",
       "<style scoped>\n",
       "    .dataframe tbody tr th:only-of-type {\n",
       "        vertical-align: middle;\n",
       "    }\n",
       "\n",
       "    .dataframe tbody tr th {\n",
       "        vertical-align: top;\n",
       "    }\n",
       "\n",
       "    .dataframe thead th {\n",
       "        text-align: right;\n",
       "    }\n",
       "</style>\n",
       "<table border=\"1\" class=\"dataframe\">\n",
       "  <thead>\n",
       "    <tr style=\"text-align: right;\">\n",
       "      <th></th>\n",
       "      <th>order_id</th>\n",
       "      <th>quantity</th>\n",
       "      <th>item_name</th>\n",
       "      <th>choice_description</th>\n",
       "      <th>item_price</th>\n",
       "    </tr>\n",
       "  </thead>\n",
       "  <tbody>\n",
       "    <tr>\n",
       "      <th>0</th>\n",
       "      <td>1</td>\n",
       "      <td>1</td>\n",
       "      <td>Chips and Fresh Tomato Salsa</td>\n",
       "      <td>Unknow</td>\n",
       "      <td>$2.39</td>\n",
       "    </tr>\n",
       "    <tr>\n",
       "      <th>1</th>\n",
       "      <td>1</td>\n",
       "      <td>1</td>\n",
       "      <td>Izze</td>\n",
       "      <td>[Clementine]</td>\n",
       "      <td>$3.39</td>\n",
       "    </tr>\n",
       "    <tr>\n",
       "      <th>2</th>\n",
       "      <td>1</td>\n",
       "      <td>1</td>\n",
       "      <td>Nantucket Nectar</td>\n",
       "      <td>[Apple]</td>\n",
       "      <td>$3.39</td>\n",
       "    </tr>\n",
       "    <tr>\n",
       "      <th>3</th>\n",
       "      <td>1</td>\n",
       "      <td>1</td>\n",
       "      <td>Chips and Tomatillo-Green Chili Salsa</td>\n",
       "      <td>Unknow</td>\n",
       "      <td>$2.39</td>\n",
       "    </tr>\n",
       "    <tr>\n",
       "      <th>4</th>\n",
       "      <td>2</td>\n",
       "      <td>2</td>\n",
       "      <td>Chicken Bowl</td>\n",
       "      <td>[Tomatillo-Red Chili Salsa (Hot), [Black Beans...</td>\n",
       "      <td>$16.98</td>\n",
       "    </tr>\n",
       "  </tbody>\n",
       "</table>\n",
       "</div>"
      ],
      "text/plain": [
       "   order_id  quantity                              item_name  \\\n",
       "0         1         1           Chips and Fresh Tomato Salsa   \n",
       "1         1         1                                   Izze   \n",
       "2         1         1                       Nantucket Nectar   \n",
       "3         1         1  Chips and Tomatillo-Green Chili Salsa   \n",
       "4         2         2                           Chicken Bowl   \n",
       "\n",
       "                                  choice_description item_price  \n",
       "0                                             Unknow     $2.39   \n",
       "1                                       [Clementine]     $3.39   \n",
       "2                                            [Apple]     $3.39   \n",
       "3                                             Unknow     $2.39   \n",
       "4  [Tomatillo-Red Chili Salsa (Hot), [Black Beans...    $16.98   "
      ]
     },
     "execution_count": 56,
     "metadata": {},
     "output_type": "execute_result"
    }
   ],
   "source": [
    "df = pd.read_csv(\"chipotle.tsv\", sep=\"\\t\")\n",
    "\n",
    "df.fillna(\"Unknow\", inplace=True)\n",
    "df.head()"
   ]
  },
  {
   "cell_type": "code",
   "execution_count": 57,
   "id": "9f1d25d1",
   "metadata": {},
   "outputs": [
    {
     "name": "stdout",
     "output_type": "stream",
     "text": [
      "<class 'pandas.core.frame.DataFrame'>\n",
      "RangeIndex: 4622 entries, 0 to 4621\n",
      "Data columns (total 5 columns):\n",
      " #   Column              Non-Null Count  Dtype \n",
      "---  ------              --------------  ----- \n",
      " 0   order_id            4622 non-null   int64 \n",
      " 1   quantity            4622 non-null   int64 \n",
      " 2   item_name           4622 non-null   object\n",
      " 3   choice_description  4622 non-null   object\n",
      " 4   item_price          4622 non-null   object\n",
      "dtypes: int64(2), object(3)\n",
      "memory usage: 180.7+ KB\n"
     ]
    }
   ],
   "source": [
    "df = pd.read_csv(\"chipotle.tsv\", sep=\"\\t\")\n",
    "df.fillna({\"choice_description\" : \"Unknow\"}, inplace=True)\n",
    "df.info()"
   ]
  }
 ],
 "metadata": {
  "kernelspec": {
   "display_name": "Python 3",
   "language": "python",
   "name": "python3"
  },
  "language_info": {
   "codemirror_mode": {
    "name": "ipython",
    "version": 3
   },
   "file_extension": ".py",
   "mimetype": "text/x-python",
   "name": "python",
   "nbconvert_exporter": "python",
   "pygments_lexer": "ipython3",
   "version": "3.13.0"
  }
 },
 "nbformat": 4,
 "nbformat_minor": 5
}
