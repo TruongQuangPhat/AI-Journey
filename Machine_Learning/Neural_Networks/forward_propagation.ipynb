{
 "cells": [
  {
   "cell_type": "code",
   "execution_count": 6,
   "id": "f62884c6",
   "metadata": {},
   "outputs": [],
   "source": [
    "import numpy as np"
   ]
  },
  {
   "cell_type": "code",
   "execution_count": 7,
   "id": "26598141",
   "metadata": {},
   "outputs": [],
   "source": [
    "# Activation Function\n",
    "\n",
    "def sigmoid(x):\n",
    "    return 1 / (1 + np.exp(-x))\n",
    "\n",
    "def relu(x):\n",
    "    return np.maximum(0, x)"
   ]
  },
  {
   "cell_type": "code",
   "execution_count": 8,
   "id": "70fc253a",
   "metadata": {},
   "outputs": [],
   "source": [
    "# Dense\n",
    "def Dense(a_in, W, b, activation=\"sigmoid\"):\n",
    "    \"\"\"\n",
    "    a_in: input vector (n_in, )\n",
    "    W: weight matrix (n_in, n_out)\n",
    "    b: bias vector (n_out, )\n",
    "    activation: sigmoid or relu\n",
    "    \"\"\"\n",
    "    z = a_in @ W + b # (n_out, )\n",
    "    if activation == \"sigmoid\":\n",
    "        return sigmoid(z)\n",
    "    elif activation == \"relu\":\n",
    "        return relu(z)\n",
    "    else:\n",
    "        return z"
   ]
  },
  {
   "cell_type": "code",
   "execution_count": 9,
   "id": "dc9c73fb",
   "metadata": {},
   "outputs": [],
   "source": [
    "# Sequential\n",
    "def Sequential(x, params):\n",
    "    \"\"\"\n",
    "    x: input vector\n",
    "    params: (W, b, activation)\n",
    "    \"\"\"\n",
    "    a = x\n",
    "    for (W, b, act) in params:\n",
    "        a = Dense(a, W, b, act)\n",
    "    return a"
   ]
  },
  {
   "cell_type": "code",
   "execution_count": 10,
   "id": "ecfc0e0a",
   "metadata": {},
   "outputs": [],
   "source": [
    "np.random.seed(0)\n",
    "\n",
    "x = np.array([[0.5, 0.1, 0.2], [0.1, 0.4, 0.6]])\n",
    "\n",
    "W1 = np.random.randn(3, 4)\n",
    "b1 = np.zeros(4)\n",
    "\n",
    "W2 = np.random.randn(4, 3)\n",
    "b2 = np.zeros(3)\n",
    "\n",
    "W3 = np.random.randn(3, 2)\n",
    "b3 = np.zeros(2)\n",
    "\n",
    "W4 = np.random.randn(2, 1)\n",
    "b4 = np.zeros(1)\n",
    "\n",
    "params = [\n",
    "    (W1, b1, \"relu\"),\n",
    "    (W2, b2, \"relu\"),\n",
    "    (W3, b3, \"relu\"),\n",
    "    (W4, b4, \"sigmoid\")\n",
    "]"
   ]
  },
  {
   "cell_type": "code",
   "execution_count": 11,
   "id": "2ae83e9d",
   "metadata": {},
   "outputs": [
    {
     "name": "stdout",
     "output_type": "stream",
     "text": [
      "Output:  [[0.66781967]\n",
      " [0.63054743]]\n"
     ]
    }
   ],
   "source": [
    "output = Sequential(x, params)\n",
    "print(\"Output: \", output)"
   ]
  }
 ],
 "metadata": {
  "kernelspec": {
   "display_name": "Python 3",
   "language": "python",
   "name": "python3"
  },
  "language_info": {
   "codemirror_mode": {
    "name": "ipython",
    "version": 3
   },
   "file_extension": ".py",
   "mimetype": "text/x-python",
   "name": "python",
   "nbconvert_exporter": "python",
   "pygments_lexer": "ipython3",
   "version": "3.13.0"
  }
 },
 "nbformat": 4,
 "nbformat_minor": 5
}
