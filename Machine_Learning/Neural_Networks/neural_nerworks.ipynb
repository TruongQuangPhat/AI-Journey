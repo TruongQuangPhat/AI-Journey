{
 "cells": [
  {
   "cell_type": "markdown",
   "id": "c4b69f48",
   "metadata": {},
   "source": [
    "### Neural Networks\n",
    "Neural networks are machine learning models that mimic the complex functions of the human brain. These models consist of interconnected nodes or neurons that process data, learn patterns and enable tasks such as pattern recognition and decision-making. \n",
    "In this article, we will explore the fundamentals of neural networks, their architecture, how they work and their applications in various fields. Understanding neural networks is essential for anyone interested in the advancements of artificial intelligence.\n",
    "<p align=\"center\">\n",
    "  <img src=\"1.webp\" alt=\"1\" width=\"400\"/>\n",
    "  <img src=\"2.webp\" alt=\"2\" width=\"400\"/>\n",
    "  <img src=\"3.webp\" alt=\"3\" width=\"400\"/>\n",
    "  <img src=\"4.webp\" alt=\"4\" width=\"400\"/>\n",
    "</p>\n",
    "\n",
    "### Understanding Neural Networks in Deep Learning\n",
    "Neural networks are capable of learning and identifying patterns directly from data without pre-defined rules. These networks are built from several key components:\n",
    "  1. `Neurons`: The basic units that receive inputs, each neuron is governed by a threshold and an activation function.\n",
    "  2. `Connections`: Links between neurons that carry information, regulated by weights and biases.\n",
    "  3. `Weights and Biases`: These parameters determine the strength and influence of connections.\n",
    "  4. `Propagation Functions`: Mechanisms that help process and transfer data across layers of neurons.\n",
    "  5. `Learning Rule`: The method that adjusts weights and biases over time to improve accuracy.\n",
    "#### Learning in neural networks follows a structured, three-stage process:\n",
    "  1. `Input Computation`: Data is fed into the network.\n",
    "  2. `Output Generation`: Based on the current parameters, the network generates an output.\n",
    "  3. `Iterative Refinement`: The network refines its output by adjusting weights and biases, gradually improving its performance on diverse tasks.\n",
    "#### In an adaptive learning environment:\n",
    "  - The neural network is exposed to a simulated scenario or dataset.\n",
    "  - Parameters such as weights and biases are updated in response to new data or conditions.\n",
    "  - With each adjustment, the network’s response evolves allowing it to adapt effectively to different tasks or environments.\n",
    "#### Importance of Neural Networks\n",
    "Neural networks are important in identifying complex patterns, solving intricate challenges and adapting to dynamic environments. Their ability to learn from vast amounts of data is transformative, impacting technologies like **natural language processing, self-driving vehicles** and **automated decision-making**.\n",
    "Neural networks streamline processes, increase efficiency and support decision-making across various industries. As a backbone of artificial intelligence, they continue to drive innovation, shaping the future of technology.\n",
    "### Layers in Neural Network Architecture\n",
    "  1. `Input Layer`: This is where the network receives its input data. Each input neuron in the layer corresponds to a feature in the input data.\n",
    "  2. `Hidden Layers`: These layers perform most of the computalional heavy lifting. A neural network can have one or multiple hidden layers. Each layer consists of units (neurons) that transform the input into something that the output layer can use.\n",
    "  3. `Output Layer`: The final layer produces the output of the model. The format of these outputs varies depending on the speccific task like classification, regression.\n",
    "### Working of Neural Networks\n",
    "  1. `Forward Propagation`: When data is input into the network, it passes through the network in the forward direction, from the input layer through the hidden layers to the output layer. This process is known as forward propagation. Here's what happens during this phase:\n",
    "      - `Linear Transformation`: Each neuron in a layer receives inputs which are multiplied by the weights asscociated with the connections. These products are summed together and a bias is added to the sum. This can be represented mathematically as:\n",
    "      $$\n",
    "      z = w_1 x_1 + w_2 x_2 + \\cdots + w_n x_n + b\n",
    "      $$\n",
    "      - `Activation`: The result of the linear transformation (denoted as z) os then passed through an activation function. The activation function is crucial because it introduces non-linearity into the system, enabling the network to learn more complex patterns. Popular activation functions include ReLU, sigmoid and tanh.\n",
    "  2. `Backpropagation`: After forward propagation, the network evaluates its performance using a loss function which measures the difference between the actual output and the predicted output. The goal of training is to minimize this loss. This is where backpropagation comes into play:\n",
    "       - `Loss Calculation`: The network calculates the loss which provides a measure of error in the predictions. The loss function could vary; common choices are mean squared error for regression tasks or cross-entropt loss for classification.\n",
    "       - `Gradient Calculation`: The network computes the gradients of the loss function with respect to each weight and bias in the network. This involves applying the chain rule of calculus to find out how much each part of the output error can be attributed to each weight and bias.\n",
    "       - `Weight Update`: Once the gradient are calculated, the weights and biases are updated using an optimization algorithm like stochastic gradient descent (SGD). The weights are adjusted in the opposite direction of the gradient to minimize the loss. The size of the step taken in each update is determined by the learning rate.\n",
    "  3. `Iteration`: This process of forward propagation, loss calculation, backpropagation and weight update is repeated for many iterations over the dataset. Over time, this iterative process reduces the loss and the network's predictions become more accurate. Throgh these steps, neural networks can adapt their paramaters to better approximate the relationships in the data, thereby improving their performance in tasks such as classification, regression or any other predictive modeling."
   ]
  }
 ],
 "metadata": {
  "kernelspec": {
   "display_name": "Python 3",
   "language": "python",
   "name": "python3"
  },
  "language_info": {
   "codemirror_mode": {
    "name": "ipython",
    "version": 3
   },
   "file_extension": ".py",
   "mimetype": "text/x-python",
   "name": "python",
   "nbconvert_exporter": "python",
   "pygments_lexer": "ipython3",
   "version": "3.13.0"
  }
 },
 "nbformat": 4,
 "nbformat_minor": 5
}
